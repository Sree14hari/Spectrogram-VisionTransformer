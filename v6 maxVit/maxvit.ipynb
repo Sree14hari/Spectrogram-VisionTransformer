{
 "cells": [
  {
   "cell_type": "code",
   "execution_count": 1,
   "id": "3abc6d9c",
   "metadata": {},
   "outputs": [
    {
     "name": "stdout",
     "output_type": "stream",
     "text": [
      "Using device: cuda\n"
     ]
    }
   ],
   "source": [
    "# %%\n",
    "# =============================================================================\n",
    "# 1. IMPORTS AND CONFIGURATION\n",
    "# =============================================================================\n",
    "import torch\n",
    "import torch.nn as nn\n",
    "import torch.optim as optim\n",
    "from torch.utils.data import DataLoader, Dataset\n",
    "import torchvision.transforms as transforms\n",
    "from timm import create_model\n",
    "import os\n",
    "from PIL import Image\n",
    "import numpy as np\n",
    "from sklearn.metrics import accuracy_score, classification_report, confusion_matrix\n",
    "import matplotlib.pyplot as plt\n",
    "from tqdm import tqdm\n",
    "import warnings\n",
    "import seaborn as sns\n",
    "import json\n",
    "\n",
    "warnings.filterwarnings('ignore')\n",
    "\n",
    "# Configuration pointing to the timm model ID\n",
    "config = {\n",
    "    'base_dir': r'A:\\Speech Journal\\melspectrograms_dataset',\n",
    "    'model_name': 'maxvit_tiny_tf_224.in1k',  # CHANGED: Using the 224px version of MaxViT\n",
    "    'batch_size': 8,\n",
    "    'img_size': 224,  # KEPT: Your desired image size\n",
    "    'weight_decay': 0.01,\n",
    "    'epochs': 80,\n",
    "    'num_workers': 0,\n",
    "    'pin_memory': True,\n",
    "    'patience': 12,\n",
    "    'drop_rate': 0.4,\n",
    "    'head_lr': 1e-3,\n",
    "    'head_epochs': 10,\n",
    "    'full_train_lr': 5e-5,\n",
    "    'lr_warmup_epochs': 5,\n",
    "    'label_smoothing': 0.1,\n",
    "    'mixup_alpha': 0.4\n",
    "}\n",
    "\n",
    "# Check for GPU\n",
    "device = torch.device('cuda' if torch.cuda.is_available() else 'cpu')\n",
    "print(f\"Using device: {device}\")"
   ]
  },
  {
   "cell_type": "code",
   "execution_count": 2,
   "id": "d7d49a14",
   "metadata": {},
   "outputs": [
    {
     "name": "stdout",
     "output_type": "stream",
     "text": [
      "Using standard ImageNet normalization: mean=[0.485, 0.456, 0.406], std=[0.229, 0.224, 0.225]\n",
      "Found 4021 images in train set\n",
      "Classes: ['Dysarthia', 'Laryngitis', 'Laryngozele', 'Vox senilis', 'parkinson', 'spasmodische_dysphonie']\n",
      "Found 73 images in validation set\n",
      "Classes: ['Dysarthia', 'Laryngitis', 'Laryngozele', 'Vox senilis', 'parkinson', 'spasmodische_dysphonie']\n",
      "Number of classes: 6\n",
      "Feature dimension from timm model: 512\n",
      "✅ Model created successfully using the timm library!\n"
     ]
    }
   ],
   "source": [
    "# =============================================================================\n",
    "# 2. DATASET CLASS (No Changes Needed)\n",
    "# =============================================================================\n",
    "class MelSpectrogramDataset(Dataset):\n",
    "    def __init__(self, base_dir, split='train', transform=None):\n",
    "        self.split = split\n",
    "        self.transform = transform\n",
    "        self.data_dir = os.path.join(base_dir, split)\n",
    "        self.classes = sorted([d for d in os.listdir(self.data_dir)\n",
    "                               if os.path.isdir(os.path.join(self.data_dir, d))])\n",
    "        self.class_to_idx = {cls_name: i for i, cls_name in enumerate(self.classes)}\n",
    "        self.image_paths = []\n",
    "        self.labels = []\n",
    "\n",
    "        for class_name in self.classes:\n",
    "            class_dir = os.path.join(self.data_dir, class_name)\n",
    "            for img_file in os.listdir(class_dir):\n",
    "                if img_file.lower().endswith(('.png', '.jpg', '.jpeg')):\n",
    "                    self.image_paths.append(os.path.join(class_dir, img_file))\n",
    "                    self.labels.append(self.class_to_idx[class_name])\n",
    "\n",
    "        print(f\"Found {len(self.image_paths)} images in {split} set\")\n",
    "        print(f\"Classes: {self.classes}\")\n",
    "\n",
    "    def __len__(self):\n",
    "        return len(self.image_paths)\n",
    "\n",
    "    def __getitem__(self, idx):\n",
    "        img_path = self.image_paths[idx]\n",
    "        label = self.labels[idx]\n",
    "        image = Image.open(img_path).convert('RGB')\n",
    "        if self.transform:\n",
    "            image = self.transform(image)\n",
    "        return image, label\n",
    "\n",
    "# =============================================================================\n",
    "# 3. TRANSFORMS AND DATALOADERS\n",
    "# =============================================================================\n",
    "def get_enhanced_transforms(img_size):\n",
    "    # CHANGED: Use standard ImageNet normalization for timm models\n",
    "    mean = [0.485, 0.456, 0.406]\n",
    "    std = [0.229, 0.224, 0.225]\n",
    "    \n",
    "    print(f\"Using standard ImageNet normalization: mean={mean}, std={std}\")\n",
    "\n",
    "    train_transform = transforms.Compose([\n",
    "        transforms.Resize((img_size, img_size)),\n",
    "        transforms.RandomHorizontalFlip(p=0.5),\n",
    "        transforms.RandomRotation(degrees=10),\n",
    "        transforms.ColorJitter(brightness=0.2, contrast=0.2),\n",
    "        transforms.ToTensor(),\n",
    "        transforms.Normalize(mean=mean, std=std)\n",
    "    ])\n",
    "\n",
    "    val_transform = transforms.Compose([\n",
    "        transforms.Resize((img_size, img_size)),\n",
    "        transforms.ToTensor(),\n",
    "        transforms.Normalize(mean=mean, std=std)\n",
    "    ])\n",
    "\n",
    "    return train_transform, val_transform\n",
    "\n",
    "train_transform, val_transform = get_enhanced_transforms(config['img_size'])\n",
    "train_dataset = MelSpectrogramDataset(config['base_dir'], 'train', train_transform)\n",
    "val_dataset = MelSpectrogramDataset(config['base_dir'], 'validation', val_transform)\n",
    "\n",
    "train_loader = DataLoader(train_dataset, batch_size=config['batch_size'], shuffle=True, num_workers=config['num_workers'], pin_memory=config['pin_memory'])\n",
    "val_loader = DataLoader(val_dataset, batch_size=config['batch_size'], shuffle=False, num_workers=config['num_workers'], pin_memory=config['pin_memory'])\n",
    "\n",
    "num_classes = len(train_dataset.classes)\n",
    "print(f\"Number of classes: {num_classes}\")\n",
    "\n",
    "# =============================================================================\n",
    "# 4. AUGMENTATION (No Changes Needed)\n",
    "# =============================================================================\n",
    "class SpecAugment(nn.Module):\n",
    "    def __init__(self, freq_mask_param, time_mask_param, num_freq_masks=1, num_time_masks=1):\n",
    "        super(SpecAugment, self).__init__()\n",
    "        self.F, self.T = freq_mask_param, time_mask_param\n",
    "        self.num_freq_masks, self.num_time_masks = num_freq_masks, num_time_masks\n",
    "\n",
    "    def forward(self, x):\n",
    "        sh = x.shape\n",
    "        for _ in range(self.num_freq_masks):\n",
    "            f = np.random.uniform(0.0, self.F)\n",
    "            f0 = np.random.randint(0, sh[2] - int(f)) if sh[2] > int(f) else 0\n",
    "            x[:, :, f0:f0+int(f), :] = 0\n",
    "        for _ in range(self.num_time_masks):\n",
    "            t = np.random.uniform(0.0, self.T)\n",
    "            t0 = np.random.randint(0, sh[3] - int(t)) if sh[3] > int(t) else 0\n",
    "            x[:, :, :, t0:t0+int(t)] = 0\n",
    "        return x\n",
    "\n",
    "spec_augment = SpecAugment(freq_mask_param=25, time_mask_param=40).to(device)\n",
    "\n",
    "def mixup_data(x, y, alpha=1.0):\n",
    "    lam = np.random.beta(alpha, alpha) if alpha > 0 else 1\n",
    "    batch_size = x.size()[0]\n",
    "    index = torch.randperm(batch_size).to(device)\n",
    "    mixed_x = lam * x + (1 - lam) * x[index, :]\n",
    "    y_a, y_b = y, y[index]\n",
    "    return mixed_x, y_a, y_b, lam\n",
    "\n",
    "def mixup_criterion(criterion, pred, y_a, y_b, lam):\n",
    "    return lam * criterion(pred, y_a) + (1 - lam) * criterion(pred, y_b)\n",
    "\n",
    "# =============================================================================\n",
    "# 5. MODEL DEFINITION (Using timm)\n",
    "# =============================================================================\n",
    "# CHANGED: Replaced TransformersClassifier with TimmClassifier\n",
    "class TimmClassifier(nn.Module):\n",
    "    def __init__(self, model_name, num_classes, drop_rate=0.3):\n",
    "        super().__init__()\n",
    "        # Load the backbone using create_model from the timm library\n",
    "        self.backbone = create_model(\n",
    "            model_name,\n",
    "            pretrained=True,\n",
    "            num_classes=0  # Set to 0 to remove the final classifier\n",
    "        )\n",
    "        \n",
    "        # Get the feature dimension from the model\n",
    "        feature_dim = self.backbone.num_features\n",
    "        print(f\"Feature dimension from timm model: {feature_dim}\")\n",
    "\n",
    "        self.classifier = nn.Sequential(\n",
    "            nn.Linear(feature_dim, 512),\n",
    "            nn.BatchNorm1d(512),\n",
    "            nn.GELU(),\n",
    "            nn.Dropout(drop_rate),\n",
    "            nn.Linear(512, num_classes)\n",
    "        )\n",
    "\n",
    "    def forward(self, x):\n",
    "        # The timm model directly outputs features after pooling\n",
    "        features = self.backbone(x)\n",
    "        return self.classifier(features)\n",
    "\n",
    "model = TimmClassifier(\n",
    "    config['model_name'], num_classes, config['drop_rate']\n",
    ").to(device)\n",
    "print(\"✅ Model created successfully using the timm library!\")\n",
    "\n",
    "# =============================================================================\n",
    "# 6. TRAINING & VALIDATION LOOPS (No Changes Needed)\n",
    "# =============================================================================\n",
    "def train_epoch(model, dataloader, criterion, optimizer, device):\n",
    "    model.train()\n",
    "    running_loss, all_preds, all_labels = 0.0, [], []\n",
    "    pbar = tqdm(dataloader, desc='Training')\n",
    "    for images, labels in pbar:\n",
    "        images, labels = images.to(device), labels.to(device)\n",
    "        images = spec_augment(images)\n",
    "        images, targets_a, targets_b, lam = mixup_data(images, labels, config['mixup_alpha'])\n",
    "        optimizer.zero_grad()\n",
    "        outputs = model(images)\n",
    "        loss = mixup_criterion(criterion, outputs, targets_a, targets_b, lam)\n",
    "        loss.backward()\n",
    "        torch.nn.utils.clip_grad_norm_(model.parameters(), max_norm=1.0)\n",
    "        optimizer.step()\n",
    "        running_loss += loss.item()\n",
    "        _, preds = torch.max(outputs, 1)\n",
    "        all_preds.extend(preds.cpu().numpy())\n",
    "        all_labels.extend(labels.cpu().numpy())\n",
    "        pbar.set_postfix({'Loss': f'{loss.item():.4f}'})\n",
    "    return running_loss / len(dataloader), accuracy_score(all_labels, all_preds)\n",
    "\n",
    "def validate_epoch(model, dataloader, criterion, device):\n",
    "    model.eval()\n",
    "    running_loss, all_preds, all_labels = 0.0, [], []\n",
    "    with torch.no_grad():\n",
    "        pbar = tqdm(dataloader, desc='Validation')\n",
    "        for images, labels in pbar:\n",
    "            images, labels = images.to(device), labels.to(device)\n",
    "            outputs = model(images)\n",
    "            loss = criterion(outputs, labels)\n",
    "            running_loss += loss.item()\n",
    "            _, preds = torch.max(outputs, 1)\n",
    "            all_preds.extend(preds.cpu().numpy())\n",
    "            all_labels.extend(labels.cpu().numpy())\n",
    "            pbar.set_postfix({'Loss': f'{loss.item():.4f}'})\n",
    "    return running_loss / len(dataloader), accuracy_score(all_labels, all_preds), all_preds, all_labels"
   ]
  },
  {
   "cell_type": "code",
   "execution_count": 3,
   "id": "3da7732d",
   "metadata": {},
   "outputs": [
    {
     "name": "stdout",
     "output_type": "stream",
     "text": [
      "\n",
      "=== PHASE 1: Training only the classification head ===\n",
      "\n",
      "Epoch 1/10\n"
     ]
    },
    {
     "name": "stderr",
     "output_type": "stream",
     "text": [
      "Training: 100%|██████████| 503/503 [00:51<00:00,  9.76it/s, Loss=1.3214]\n",
      "Validation: 100%|██████████| 10/10 [00:00<00:00, 10.54it/s, Loss=1.8196]\n"
     ]
    },
    {
     "name": "stdout",
     "output_type": "stream",
     "text": [
      "Head Training - Train Loss: 1.4016, Acc: 0.4820 | Val Loss: 1.3050, Acc: 0.5616\n",
      "✅ New best head model saved! Accuracy: 0.5616\n",
      "\n",
      "Epoch 2/10\n"
     ]
    },
    {
     "name": "stderr",
     "output_type": "stream",
     "text": [
      "Training: 100%|██████████| 503/503 [00:49<00:00, 10.20it/s, Loss=1.3835]\n",
      "Validation: 100%|██████████| 10/10 [00:00<00:00, 11.55it/s, Loss=1.9181]\n"
     ]
    },
    {
     "name": "stdout",
     "output_type": "stream",
     "text": [
      "Head Training - Train Loss: 1.3104, Acc: 0.5233 | Val Loss: 1.2397, Acc: 0.5753\n",
      "✅ New best head model saved! Accuracy: 0.5753\n",
      "\n",
      "Epoch 3/10\n"
     ]
    },
    {
     "name": "stderr",
     "output_type": "stream",
     "text": [
      "Training: 100%|██████████| 503/503 [00:49<00:00, 10.18it/s, Loss=1.3102]\n",
      "Validation: 100%|██████████| 10/10 [00:00<00:00, 11.27it/s, Loss=1.7385]\n"
     ]
    },
    {
     "name": "stdout",
     "output_type": "stream",
     "text": [
      "Head Training - Train Loss: 1.2819, Acc: 0.5511 | Val Loss: 1.1742, Acc: 0.6438\n",
      "✅ New best head model saved! Accuracy: 0.6438\n",
      "\n",
      "Epoch 4/10\n"
     ]
    },
    {
     "name": "stderr",
     "output_type": "stream",
     "text": [
      "Training: 100%|██████████| 503/503 [00:49<00:00, 10.14it/s, Loss=1.3458]\n",
      "Validation: 100%|██████████| 10/10 [00:00<00:00, 11.57it/s, Loss=1.4235]\n"
     ]
    },
    {
     "name": "stdout",
     "output_type": "stream",
     "text": [
      "Head Training - Train Loss: 1.2746, Acc: 0.5551 | Val Loss: 1.2527, Acc: 0.5616\n",
      "\n",
      "Epoch 5/10\n"
     ]
    },
    {
     "name": "stderr",
     "output_type": "stream",
     "text": [
      "Training: 100%|██████████| 503/503 [00:49<00:00, 10.19it/s, Loss=1.0793]\n",
      "Validation: 100%|██████████| 10/10 [00:00<00:00, 11.47it/s, Loss=1.0649]\n"
     ]
    },
    {
     "name": "stdout",
     "output_type": "stream",
     "text": [
      "Head Training - Train Loss: 1.2544, Acc: 0.5655 | Val Loss: 1.2066, Acc: 0.5890\n",
      "\n",
      "Epoch 6/10\n"
     ]
    },
    {
     "name": "stderr",
     "output_type": "stream",
     "text": [
      "Training: 100%|██████████| 503/503 [00:49<00:00, 10.13it/s, Loss=1.5038]\n",
      "Validation: 100%|██████████| 10/10 [00:00<00:00, 11.51it/s, Loss=1.4534]\n"
     ]
    },
    {
     "name": "stdout",
     "output_type": "stream",
     "text": [
      "Head Training - Train Loss: 1.2434, Acc: 0.5698 | Val Loss: 1.2249, Acc: 0.6438\n",
      "\n",
      "Epoch 7/10\n"
     ]
    },
    {
     "name": "stderr",
     "output_type": "stream",
     "text": [
      "Training: 100%|██████████| 503/503 [00:49<00:00, 10.20it/s, Loss=0.9113]\n",
      "Validation: 100%|██████████| 10/10 [00:00<00:00, 11.69it/s, Loss=1.2454]\n"
     ]
    },
    {
     "name": "stdout",
     "output_type": "stream",
     "text": [
      "Head Training - Train Loss: 1.2574, Acc: 0.5496 | Val Loss: 1.2278, Acc: 0.5753\n",
      "\n",
      "Epoch 8/10\n"
     ]
    },
    {
     "name": "stderr",
     "output_type": "stream",
     "text": [
      "Training: 100%|██████████| 503/503 [00:49<00:00, 10.10it/s, Loss=1.0759]\n",
      "Validation: 100%|██████████| 10/10 [00:00<00:00, 11.36it/s, Loss=0.9539]\n"
     ]
    },
    {
     "name": "stdout",
     "output_type": "stream",
     "text": [
      "Head Training - Train Loss: 1.2369, Acc: 0.5663 | Val Loss: 1.1304, Acc: 0.6164\n",
      "\n",
      "Epoch 9/10\n"
     ]
    },
    {
     "name": "stderr",
     "output_type": "stream",
     "text": [
      "Training: 100%|██████████| 503/503 [00:59<00:00,  8.41it/s, Loss=1.5307]\n",
      "Validation: 100%|██████████| 10/10 [00:00<00:00, 11.44it/s, Loss=1.9548]\n"
     ]
    },
    {
     "name": "stdout",
     "output_type": "stream",
     "text": [
      "Head Training - Train Loss: 1.2372, Acc: 0.5722 | Val Loss: 1.2847, Acc: 0.5753\n",
      "\n",
      "Epoch 10/10\n"
     ]
    },
    {
     "name": "stderr",
     "output_type": "stream",
     "text": [
      "Training: 100%|██████████| 503/503 [01:11<00:00,  7.08it/s, Loss=1.6491]\n",
      "Validation: 100%|██████████| 10/10 [00:00<00:00, 11.28it/s, Loss=1.2271]\n"
     ]
    },
    {
     "name": "stdout",
     "output_type": "stream",
     "text": [
      "Head Training - Train Loss: 1.2268, Acc: 0.5854 | Val Loss: 1.1460, Acc: 0.6301\n",
      "\n",
      "🎯 Phase 1 completed! Best head accuracy: 0.6438\n"
     ]
    },
    {
     "data": {
      "text/plain": [
       "<All keys matched successfully>"
      ]
     },
     "execution_count": 3,
     "metadata": {},
     "output_type": "execute_result"
    }
   ],
   "source": [
    "# =============================================================================\n",
    "# 7. PHASE 1: HEAD TRAINING\n",
    "# =============================================================================\n",
    "print(\"\\n=== PHASE 1: Training only the classification head ===\")\n",
    "for param in model.backbone.parameters():\n",
    "    param.requires_grad = False\n",
    "for param in model.classifier.parameters():\n",
    "    param.requires_grad = True\n",
    "\n",
    "criterion = nn.CrossEntropyLoss(label_smoothing=config['label_smoothing'])\n",
    "optimizer = optim.AdamW(model.classifier.parameters(), lr=config['head_lr'], weight_decay=config['weight_decay'])\n",
    "best_head_acc = 0\n",
    "\n",
    "for epoch in range(config['head_epochs']):\n",
    "    print(f\"\\nEpoch {epoch+1}/{config['head_epochs']}\")\n",
    "    original_mixup_alpha = config['mixup_alpha']\n",
    "    config['mixup_alpha'] = 0.0\n",
    "    train_loss, train_acc = train_epoch(model, train_loader, criterion, optimizer, device)\n",
    "    val_loss, val_acc, _, _ = validate_epoch(model, val_loader, criterion, device)\n",
    "    config['mixup_alpha'] = original_mixup_alpha\n",
    "    print(f\"Head Training - Train Loss: {train_loss:.4f}, Acc: {train_acc:.4f} | Val Loss: {val_loss:.4f}, Acc: {val_acc:.4f}\")\n",
    "    if val_acc > best_head_acc:\n",
    "        best_head_acc = val_acc\n",
    "        torch.save(model.state_dict(), 'best_head_model.pth')\n",
    "        print(f\"✅ New best head model saved! Accuracy: {val_acc:.4f}\")\n",
    "\n",
    "print(f\"\\n🎯 Phase 1 completed! Best head accuracy: {best_head_acc:.4f}\")\n",
    "model.load_state_dict(torch.load('best_head_model.pth'))\n",
    "\n"
   ]
  },
  {
   "cell_type": "code",
   "execution_count": 4,
   "id": "e61b4bca",
   "metadata": {},
   "outputs": [
    {
     "name": "stdout",
     "output_type": "stream",
     "text": [
      "\n",
      "=== PHASE 2: Full network training ===\n",
      "\n",
      "Epoch 1/80\n"
     ]
    },
    {
     "name": "stderr",
     "output_type": "stream",
     "text": [
      "Training: 100%|██████████| 503/503 [01:54<00:00,  4.39it/s, Loss=1.8207]\n",
      "Validation: 100%|██████████| 10/10 [00:00<00:00, 11.43it/s, Loss=1.1593]\n"
     ]
    },
    {
     "name": "stdout",
     "output_type": "stream",
     "text": [
      "Full Training - Train Loss: 1.3724, Acc: 0.3803 | Val Loss: 1.0481, Acc: 0.6986\n",
      "Learning Rate: 5.00e-05\n",
      "🎯 New best full model saved! Accuracy: 0.6986\n",
      "\n",
      "Epoch 2/80\n"
     ]
    },
    {
     "name": "stderr",
     "output_type": "stream",
     "text": [
      "Training: 100%|██████████| 503/503 [02:08<00:00,  3.92it/s, Loss=1.5825]\n",
      "Validation: 100%|██████████| 10/10 [00:01<00:00,  8.17it/s, Loss=1.3494]\n"
     ]
    },
    {
     "name": "stdout",
     "output_type": "stream",
     "text": [
      "Full Training - Train Loss: 1.2476, Acc: 0.4546 | Val Loss: 1.0555, Acc: 0.7123\n",
      "Learning Rate: 4.99e-05\n",
      "🎯 New best full model saved! Accuracy: 0.7123\n",
      "\n",
      "Epoch 3/80\n"
     ]
    },
    {
     "name": "stderr",
     "output_type": "stream",
     "text": [
      "Training: 100%|██████████| 503/503 [01:54<00:00,  4.38it/s, Loss=1.3996]\n",
      "Validation: 100%|██████████| 10/10 [00:01<00:00,  5.76it/s, Loss=0.7967]\n"
     ]
    },
    {
     "name": "stdout",
     "output_type": "stream",
     "text": [
      "Full Training - Train Loss: 1.1605, Acc: 0.4790 | Val Loss: 0.9036, Acc: 0.7534\n",
      "Learning Rate: 4.98e-05\n",
      "🎯 New best full model saved! Accuracy: 0.7534\n",
      "\n",
      "Epoch 4/80\n"
     ]
    },
    {
     "name": "stderr",
     "output_type": "stream",
     "text": [
      "Training: 100%|██████████| 503/503 [02:55<00:00,  2.86it/s, Loss=0.8837]\n",
      "Validation: 100%|██████████| 10/10 [00:02<00:00,  4.49it/s, Loss=1.0043]\n"
     ]
    },
    {
     "name": "stdout",
     "output_type": "stream",
     "text": [
      "Full Training - Train Loss: 1.1276, Acc: 0.5116 | Val Loss: 0.9593, Acc: 0.6849\n",
      "Learning Rate: 4.97e-05\n",
      "\n",
      "Epoch 5/80\n"
     ]
    },
    {
     "name": "stderr",
     "output_type": "stream",
     "text": [
      "Training: 100%|██████████| 503/503 [03:03<00:00,  2.74it/s, Loss=1.7519]\n",
      "Validation: 100%|██████████| 10/10 [00:01<00:00,  8.50it/s, Loss=1.8696]\n"
     ]
    },
    {
     "name": "stdout",
     "output_type": "stream",
     "text": [
      "Full Training - Train Loss: 1.0646, Acc: 0.5509 | Val Loss: 1.0274, Acc: 0.7534\n",
      "Learning Rate: 4.95e-05\n",
      "\n",
      "Epoch 6/80\n"
     ]
    },
    {
     "name": "stderr",
     "output_type": "stream",
     "text": [
      "Training: 100%|██████████| 503/503 [02:18<00:00,  3.62it/s, Loss=0.9937]\n",
      "Validation: 100%|██████████| 10/10 [00:01<00:00,  6.29it/s, Loss=0.5301]\n"
     ]
    },
    {
     "name": "stdout",
     "output_type": "stream",
     "text": [
      "Full Training - Train Loss: 1.0407, Acc: 0.5658 | Val Loss: 0.8242, Acc: 0.7808\n",
      "Learning Rate: 4.93e-05\n",
      "🎯 New best full model saved! Accuracy: 0.7808\n",
      "\n",
      "Epoch 7/80\n"
     ]
    },
    {
     "name": "stderr",
     "output_type": "stream",
     "text": [
      "Training: 100%|██████████| 503/503 [01:57<00:00,  4.27it/s, Loss=0.9221]\n",
      "Validation: 100%|██████████| 10/10 [00:00<00:00, 11.50it/s, Loss=0.5035]\n"
     ]
    },
    {
     "name": "stdout",
     "output_type": "stream",
     "text": [
      "Full Training - Train Loss: 0.9880, Acc: 0.5578 | Val Loss: 0.8622, Acc: 0.7534\n",
      "Learning Rate: 4.91e-05\n",
      "\n",
      "Epoch 8/80\n"
     ]
    },
    {
     "name": "stderr",
     "output_type": "stream",
     "text": [
      "Training: 100%|██████████| 503/503 [01:43<00:00,  4.87it/s, Loss=0.5364]\n",
      "Validation: 100%|██████████| 10/10 [00:00<00:00, 11.36it/s, Loss=0.6450]\n"
     ]
    },
    {
     "name": "stdout",
     "output_type": "stream",
     "text": [
      "Full Training - Train Loss: 0.9656, Acc: 0.5650 | Val Loss: 0.8314, Acc: 0.7808\n",
      "Learning Rate: 4.88e-05\n",
      "\n",
      "Epoch 9/80\n"
     ]
    },
    {
     "name": "stderr",
     "output_type": "stream",
     "text": [
      "Training: 100%|██████████| 503/503 [01:43<00:00,  4.86it/s, Loss=1.3765]\n",
      "Validation: 100%|██████████| 10/10 [00:00<00:00, 11.57it/s, Loss=0.5514]\n"
     ]
    },
    {
     "name": "stdout",
     "output_type": "stream",
     "text": [
      "Full Training - Train Loss: 0.9329, Acc: 0.5777 | Val Loss: 0.8570, Acc: 0.7671\n",
      "Learning Rate: 4.85e-05\n",
      "\n",
      "Epoch 10/80\n"
     ]
    },
    {
     "name": "stderr",
     "output_type": "stream",
     "text": [
      "Training: 100%|██████████| 503/503 [01:43<00:00,  4.85it/s, Loss=0.9780]\n",
      "Validation: 100%|██████████| 10/10 [00:00<00:00, 10.96it/s, Loss=0.4214]\n"
     ]
    },
    {
     "name": "stdout",
     "output_type": "stream",
     "text": [
      "Full Training - Train Loss: 0.9353, Acc: 0.5829 | Val Loss: 0.9448, Acc: 0.7534\n",
      "Learning Rate: 4.81e-05\n",
      "\n",
      "Epoch 11/80\n"
     ]
    },
    {
     "name": "stderr",
     "output_type": "stream",
     "text": [
      "Training: 100%|██████████| 503/503 [01:44<00:00,  4.83it/s, Loss=0.9894]\n",
      "Validation: 100%|██████████| 10/10 [00:00<00:00, 10.72it/s, Loss=0.4254]\n"
     ]
    },
    {
     "name": "stdout",
     "output_type": "stream",
     "text": [
      "Full Training - Train Loss: 0.9414, Acc: 0.5884 | Val Loss: 0.8368, Acc: 0.7808\n",
      "Learning Rate: 4.77e-05\n",
      "\n",
      "Epoch 12/80\n"
     ]
    },
    {
     "name": "stderr",
     "output_type": "stream",
     "text": [
      "Training: 100%|██████████| 503/503 [01:44<00:00,  4.82it/s, Loss=1.4992]\n",
      "Validation: 100%|██████████| 10/10 [00:00<00:00, 11.29it/s, Loss=0.4235]\n"
     ]
    },
    {
     "name": "stdout",
     "output_type": "stream",
     "text": [
      "Full Training - Train Loss: 0.8999, Acc: 0.6297 | Val Loss: 0.9355, Acc: 0.7260\n",
      "Learning Rate: 4.73e-05\n",
      "\n",
      "Epoch 13/80\n"
     ]
    },
    {
     "name": "stderr",
     "output_type": "stream",
     "text": [
      "Training: 100%|██████████| 503/503 [01:43<00:00,  4.88it/s, Loss=0.5824]\n",
      "Validation: 100%|██████████| 10/10 [00:00<00:00, 11.67it/s, Loss=0.4644]\n"
     ]
    },
    {
     "name": "stdout",
     "output_type": "stream",
     "text": [
      "Full Training - Train Loss: 0.8849, Acc: 0.6021 | Val Loss: 0.9342, Acc: 0.7671\n",
      "Learning Rate: 4.68e-05\n",
      "\n",
      "Epoch 14/80\n"
     ]
    },
    {
     "name": "stderr",
     "output_type": "stream",
     "text": [
      "Training: 100%|██████████| 503/503 [01:42<00:00,  4.90it/s, Loss=0.6344]\n",
      "Validation: 100%|██████████| 10/10 [00:00<00:00, 11.30it/s, Loss=0.4382]\n"
     ]
    },
    {
     "name": "stdout",
     "output_type": "stream",
     "text": [
      "Full Training - Train Loss: 0.8823, Acc: 0.6061 | Val Loss: 0.9756, Acc: 0.7397\n",
      "Learning Rate: 4.63e-05\n",
      "\n",
      "Epoch 15/80\n"
     ]
    },
    {
     "name": "stderr",
     "output_type": "stream",
     "text": [
      "Training: 100%|██████████| 503/503 [01:42<00:00,  4.90it/s, Loss=1.1816]\n",
      "Validation: 100%|██████████| 10/10 [00:00<00:00, 11.56it/s, Loss=0.4765]\n"
     ]
    },
    {
     "name": "stdout",
     "output_type": "stream",
     "text": [
      "Full Training - Train Loss: 0.8970, Acc: 0.6046 | Val Loss: 0.9338, Acc: 0.7260\n",
      "Learning Rate: 4.58e-05\n",
      "\n",
      "Epoch 16/80\n"
     ]
    },
    {
     "name": "stderr",
     "output_type": "stream",
     "text": [
      "Training: 100%|██████████| 503/503 [01:42<00:00,  4.90it/s, Loss=0.5173]\n",
      "Validation: 100%|██████████| 10/10 [00:00<00:00, 11.31it/s, Loss=0.4337]\n"
     ]
    },
    {
     "name": "stdout",
     "output_type": "stream",
     "text": [
      "Full Training - Train Loss: 0.8829, Acc: 0.5916 | Val Loss: 0.9500, Acc: 0.7671\n",
      "Learning Rate: 4.52e-05\n",
      "\n",
      "Epoch 17/80\n"
     ]
    },
    {
     "name": "stderr",
     "output_type": "stream",
     "text": [
      "Training: 100%|██████████| 503/503 [01:42<00:00,  4.90it/s, Loss=0.6840]\n",
      "Validation: 100%|██████████| 10/10 [00:00<00:00, 11.67it/s, Loss=0.4287]\n"
     ]
    },
    {
     "name": "stdout",
     "output_type": "stream",
     "text": [
      "Full Training - Train Loss: 0.8767, Acc: 0.5877 | Val Loss: 0.8252, Acc: 0.8356\n",
      "Learning Rate: 4.46e-05\n",
      "🎯 New best full model saved! Accuracy: 0.8356\n",
      "\n",
      "Epoch 18/80\n"
     ]
    },
    {
     "name": "stderr",
     "output_type": "stream",
     "text": [
      "Training: 100%|██████████| 503/503 [01:42<00:00,  4.90it/s, Loss=0.5308]\n",
      "Validation: 100%|██████████| 10/10 [00:00<00:00, 11.33it/s, Loss=0.4588]\n"
     ]
    },
    {
     "name": "stdout",
     "output_type": "stream",
     "text": [
      "Full Training - Train Loss: 0.8433, Acc: 0.6230 | Val Loss: 0.9368, Acc: 0.7945\n",
      "Learning Rate: 4.40e-05\n",
      "\n",
      "Epoch 19/80\n"
     ]
    },
    {
     "name": "stderr",
     "output_type": "stream",
     "text": [
      "Training: 100%|██████████| 503/503 [01:42<00:00,  4.90it/s, Loss=0.5267]\n",
      "Validation: 100%|██████████| 10/10 [00:00<00:00, 11.60it/s, Loss=0.4408]\n"
     ]
    },
    {
     "name": "stdout",
     "output_type": "stream",
     "text": [
      "Full Training - Train Loss: 0.8392, Acc: 0.6200 | Val Loss: 1.0566, Acc: 0.7260\n",
      "Learning Rate: 4.34e-05\n",
      "\n",
      "Epoch 20/80\n"
     ]
    },
    {
     "name": "stderr",
     "output_type": "stream",
     "text": [
      "Training: 100%|██████████| 503/503 [01:42<00:00,  4.89it/s, Loss=0.5058]\n",
      "Validation: 100%|██████████| 10/10 [00:00<00:00, 11.66it/s, Loss=0.5111]\n"
     ]
    },
    {
     "name": "stdout",
     "output_type": "stream",
     "text": [
      "Full Training - Train Loss: 0.8290, Acc: 0.6158 | Val Loss: 0.9905, Acc: 0.7397\n",
      "Learning Rate: 4.27e-05\n",
      "\n",
      "Epoch 21/80\n"
     ]
    },
    {
     "name": "stderr",
     "output_type": "stream",
     "text": [
      "Training: 100%|██████████| 503/503 [01:42<00:00,  4.90it/s, Loss=1.0493]\n",
      "Validation: 100%|██████████| 10/10 [00:00<00:00, 11.51it/s, Loss=0.4873]\n"
     ]
    },
    {
     "name": "stdout",
     "output_type": "stream",
     "text": [
      "Full Training - Train Loss: 0.8346, Acc: 0.6165 | Val Loss: 1.0129, Acc: 0.7671\n",
      "Learning Rate: 4.20e-05\n",
      "\n",
      "Epoch 22/80\n"
     ]
    },
    {
     "name": "stderr",
     "output_type": "stream",
     "text": [
      "Training: 100%|██████████| 503/503 [01:42<00:00,  4.89it/s, Loss=0.8186]\n",
      "Validation: 100%|██████████| 10/10 [00:00<00:00, 11.62it/s, Loss=0.4776]\n"
     ]
    },
    {
     "name": "stdout",
     "output_type": "stream",
     "text": [
      "Full Training - Train Loss: 0.8153, Acc: 0.5929 | Val Loss: 0.9843, Acc: 0.7397\n",
      "Learning Rate: 4.12e-05\n",
      "\n",
      "Epoch 23/80\n"
     ]
    },
    {
     "name": "stderr",
     "output_type": "stream",
     "text": [
      "Training: 100%|██████████| 503/503 [01:42<00:00,  4.90it/s, Loss=0.9711]\n",
      "Validation: 100%|██████████| 10/10 [00:00<00:00, 11.49it/s, Loss=0.4548]\n"
     ]
    },
    {
     "name": "stdout",
     "output_type": "stream",
     "text": [
      "Full Training - Train Loss: 0.8211, Acc: 0.6406 | Val Loss: 0.9805, Acc: 0.7671\n",
      "Learning Rate: 4.05e-05\n",
      "\n",
      "Epoch 24/80\n"
     ]
    },
    {
     "name": "stderr",
     "output_type": "stream",
     "text": [
      "Training: 100%|██████████| 503/503 [01:42<00:00,  4.90it/s, Loss=1.2492]\n",
      "Validation: 100%|██████████| 10/10 [00:00<00:00, 11.71it/s, Loss=0.4539]\n"
     ]
    },
    {
     "name": "stdout",
     "output_type": "stream",
     "text": [
      "Full Training - Train Loss: 0.8374, Acc: 0.5934 | Val Loss: 0.9230, Acc: 0.7945\n",
      "Learning Rate: 3.97e-05\n",
      "\n",
      "Epoch 25/80\n"
     ]
    },
    {
     "name": "stderr",
     "output_type": "stream",
     "text": [
      "Training: 100%|██████████| 503/503 [01:42<00:00,  4.90it/s, Loss=0.7063]\n",
      "Validation: 100%|██████████| 10/10 [00:00<00:00, 11.63it/s, Loss=0.4802]\n"
     ]
    },
    {
     "name": "stdout",
     "output_type": "stream",
     "text": [
      "Full Training - Train Loss: 0.8118, Acc: 0.6105 | Val Loss: 0.9475, Acc: 0.7808\n",
      "Learning Rate: 3.89e-05\n",
      "\n",
      "Epoch 26/80\n"
     ]
    },
    {
     "name": "stderr",
     "output_type": "stream",
     "text": [
      "Training: 100%|██████████| 503/503 [01:42<00:00,  4.90it/s, Loss=1.0101]\n",
      "Validation: 100%|██████████| 10/10 [00:00<00:00, 11.59it/s, Loss=0.4686]\n"
     ]
    },
    {
     "name": "stdout",
     "output_type": "stream",
     "text": [
      "Full Training - Train Loss: 0.7938, Acc: 0.6230 | Val Loss: 0.9288, Acc: 0.7945\n",
      "Learning Rate: 3.81e-05\n",
      "\n",
      "Epoch 27/80\n"
     ]
    },
    {
     "name": "stderr",
     "output_type": "stream",
     "text": [
      "Training: 100%|██████████| 503/503 [01:42<00:00,  4.89it/s, Loss=0.4844]\n",
      "Validation: 100%|██████████| 10/10 [00:00<00:00, 11.69it/s, Loss=0.4426]\n"
     ]
    },
    {
     "name": "stdout",
     "output_type": "stream",
     "text": [
      "Full Training - Train Loss: 0.7894, Acc: 0.6130 | Val Loss: 0.9123, Acc: 0.7808\n",
      "Learning Rate: 3.72e-05\n",
      "\n",
      "Epoch 28/80\n"
     ]
    },
    {
     "name": "stderr",
     "output_type": "stream",
     "text": [
      "Training: 100%|██████████| 503/503 [01:42<00:00,  4.90it/s, Loss=0.4838]\n",
      "Validation: 100%|██████████| 10/10 [00:00<00:00, 11.75it/s, Loss=0.4458]\n"
     ]
    },
    {
     "name": "stdout",
     "output_type": "stream",
     "text": [
      "Full Training - Train Loss: 0.7909, Acc: 0.6399 | Val Loss: 0.9150, Acc: 0.8082\n",
      "Learning Rate: 3.63e-05\n",
      "\n",
      "Epoch 29/80\n"
     ]
    },
    {
     "name": "stderr",
     "output_type": "stream",
     "text": [
      "Training: 100%|██████████| 503/503 [01:42<00:00,  4.90it/s, Loss=1.6239]\n",
      "Validation: 100%|██████████| 10/10 [00:00<00:00, 11.40it/s, Loss=0.4442]\n"
     ]
    },
    {
     "name": "stdout",
     "output_type": "stream",
     "text": [
      "Full Training - Train Loss: 0.7875, Acc: 0.6175 | Val Loss: 0.8443, Acc: 0.8493\n",
      "Learning Rate: 3.55e-05\n",
      "🎯 New best full model saved! Accuracy: 0.8493\n",
      "\n",
      "Epoch 30/80\n"
     ]
    },
    {
     "name": "stderr",
     "output_type": "stream",
     "text": [
      "Training: 100%|██████████| 503/503 [01:42<00:00,  4.89it/s, Loss=0.7072]\n",
      "Validation: 100%|██████████| 10/10 [00:00<00:00, 11.77it/s, Loss=0.4452]\n"
     ]
    },
    {
     "name": "stdout",
     "output_type": "stream",
     "text": [
      "Full Training - Train Loss: 0.8040, Acc: 0.6653 | Val Loss: 0.8984, Acc: 0.7945\n",
      "Learning Rate: 3.46e-05\n",
      "\n",
      "Epoch 31/80\n"
     ]
    },
    {
     "name": "stderr",
     "output_type": "stream",
     "text": [
      "Training: 100%|██████████| 503/503 [01:42<00:00,  4.90it/s, Loss=0.5646]\n",
      "Validation: 100%|██████████| 10/10 [00:00<00:00, 11.66it/s, Loss=0.4391]\n"
     ]
    },
    {
     "name": "stdout",
     "output_type": "stream",
     "text": [
      "Full Training - Train Loss: 0.7981, Acc: 0.6352 | Val Loss: 0.8970, Acc: 0.7945\n",
      "Learning Rate: 3.37e-05\n",
      "\n",
      "Epoch 32/80\n"
     ]
    },
    {
     "name": "stderr",
     "output_type": "stream",
     "text": [
      "Training: 100%|██████████| 503/503 [01:42<00:00,  4.90it/s, Loss=1.3266]\n",
      "Validation: 100%|██████████| 10/10 [00:00<00:00, 11.45it/s, Loss=0.4679]\n"
     ]
    },
    {
     "name": "stdout",
     "output_type": "stream",
     "text": [
      "Full Training - Train Loss: 0.8187, Acc: 0.6471 | Val Loss: 0.9997, Acc: 0.7808\n",
      "Learning Rate: 3.27e-05\n",
      "\n",
      "Epoch 33/80\n"
     ]
    },
    {
     "name": "stderr",
     "output_type": "stream",
     "text": [
      "Training: 100%|██████████| 503/503 [01:42<00:00,  4.90it/s, Loss=1.0364]\n",
      "Validation: 100%|██████████| 10/10 [00:00<00:00, 11.63it/s, Loss=0.4414]\n"
     ]
    },
    {
     "name": "stdout",
     "output_type": "stream",
     "text": [
      "Full Training - Train Loss: 0.7875, Acc: 0.6566 | Val Loss: 0.8414, Acc: 0.8219\n",
      "Learning Rate: 3.18e-05\n",
      "\n",
      "Epoch 34/80\n"
     ]
    },
    {
     "name": "stderr",
     "output_type": "stream",
     "text": [
      "Training: 100%|██████████| 503/503 [01:42<00:00,  4.90it/s, Loss=0.5052]\n",
      "Validation: 100%|██████████| 10/10 [00:00<00:00, 11.51it/s, Loss=0.4326]\n"
     ]
    },
    {
     "name": "stdout",
     "output_type": "stream",
     "text": [
      "Full Training - Train Loss: 0.7935, Acc: 0.6503 | Val Loss: 0.9375, Acc: 0.7671\n",
      "Learning Rate: 3.08e-05\n",
      "\n",
      "Epoch 35/80\n"
     ]
    },
    {
     "name": "stderr",
     "output_type": "stream",
     "text": [
      "Training: 100%|██████████| 503/503 [01:42<00:00,  4.89it/s, Loss=1.2116]\n",
      "Validation: 100%|██████████| 10/10 [00:00<00:00, 11.54it/s, Loss=0.4459]\n"
     ]
    },
    {
     "name": "stdout",
     "output_type": "stream",
     "text": [
      "Full Training - Train Loss: 0.7941, Acc: 0.6195 | Val Loss: 0.9382, Acc: 0.8219\n",
      "Learning Rate: 2.99e-05\n",
      "\n",
      "Epoch 36/80\n"
     ]
    },
    {
     "name": "stderr",
     "output_type": "stream",
     "text": [
      "Training: 100%|██████████| 503/503 [01:42<00:00,  4.89it/s, Loss=0.5978]\n",
      "Validation: 100%|██████████| 10/10 [00:00<00:00, 11.59it/s, Loss=0.4507]\n"
     ]
    },
    {
     "name": "stdout",
     "output_type": "stream",
     "text": [
      "Full Training - Train Loss: 0.8015, Acc: 0.6352 | Val Loss: 0.8802, Acc: 0.8082\n",
      "Learning Rate: 2.89e-05\n",
      "\n",
      "Epoch 37/80\n"
     ]
    },
    {
     "name": "stderr",
     "output_type": "stream",
     "text": [
      "Training: 100%|██████████| 503/503 [01:42<00:00,  4.89it/s, Loss=0.4880]\n",
      "Validation: 100%|██████████| 10/10 [00:00<00:00, 11.73it/s, Loss=0.4477]\n"
     ]
    },
    {
     "name": "stdout",
     "output_type": "stream",
     "text": [
      "Full Training - Train Loss: 0.7872, Acc: 0.6682 | Val Loss: 0.9201, Acc: 0.7945\n",
      "Learning Rate: 2.79e-05\n",
      "\n",
      "Epoch 38/80\n"
     ]
    },
    {
     "name": "stderr",
     "output_type": "stream",
     "text": [
      "Training: 100%|██████████| 503/503 [01:44<00:00,  4.80it/s, Loss=1.1458]\n",
      "Validation: 100%|██████████| 10/10 [00:00<00:00, 11.28it/s, Loss=0.4291]\n"
     ]
    },
    {
     "name": "stdout",
     "output_type": "stream",
     "text": [
      "Full Training - Train Loss: 0.7660, Acc: 0.6304 | Val Loss: 0.7484, Acc: 0.8767\n",
      "Learning Rate: 2.70e-05\n",
      "🎯 New best full model saved! Accuracy: 0.8767\n",
      "\n",
      "Epoch 39/80\n"
     ]
    },
    {
     "name": "stderr",
     "output_type": "stream",
     "text": [
      "Training: 100%|██████████| 503/503 [01:43<00:00,  4.86it/s, Loss=1.3163]\n",
      "Validation: 100%|██████████| 10/10 [00:00<00:00, 11.35it/s, Loss=0.4248]\n"
     ]
    },
    {
     "name": "stdout",
     "output_type": "stream",
     "text": [
      "Full Training - Train Loss: 0.7890, Acc: 0.6528 | Val Loss: 0.8918, Acc: 0.8082\n",
      "Learning Rate: 2.60e-05\n",
      "\n",
      "Epoch 40/80\n"
     ]
    },
    {
     "name": "stderr",
     "output_type": "stream",
     "text": [
      "Training: 100%|██████████| 503/503 [01:43<00:00,  4.86it/s, Loss=0.7210]\n",
      "Validation: 100%|██████████| 10/10 [00:00<00:00, 11.45it/s, Loss=0.5253]\n"
     ]
    },
    {
     "name": "stdout",
     "output_type": "stream",
     "text": [
      "Full Training - Train Loss: 0.7826, Acc: 0.6153 | Val Loss: 0.8445, Acc: 0.8219\n",
      "Learning Rate: 2.50e-05\n",
      "\n",
      "Epoch 41/80\n"
     ]
    },
    {
     "name": "stderr",
     "output_type": "stream",
     "text": [
      "Training: 100%|██████████| 503/503 [01:43<00:00,  4.85it/s, Loss=0.5966]\n",
      "Validation: 100%|██████████| 10/10 [00:00<00:00, 11.25it/s, Loss=0.4301]\n"
     ]
    },
    {
     "name": "stdout",
     "output_type": "stream",
     "text": [
      "Full Training - Train Loss: 0.7714, Acc: 0.6347 | Val Loss: 0.9472, Acc: 0.7945\n",
      "Learning Rate: 2.40e-05\n",
      "\n",
      "Epoch 42/80\n"
     ]
    },
    {
     "name": "stderr",
     "output_type": "stream",
     "text": [
      "Training: 100%|██████████| 503/503 [01:43<00:00,  4.85it/s, Loss=0.5119]\n",
      "Validation: 100%|██████████| 10/10 [00:00<00:00, 11.70it/s, Loss=0.4370]\n"
     ]
    },
    {
     "name": "stdout",
     "output_type": "stream",
     "text": [
      "Full Training - Train Loss: 0.7686, Acc: 0.6511 | Val Loss: 0.9020, Acc: 0.8219\n",
      "Learning Rate: 2.30e-05\n",
      "\n",
      "Epoch 43/80\n"
     ]
    },
    {
     "name": "stderr",
     "output_type": "stream",
     "text": [
      "Training: 100%|██████████| 503/503 [01:43<00:00,  4.85it/s, Loss=0.6168]\n",
      "Validation: 100%|██████████| 10/10 [00:00<00:00, 11.65it/s, Loss=0.4286]\n"
     ]
    },
    {
     "name": "stdout",
     "output_type": "stream",
     "text": [
      "Full Training - Train Loss: 0.7658, Acc: 0.6347 | Val Loss: 0.9007, Acc: 0.8219\n",
      "Learning Rate: 2.21e-05\n",
      "\n",
      "Epoch 44/80\n"
     ]
    },
    {
     "name": "stderr",
     "output_type": "stream",
     "text": [
      "Training: 100%|██████████| 503/503 [01:43<00:00,  4.86it/s, Loss=0.4610]\n",
      "Validation: 100%|██████████| 10/10 [00:00<00:00, 11.62it/s, Loss=0.4289]\n"
     ]
    },
    {
     "name": "stdout",
     "output_type": "stream",
     "text": [
      "Full Training - Train Loss: 0.7771, Acc: 0.6093 | Val Loss: 0.8328, Acc: 0.8356\n",
      "Learning Rate: 2.11e-05\n",
      "\n",
      "Epoch 45/80\n"
     ]
    },
    {
     "name": "stderr",
     "output_type": "stream",
     "text": [
      "Training: 100%|██████████| 503/503 [01:42<00:00,  4.89it/s, Loss=0.4582]\n",
      "Validation: 100%|██████████| 10/10 [00:00<00:00, 11.70it/s, Loss=0.4441]\n"
     ]
    },
    {
     "name": "stdout",
     "output_type": "stream",
     "text": [
      "Full Training - Train Loss: 0.7731, Acc: 0.6272 | Val Loss: 0.9491, Acc: 0.8082\n",
      "Learning Rate: 2.01e-05\n",
      "\n",
      "Epoch 46/80\n"
     ]
    },
    {
     "name": "stderr",
     "output_type": "stream",
     "text": [
      "Training: 100%|██████████| 503/503 [01:42<00:00,  4.90it/s, Loss=0.4516]\n",
      "Validation: 100%|██████████| 10/10 [00:00<00:00, 11.59it/s, Loss=0.4361]\n"
     ]
    },
    {
     "name": "stdout",
     "output_type": "stream",
     "text": [
      "Full Training - Train Loss: 0.7909, Acc: 0.6202 | Val Loss: 0.8891, Acc: 0.8356\n",
      "Learning Rate: 1.92e-05\n",
      "\n",
      "Epoch 47/80\n"
     ]
    },
    {
     "name": "stderr",
     "output_type": "stream",
     "text": [
      "Training: 100%|██████████| 503/503 [01:42<00:00,  4.89it/s, Loss=1.0872]\n",
      "Validation: 100%|██████████| 10/10 [00:00<00:00, 11.50it/s, Loss=0.4378]\n"
     ]
    },
    {
     "name": "stdout",
     "output_type": "stream",
     "text": [
      "Full Training - Train Loss: 0.7422, Acc: 0.5981 | Val Loss: 0.8554, Acc: 0.8219\n",
      "Learning Rate: 1.82e-05\n",
      "\n",
      "Epoch 48/80\n"
     ]
    },
    {
     "name": "stderr",
     "output_type": "stream",
     "text": [
      "Training: 100%|██████████| 503/503 [01:42<00:00,  4.90it/s, Loss=0.8290]\n",
      "Validation: 100%|██████████| 10/10 [00:00<00:00, 11.59it/s, Loss=0.4502]\n"
     ]
    },
    {
     "name": "stdout",
     "output_type": "stream",
     "text": [
      "Full Training - Train Loss: 0.7850, Acc: 0.6441 | Val Loss: 0.7671, Acc: 0.8767\n",
      "Learning Rate: 1.73e-05\n",
      "\n",
      "Epoch 49/80\n"
     ]
    },
    {
     "name": "stderr",
     "output_type": "stream",
     "text": [
      "Training: 100%|██████████| 503/503 [01:42<00:00,  4.90it/s, Loss=0.5682]\n",
      "Validation: 100%|██████████| 10/10 [00:00<00:00, 10.99it/s, Loss=0.4338]\n"
     ]
    },
    {
     "name": "stdout",
     "output_type": "stream",
     "text": [
      "Full Training - Train Loss: 0.7737, Acc: 0.6297 | Val Loss: 0.8329, Acc: 0.8493\n",
      "Learning Rate: 1.63e-05\n",
      "\n",
      "Epoch 50/80\n"
     ]
    },
    {
     "name": "stderr",
     "output_type": "stream",
     "text": [
      "Training: 100%|██████████| 503/503 [01:43<00:00,  4.87it/s, Loss=0.8977]\n",
      "Validation: 100%|██████████| 10/10 [00:00<00:00, 10.44it/s, Loss=0.4313]\n"
     ]
    },
    {
     "name": "stdout",
     "output_type": "stream",
     "text": [
      "Full Training - Train Loss: 0.7830, Acc: 0.6143 | Val Loss: 0.8407, Acc: 0.8493\n",
      "Learning Rate: 1.54e-05\n",
      "\n",
      "Epoch 51/80\n"
     ]
    },
    {
     "name": "stderr",
     "output_type": "stream",
     "text": [
      "Training:  47%|████▋     | 236/503 [00:56<01:03,  4.18it/s, Loss=0.4875]\n"
     ]
    },
    {
     "ename": "KeyboardInterrupt",
     "evalue": "",
     "output_type": "error",
     "traceback": [
      "\u001b[1;31m---------------------------------------------------------------------------\u001b[0m",
      "\u001b[1;31mKeyboardInterrupt\u001b[0m                         Traceback (most recent call last)",
      "Cell \u001b[1;32mIn[4], line 16\u001b[0m\n\u001b[0;32m     14\u001b[0m \u001b[38;5;28;01mfor\u001b[39;00m epoch \u001b[38;5;129;01min\u001b[39;00m \u001b[38;5;28mrange\u001b[39m(config[\u001b[38;5;124m'\u001b[39m\u001b[38;5;124mepochs\u001b[39m\u001b[38;5;124m'\u001b[39m]):\n\u001b[0;32m     15\u001b[0m     \u001b[38;5;28mprint\u001b[39m(\u001b[38;5;124mf\u001b[39m\u001b[38;5;124m\"\u001b[39m\u001b[38;5;130;01m\\n\u001b[39;00m\u001b[38;5;124mEpoch \u001b[39m\u001b[38;5;132;01m{\u001b[39;00mepoch\u001b[38;5;241m+\u001b[39m\u001b[38;5;241m1\u001b[39m\u001b[38;5;132;01m}\u001b[39;00m\u001b[38;5;124m/\u001b[39m\u001b[38;5;132;01m{\u001b[39;00mconfig[\u001b[38;5;124m'\u001b[39m\u001b[38;5;124mepochs\u001b[39m\u001b[38;5;124m'\u001b[39m]\u001b[38;5;132;01m}\u001b[39;00m\u001b[38;5;124m\"\u001b[39m)\n\u001b[1;32m---> 16\u001b[0m     train_loss, train_acc \u001b[38;5;241m=\u001b[39m \u001b[43mtrain_epoch\u001b[49m\u001b[43m(\u001b[49m\u001b[43mmodel\u001b[49m\u001b[43m,\u001b[49m\u001b[43m \u001b[49m\u001b[43mtrain_loader\u001b[49m\u001b[43m,\u001b[49m\u001b[43m \u001b[49m\u001b[43mcriterion\u001b[49m\u001b[43m,\u001b[49m\u001b[43m \u001b[49m\u001b[43moptimizer\u001b[49m\u001b[43m,\u001b[49m\u001b[43m \u001b[49m\u001b[43mdevice\u001b[49m\u001b[43m)\u001b[49m\n\u001b[0;32m     17\u001b[0m     val_loss, val_acc, _, _ \u001b[38;5;241m=\u001b[39m validate_epoch(model, val_loader, criterion, device)\n\u001b[0;32m     18\u001b[0m     scheduler\u001b[38;5;241m.\u001b[39mstep()\n",
      "Cell \u001b[1;32mIn[2], line 157\u001b[0m, in \u001b[0;36mtrain_epoch\u001b[1;34m(model, dataloader, criterion, optimizer, device)\u001b[0m\n\u001b[0;32m    155\u001b[0m outputs \u001b[38;5;241m=\u001b[39m model(images)\n\u001b[0;32m    156\u001b[0m loss \u001b[38;5;241m=\u001b[39m mixup_criterion(criterion, outputs, targets_a, targets_b, lam)\n\u001b[1;32m--> 157\u001b[0m \u001b[43mloss\u001b[49m\u001b[38;5;241;43m.\u001b[39;49m\u001b[43mbackward\u001b[49m\u001b[43m(\u001b[49m\u001b[43m)\u001b[49m\n\u001b[0;32m    158\u001b[0m torch\u001b[38;5;241m.\u001b[39mnn\u001b[38;5;241m.\u001b[39mutils\u001b[38;5;241m.\u001b[39mclip_grad_norm_(model\u001b[38;5;241m.\u001b[39mparameters(), max_norm\u001b[38;5;241m=\u001b[39m\u001b[38;5;241m1.0\u001b[39m)\n\u001b[0;32m    159\u001b[0m optimizer\u001b[38;5;241m.\u001b[39mstep()\n",
      "File \u001b[1;32mc:\\Users\\sreeh\\AppData\\Local\\Programs\\Python\\Python312\\Lib\\site-packages\\torch\\_tensor.py:626\u001b[0m, in \u001b[0;36mTensor.backward\u001b[1;34m(self, gradient, retain_graph, create_graph, inputs)\u001b[0m\n\u001b[0;32m    616\u001b[0m \u001b[38;5;28;01mif\u001b[39;00m has_torch_function_unary(\u001b[38;5;28mself\u001b[39m):\n\u001b[0;32m    617\u001b[0m     \u001b[38;5;28;01mreturn\u001b[39;00m handle_torch_function(\n\u001b[0;32m    618\u001b[0m         Tensor\u001b[38;5;241m.\u001b[39mbackward,\n\u001b[0;32m    619\u001b[0m         (\u001b[38;5;28mself\u001b[39m,),\n\u001b[1;32m   (...)\u001b[0m\n\u001b[0;32m    624\u001b[0m         inputs\u001b[38;5;241m=\u001b[39minputs,\n\u001b[0;32m    625\u001b[0m     )\n\u001b[1;32m--> 626\u001b[0m \u001b[43mtorch\u001b[49m\u001b[38;5;241;43m.\u001b[39;49m\u001b[43mautograd\u001b[49m\u001b[38;5;241;43m.\u001b[39;49m\u001b[43mbackward\u001b[49m\u001b[43m(\u001b[49m\n\u001b[0;32m    627\u001b[0m \u001b[43m    \u001b[49m\u001b[38;5;28;43mself\u001b[39;49m\u001b[43m,\u001b[49m\u001b[43m \u001b[49m\u001b[43mgradient\u001b[49m\u001b[43m,\u001b[49m\u001b[43m \u001b[49m\u001b[43mretain_graph\u001b[49m\u001b[43m,\u001b[49m\u001b[43m \u001b[49m\u001b[43mcreate_graph\u001b[49m\u001b[43m,\u001b[49m\u001b[43m \u001b[49m\u001b[43minputs\u001b[49m\u001b[38;5;241;43m=\u001b[39;49m\u001b[43minputs\u001b[49m\n\u001b[0;32m    628\u001b[0m \u001b[43m\u001b[49m\u001b[43m)\u001b[49m\n",
      "File \u001b[1;32mc:\\Users\\sreeh\\AppData\\Local\\Programs\\Python\\Python312\\Lib\\site-packages\\torch\\autograd\\__init__.py:347\u001b[0m, in \u001b[0;36mbackward\u001b[1;34m(tensors, grad_tensors, retain_graph, create_graph, grad_variables, inputs)\u001b[0m\n\u001b[0;32m    342\u001b[0m     retain_graph \u001b[38;5;241m=\u001b[39m create_graph\n\u001b[0;32m    344\u001b[0m \u001b[38;5;66;03m# The reason we repeat the same comment below is that\u001b[39;00m\n\u001b[0;32m    345\u001b[0m \u001b[38;5;66;03m# some Python versions print out the first line of a multi-line function\u001b[39;00m\n\u001b[0;32m    346\u001b[0m \u001b[38;5;66;03m# calls in the traceback and some print out the last line\u001b[39;00m\n\u001b[1;32m--> 347\u001b[0m \u001b[43m_engine_run_backward\u001b[49m\u001b[43m(\u001b[49m\n\u001b[0;32m    348\u001b[0m \u001b[43m    \u001b[49m\u001b[43mtensors\u001b[49m\u001b[43m,\u001b[49m\n\u001b[0;32m    349\u001b[0m \u001b[43m    \u001b[49m\u001b[43mgrad_tensors_\u001b[49m\u001b[43m,\u001b[49m\n\u001b[0;32m    350\u001b[0m \u001b[43m    \u001b[49m\u001b[43mretain_graph\u001b[49m\u001b[43m,\u001b[49m\n\u001b[0;32m    351\u001b[0m \u001b[43m    \u001b[49m\u001b[43mcreate_graph\u001b[49m\u001b[43m,\u001b[49m\n\u001b[0;32m    352\u001b[0m \u001b[43m    \u001b[49m\u001b[43minputs\u001b[49m\u001b[43m,\u001b[49m\n\u001b[0;32m    353\u001b[0m \u001b[43m    \u001b[49m\u001b[43mallow_unreachable\u001b[49m\u001b[38;5;241;43m=\u001b[39;49m\u001b[38;5;28;43;01mTrue\u001b[39;49;00m\u001b[43m,\u001b[49m\n\u001b[0;32m    354\u001b[0m \u001b[43m    \u001b[49m\u001b[43maccumulate_grad\u001b[49m\u001b[38;5;241;43m=\u001b[39;49m\u001b[38;5;28;43;01mTrue\u001b[39;49;00m\u001b[43m,\u001b[49m\n\u001b[0;32m    355\u001b[0m \u001b[43m\u001b[49m\u001b[43m)\u001b[49m\n",
      "File \u001b[1;32mc:\\Users\\sreeh\\AppData\\Local\\Programs\\Python\\Python312\\Lib\\site-packages\\torch\\autograd\\graph.py:823\u001b[0m, in \u001b[0;36m_engine_run_backward\u001b[1;34m(t_outputs, *args, **kwargs)\u001b[0m\n\u001b[0;32m    821\u001b[0m     unregister_hooks \u001b[38;5;241m=\u001b[39m _register_logging_hooks_on_whole_graph(t_outputs)\n\u001b[0;32m    822\u001b[0m \u001b[38;5;28;01mtry\u001b[39;00m:\n\u001b[1;32m--> 823\u001b[0m     \u001b[38;5;28;01mreturn\u001b[39;00m \u001b[43mVariable\u001b[49m\u001b[38;5;241;43m.\u001b[39;49m\u001b[43m_execution_engine\u001b[49m\u001b[38;5;241;43m.\u001b[39;49m\u001b[43mrun_backward\u001b[49m\u001b[43m(\u001b[49m\u001b[43m  \u001b[49m\u001b[38;5;66;43;03m# Calls into the C++ engine to run the backward pass\u001b[39;49;00m\n\u001b[0;32m    824\u001b[0m \u001b[43m        \u001b[49m\u001b[43mt_outputs\u001b[49m\u001b[43m,\u001b[49m\u001b[43m \u001b[49m\u001b[38;5;241;43m*\u001b[39;49m\u001b[43margs\u001b[49m\u001b[43m,\u001b[49m\u001b[43m \u001b[49m\u001b[38;5;241;43m*\u001b[39;49m\u001b[38;5;241;43m*\u001b[39;49m\u001b[43mkwargs\u001b[49m\n\u001b[0;32m    825\u001b[0m \u001b[43m    \u001b[49m\u001b[43m)\u001b[49m  \u001b[38;5;66;03m# Calls into the C++ engine to run the backward pass\u001b[39;00m\n\u001b[0;32m    826\u001b[0m \u001b[38;5;28;01mfinally\u001b[39;00m:\n\u001b[0;32m    827\u001b[0m     \u001b[38;5;28;01mif\u001b[39;00m attach_logging_hooks:\n",
      "\u001b[1;31mKeyboardInterrupt\u001b[0m: "
     ]
    }
   ],
   "source": [
    "# =============================================================================\n",
    "# 8. PHASE 2: FULL NETWORK TRAINING\n",
    "# =============================================================================\n",
    "print(\"\\n=== PHASE 2: Full network training ===\")\n",
    "for param in model.parameters():\n",
    "    param.requires_grad = True\n",
    "\n",
    "optimizer = optim.AdamW(model.parameters(), lr=config['full_train_lr'], weight_decay=config['weight_decay'])\n",
    "scheduler = torch.optim.lr_scheduler.CosineAnnealingLR(optimizer, T_max=config['epochs'])\n",
    "\n",
    "history = {'train_loss': [], 'train_acc': [], 'val_loss': [], 'val_acc': []}\n",
    "best_val_acc = 0\n",
    "\n",
    "for epoch in range(config['epochs']):\n",
    "    print(f\"\\nEpoch {epoch+1}/{config['epochs']}\")\n",
    "    train_loss, train_acc = train_epoch(model, train_loader, criterion, optimizer, device)\n",
    "    val_loss, val_acc, _, _ = validate_epoch(model, val_loader, criterion, device)\n",
    "    scheduler.step()\n",
    "    history['train_loss'].append(train_loss)\n",
    "    history['train_acc'].append(train_acc)\n",
    "    history['val_loss'].append(val_loss)\n",
    "    history['val_acc'].append(val_acc)\n",
    "    print(f\"Full Training - Train Loss: {train_loss:.4f}, Acc: {train_acc:.4f} | Val Loss: {val_loss:.4f}, Acc: {val_acc:.4f}\")\n",
    "    print(f\"Learning Rate: {optimizer.param_groups[0]['lr']:.2e}\")\n",
    "    if val_acc > best_val_acc:\n",
    "        best_val_acc = val_acc\n",
    "        torch.save(model.state_dict(), 'best_full_model.pth')\n",
    "        print(f\"🎯 New best full model saved! Accuracy: {val_acc:.4f}\")\n",
    "\n",
    "print(f\"\\nPhase 2 completed! Best validation accuracy: {best_val_acc:.4f}\")\n",
    "\n"
   ]
  },
  {
   "cell_type": "code",
   "execution_count": 5,
   "id": "e842f76c",
   "metadata": {},
   "outputs": [
    {
     "name": "stdout",
     "output_type": "stream",
     "text": [
      "\n",
      "=== FINAL EVALUATION ON TEST SET ===\n",
      "Found 74 images in test set\n",
      "Classes: ['Dysarthia', 'Laryngitis', 'Laryngozele', 'Vox senilis', 'parkinson', 'spasmodische_dysphonie']\n"
     ]
    },
    {
     "name": "stderr",
     "output_type": "stream",
     "text": [
      "Validation: 100%|██████████| 10/10 [00:01<00:00,  6.25it/s, Loss=1.5902]\n"
     ]
    },
    {
     "name": "stdout",
     "output_type": "stream",
     "text": [
      "\n",
      "Final Test Accuracy: 0.8514 (85.14%)\n",
      "Final Test Loss: 0.8546\n",
      "\n",
      "Test Set Classification Report:\n",
      "                        precision    recall  f1-score   support\n",
      "\n",
      "             Dysarthia     1.0000    1.0000    1.0000        13\n",
      "            Laryngitis     0.6923    0.6923    0.6923        13\n",
      "           Laryngozele     0.7000    0.7778    0.7368         9\n",
      "           Vox senilis     0.8462    0.8462    0.8462        13\n",
      "             parkinson     1.0000    1.0000    1.0000        13\n",
      "spasmodische_dysphonie     0.8333    0.7692    0.8000        13\n",
      "\n",
      "              accuracy                         0.8514        74\n",
      "             macro avg     0.8453    0.8476    0.8459        74\n",
      "          weighted avg     0.8532    0.8514    0.8518        74\n",
      "\n"
     ]
    },
    {
     "data": {
      "image/png": "[encoded data removed]",
      "text/plain": [
       "<Figure size 1000x800 with 2 Axes>"
      ]
     },
     "metadata": {},
     "output_type": "display_data"
    },
    {
     "name": "stdout",
     "output_type": "stream",
     "text": [
      "Current best validation accuracy: 87.67%.\n"
     ]
    }
   ],
   "source": [
    "# =============================================================================\n",
    "# 9. FINAL EVALUATION\n",
    "# =============================================================================\n",
    "print(\"\\n=== FINAL EVALUATION ON TEST SET ===\")\n",
    "model.load_state_dict(torch.load('best_full_model.pth'))\n",
    "test_dataset = MelSpectrogramDataset(config['base_dir'], 'test', val_transform)\n",
    "test_loader = DataLoader(test_dataset, batch_size=config['batch_size'], shuffle=False, num_workers=config['num_workers'], pin_memory=config['pin_memory'])\n",
    "test_loss, test_acc, test_preds, test_labels = validate_epoch(model, test_loader, criterion, device)\n",
    "print(f\"\\nFinal Test Accuracy: {test_acc:.4f} ({test_acc:.2%})\")\n",
    "print(f\"Final Test Loss: {test_loss:.4f}\")\n",
    "print(\"\\nTest Set Classification Report:\")\n",
    "print(classification_report(test_labels, test_preds, target_names=test_dataset.classes, digits=4))\n",
    "\n",
    "cm = confusion_matrix(test_labels, test_preds)\n",
    "plt.figure(figsize=(10, 8))\n",
    "sns.heatmap(cm, annot=True, fmt='d', cmap='Blues', xticklabels=test_dataset.classes, yticklabels=test_dataset.classes)\n",
    "plt.xlabel('Predicted Labels', fontweight='bold')\n",
    "plt.ylabel('True Labels', fontweight='bold')\n",
    "plt.title(f'Confusion Matrix - Test Accuracy: {test_acc:.2%}', fontweight='bold')\n",
    "plt.show()\n",
    "\n",
    "if best_val_acc >= 0.90:\n",
    "    print(\"🚀 CONGRATULATIONS! 90%+ VALIDATION ACCURACY ACHIEVED! 🚀\")\n",
    "else:\n",
    "    print(f\"Current best validation accuracy: {best_val_acc:.2%}.\")"
   ]
  },
  {
   "cell_type": "code",
   "execution_count": 6,
   "id": "afdb8f91",
   "metadata": {},
   "outputs": [
    {
     "data": {
      "image/png": "[encoded data removed]",
      "text/plain": [
       "<Figure size 1200x1000 with 2 Axes>"
      ]
     },
     "metadata": {},
     "output_type": "display_data"
    }
   ],
   "source": [
    "import matplotlib.pyplot as plt\n",
    "\n",
    "# Ensure the 'history' dictionary from your training is available\n",
    "if 'history' not in locals():\n",
    "    print(\"Error: The 'history' dictionary is not defined.\")\n",
    "    print(\"Please run the training cell or manually reconstruct the history dictionary first.\")\n",
    "else:\n",
    "    # Get the number of epochs the training actually ran for\n",
    "    epochs_ran = range(1, len(history['train_loss']) + 1)\n",
    "\n",
    "    # Set up the plots\n",
    "    plt.style.use('seaborn-v0_8-darkgrid')\n",
    "    fig, (ax1, ax2) = plt.subplots(2, 1, figsize=(12, 10))\n",
    "    fig.suptitle('Model Training History', fontsize=20, fontweight='bold')\n",
    "\n",
    "    # --- Plot 1: Model Accuracy ---\n",
    "    ax1.plot(epochs_ran, history['train_acc'], 'o-', label='Training Accuracy', color='C0')\n",
    "    ax1.plot(epochs_ran, history['val_acc'], 'o-', label='Validation Accuracy', color='C1')\n",
    "    ax1.set_title('Model Accuracy vs. Epochs', fontsize=16)\n",
    "    ax1.set_ylabel('Accuracy', fontsize=12)\n",
    "    ax1.grid(True, which='both', linestyle='--', linewidth=0.5)\n",
    "\n",
    "    # Find and highlight the best epoch for validation accuracy\n",
    "    best_epoch = history['val_acc'].index(max(history['val_acc'])) + 1\n",
    "    best_acc_val = max(history['val_acc'])\n",
    "    ax1.axvline(x=best_epoch, color='r', linestyle='--', label=f'Best Val Acc: {best_acc_val:.4f} at Epoch {best_epoch}')\n",
    "    ax1.legend()\n",
    "\n",
    "    # --- Plot 2: Model Loss ---\n",
    "    ax2.plot(epochs_ran, history['train_loss'], 'o-', label='Training Loss', color='C2')\n",
    "    ax2.plot(epochs_ran, history['val_loss'], 'o-', label='Validation Loss', color='C3')\n",
    "    ax2.set_title('Model Loss vs. Epochs', fontsize=16)\n",
    "    ax2.set_xlabel('Epochs', fontsize=12)\n",
    "    ax2.set_ylabel('Loss', fontsize=12)\n",
    "    ax2.legend(loc='upper right')\n",
    "    ax2.grid(True, which='both', linestyle='--', linewidth=0.5)\n",
    "\n",
    "    # Display the plots\n",
    "    plt.tight_layout(rect=[0, 0.03, 1, 0.96])\n",
    "    plt.show()"
   ]
  },
  {
   "cell_type": "code",
   "execution_count": 7,
   "id": "04a2f7ac",
   "metadata": {},
   "outputs": [
    {
     "name": "stdout",
     "output_type": "stream",
     "text": [
      "🚀 STARTING FINAL FINE-TUNING PHASE 🚀\n",
      "Using standard ImageNet normalization: mean=[0.485, 0.456, 0.406], std=[0.229, 0.224, 0.225]\n",
      "Found 4021 images in train set\n",
      "Classes: ['Dysarthia', 'Laryngitis', 'Laryngozele', 'Vox senilis', 'parkinson', 'spasmodische_dysphonie']\n",
      "Found 73 images in validation set\n",
      "Classes: ['Dysarthia', 'Laryngitis', 'Laryngozele', 'Vox senilis', 'parkinson', 'spasmodische_dysphonie']\n",
      "Feature dimension from timm model: 512\n",
      "✅ Model created successfully using the timm library!\n",
      "✅ Successfully loaded weights from 'best_full_model.pth'\n",
      "\n",
      "🎯 Fine-Tuning Epoch 1/10\n",
      "   Current LR: 5.00e-06\n"
     ]
    },
    {
     "name": "stderr",
     "output_type": "stream",
     "text": [
      "Training: 100%|██████████| 503/503 [01:45<00:00,  4.76it/s, Loss=0.0730]\n",
      "Validation: 100%|██████████| 10/10 [00:00<00:00, 11.42it/s, Loss=0.0495]\n"
     ]
    },
    {
     "name": "stdout",
     "output_type": "stream",
     "text": [
      "📈 FT - Train Loss: 0.0956, Train Acc: 0.9940\n",
      "📊 FT - Val Loss: 0.5159, Val Acc: 0.8630\n",
      "💾 New best fine-tuned model saved! Acc: 0.8630\n",
      "\n",
      "🎯 Fine-Tuning Epoch 2/10\n",
      "   Current LR: 4.89e-06\n"
     ]
    },
    {
     "name": "stderr",
     "output_type": "stream",
     "text": [
      "Training: 100%|██████████| 503/503 [01:40<00:00,  4.99it/s, Loss=0.0384]\n",
      "Validation: 100%|██████████| 10/10 [00:00<00:00, 11.30it/s, Loss=0.0364]\n"
     ]
    },
    {
     "name": "stdout",
     "output_type": "stream",
     "text": [
      "📈 FT - Train Loss: 0.0602, Train Acc: 0.9963\n",
      "📊 FT - Val Loss: 0.4944, Val Acc: 0.8904\n",
      "💾 New best fine-tuned model saved! Acc: 0.8904\n",
      "\n",
      "🎯 Fine-Tuning Epoch 3/10\n",
      "   Current LR: 4.57e-06\n"
     ]
    },
    {
     "name": "stderr",
     "output_type": "stream",
     "text": [
      "Training: 100%|██████████| 503/503 [01:40<00:00,  4.99it/s, Loss=0.0480]\n",
      "Validation: 100%|██████████| 10/10 [00:00<00:00, 11.39it/s, Loss=0.0245]\n"
     ]
    },
    {
     "name": "stdout",
     "output_type": "stream",
     "text": [
      "📈 FT - Train Loss: 0.0420, Train Acc: 0.9983\n",
      "📊 FT - Val Loss: 0.5329, Val Acc: 0.8767\n",
      "\n",
      "🎯 Fine-Tuning Epoch 4/10\n",
      "   Current LR: 4.07e-06\n"
     ]
    },
    {
     "name": "stderr",
     "output_type": "stream",
     "text": [
      "Training: 100%|██████████| 503/503 [01:41<00:00,  4.97it/s, Loss=0.0372]\n",
      "Validation: 100%|██████████| 10/10 [00:00<00:00, 11.37it/s, Loss=0.0205]\n"
     ]
    },
    {
     "name": "stdout",
     "output_type": "stream",
     "text": [
      "📈 FT - Train Loss: 0.0359, Train Acc: 0.9980\n",
      "📊 FT - Val Loss: 0.5551, Val Acc: 0.8767\n",
      "\n",
      "🎯 Fine-Tuning Epoch 5/10\n",
      "   Current LR: 3.45e-06\n"
     ]
    },
    {
     "name": "stderr",
     "output_type": "stream",
     "text": [
      "Training: 100%|██████████| 503/503 [01:41<00:00,  4.97it/s, Loss=0.1559]\n",
      "Validation: 100%|██████████| 10/10 [00:00<00:00, 11.49it/s, Loss=0.0178]\n"
     ]
    },
    {
     "name": "stdout",
     "output_type": "stream",
     "text": [
      "📈 FT - Train Loss: 0.0270, Train Acc: 0.9990\n",
      "📊 FT - Val Loss: 0.5344, Val Acc: 0.9041\n",
      "💾 New best fine-tuned model saved! Acc: 0.9041\n",
      "\n",
      "🎯 Fine-Tuning Epoch 6/10\n",
      "   Current LR: 2.75e-06\n"
     ]
    },
    {
     "name": "stderr",
     "output_type": "stream",
     "text": [
      "Training: 100%|██████████| 503/503 [01:41<00:00,  4.98it/s, Loss=0.0155]\n",
      "Validation: 100%|██████████| 10/10 [00:00<00:00, 11.63it/s, Loss=0.0139]\n"
     ]
    },
    {
     "name": "stdout",
     "output_type": "stream",
     "text": [
      "📈 FT - Train Loss: 0.0337, Train Acc: 0.9978\n",
      "📊 FT - Val Loss: 0.5215, Val Acc: 0.9041\n",
      "\n",
      "🎯 Fine-Tuning Epoch 7/10\n",
      "   Current LR: 2.05e-06\n"
     ]
    },
    {
     "name": "stderr",
     "output_type": "stream",
     "text": [
      "Training: 100%|██████████| 503/503 [01:41<00:00,  4.96it/s, Loss=0.0133]\n",
      "Validation: 100%|██████████| 10/10 [00:00<00:00, 10.92it/s, Loss=0.0177]\n"
     ]
    },
    {
     "name": "stdout",
     "output_type": "stream",
     "text": [
      "📈 FT - Train Loss: 0.0224, Train Acc: 0.9990\n",
      "📊 FT - Val Loss: 0.6014, Val Acc: 0.8767\n",
      "\n",
      "🎯 Fine-Tuning Epoch 8/10\n",
      "   Current LR: 1.43e-06\n"
     ]
    },
    {
     "name": "stderr",
     "output_type": "stream",
     "text": [
      "Training: 100%|██████████| 503/503 [01:39<00:00,  5.03it/s, Loss=0.0694]\n",
      "Validation: 100%|██████████| 10/10 [00:00<00:00, 11.67it/s, Loss=0.0177]\n"
     ]
    },
    {
     "name": "stdout",
     "output_type": "stream",
     "text": [
      "📈 FT - Train Loss: 0.0204, Train Acc: 0.9993\n",
      "📊 FT - Val Loss: 0.6369, Val Acc: 0.8767\n",
      "\n",
      "🎯 Fine-Tuning Epoch 9/10\n",
      "   Current LR: 9.30e-07\n"
     ]
    },
    {
     "name": "stderr",
     "output_type": "stream",
     "text": [
      "Training: 100%|██████████| 503/503 [01:40<00:00,  5.02it/s, Loss=0.0107]\n",
      "Validation: 100%|██████████| 10/10 [00:00<00:00, 11.43it/s, Loss=0.0134]\n"
     ]
    },
    {
     "name": "stdout",
     "output_type": "stream",
     "text": [
      "📈 FT - Train Loss: 0.0200, Train Acc: 0.9990\n",
      "📊 FT - Val Loss: 0.6329, Val Acc: 0.8767\n",
      "\n",
      "🎯 Fine-Tuning Epoch 10/10\n",
      "   Current LR: 6.10e-07\n"
     ]
    },
    {
     "name": "stderr",
     "output_type": "stream",
     "text": [
      "Training: 100%|██████████| 503/503 [01:40<00:00,  5.02it/s, Loss=0.0100]\n",
      "Validation: 100%|██████████| 10/10 [00:00<00:00, 11.17it/s, Loss=0.0147]"
     ]
    },
    {
     "name": "stdout",
     "output_type": "stream",
     "text": [
      "📈 FT - Train Loss: 0.0238, Train Acc: 0.9983\n",
      "📊 FT - Val Loss: 0.5435, Val Acc: 0.9041\n",
      "\n",
      "✅ Fine-tuning complete! Best accuracy: 0.9041\n",
      "💾 Final model saved to 'best_finetuned_model.pth'\n"
     ]
    },
    {
     "name": "stderr",
     "output_type": "stream",
     "text": [
      "\n"
     ]
    }
   ],
   "source": [
    "# %%\n",
    "import torch\n",
    "import torch.optim as optim\n",
    "from torch.utils.data import DataLoader\n",
    "\n",
    "print(\"🚀 STARTING FINAL FINE-TUNING PHASE 🚀\")\n",
    "\n",
    "# --- 1. Configuration for Fine-Tuning ---\n",
    "FT_EPOCHS = 10                  \n",
    "FT_LEARNING_RATE = 5e-6         \n",
    "BEST_MODEL_PATH = 'best_full_model.pth'\n",
    "FINETUNED_MODEL_PATH = 'best_finetuned_model.pth'\n",
    "\n",
    "# --- 2. Load Data and Model ---\n",
    "device = torch.device('cuda' if torch.cuda.is_available() else 'cpu')\n",
    "\n",
    "# Use validation transforms for both train and val (no augmentation)\n",
    "_, ft_transform = get_enhanced_transforms(config['img_size'])\n",
    "train_dataset_ft = MelSpectrogramDataset(config['base_dir'], 'train', ft_transform)\n",
    "val_dataset_ft = MelSpectrogramDataset(config['base_dir'], 'validation', ft_transform)\n",
    "\n",
    "train_loader_ft = DataLoader(train_dataset_ft, batch_size=config['batch_size'], shuffle=True)\n",
    "val_loader_ft = DataLoader(val_dataset_ft, batch_size=config['batch_size'], shuffle=False)\n",
    "\n",
    "num_classes = len(train_dataset_ft.classes)\n",
    "\n",
    "# Instantiate and load model\n",
    "# CHANGED: Use TimmClassifier here as well\n",
    "model = TimmClassifier(\n",
    "    config['model_name'], num_classes, config['drop_rate']\n",
    ").to(device)\n",
    "print(\"✅ Model created successfully using the timm library!\")\n",
    "\n",
    "model.load_state_dict(torch.load(BEST_MODEL_PATH))\n",
    "print(f\"✅ Successfully loaded weights from '{BEST_MODEL_PATH}'\")\n",
    "\n",
    "# --- 3. Setup for Fine-Tuning ---\n",
    "optimizer = optim.AdamW(\n",
    "    model.parameters(), \n",
    "    lr=FT_LEARNING_RATE, \n",
    "    weight_decay=config['weight_decay'] * 0.1\n",
    ")\n",
    "scheduler = optim.lr_scheduler.CosineAnnealingLR(optimizer, T_max=FT_EPOCHS, eta_min=FT_LEARNING_RATE * 0.1)\n",
    "criterion = torch.nn.CrossEntropyLoss()\n",
    "\n",
    "# --- 4. Run Fine-Tuning Loop ---\n",
    "best_ft_acc = 0.0\n",
    "\n",
    "original_mixup = config.get('mixup_alpha', 0.4)\n",
    "config['mixup_alpha'] = 0.0  # Disable mixup\n",
    "\n",
    "for epoch in range(FT_EPOCHS):\n",
    "    print(f\"\\n🎯 Fine-Tuning Epoch {epoch+1}/{FT_EPOCHS}\")\n",
    "    print(f\"   Current LR: {optimizer.param_groups[0]['lr']:.2e}\")\n",
    "\n",
    "    train_loss, train_acc = train_epoch(model, train_loader_ft, criterion, optimizer, device)\n",
    "    val_loss, val_acc, _, _ = validate_epoch(model, val_loader_ft, criterion, device)\n",
    "    scheduler.step()\n",
    "\n",
    "    print(f\"📈 FT - Train Loss: {train_loss:.4f}, Train Acc: {train_acc:.4f}\")\n",
    "    print(f\"📊 FT - Val Loss: {val_loss:.4f}, Val Acc: {val_acc:.4f}\")\n",
    "\n",
    "    if val_acc > best_ft_acc:\n",
    "        best_ft_acc = val_acc\n",
    "        torch.save(model.state_dict(), FINETUNED_MODEL_PATH)\n",
    "        print(f\"💾 New best fine-tuned model saved! Acc: {val_acc:.4f}\")\n",
    "\n",
    "config['mixup_alpha'] = original_mixup\n",
    "\n",
    "print(f\"\\n✅ Fine-tuning complete! Best accuracy: {best_ft_acc:.4f}\")\n",
    "print(f\"💾 Final model saved to '{FINETUNED_MODEL_PATH}'\")"
   ]
  },
  {
   "cell_type": "code",
   "execution_count": 10,
   "id": "48d2532a",
   "metadata": {},
   "outputs": [
    {
     "name": "stdout",
     "output_type": "stream",
     "text": [
      "🧪 EVALUATING FINE-TUNED MODEL ON TEST DATA\n",
      "==================================================\n",
      "Using standard ImageNet normalization: mean=[0.485, 0.456, 0.406], std=[0.229, 0.224, 0.225]\n",
      "Found 74 images in test set\n",
      "Classes: ['Dysarthia', 'Laryngitis', 'Laryngozele', 'Vox senilis', 'parkinson', 'spasmodische_dysphonie']\n",
      "📊 Test dataset: 74 samples\n",
      "🎯 Number of classes: 6\n",
      "📝 Classes: ['Dysarthia', 'Laryngitis', 'Laryngozele', 'Vox senilis', 'parkinson', 'spasmodische_dysphonie']\n",
      "Feature dimension from timm model: 512\n",
      "✅ Loaded fine-tuned model from: best_finetuned_model.pth\n",
      "🔍 Generating predictions on test data...\n"
     ]
    },
    {
     "name": "stderr",
     "output_type": "stream",
     "text": [
      "Processing test batches: 100%|██████████| 10/10 [00:00<00:00, 11.21it/s]\n"
     ]
    },
    {
     "name": "stdout",
     "output_type": "stream",
     "text": [
      "✅ Test Accuracy: 0.8378 (83.78%)\n"
     ]
    },
    {
     "data": {
      "image/png": "[encoded data removed]",
      "text/plain": [
       "<Figure size 1200x1000 with 2 Axes>"
      ]
     },
     "metadata": {},
     "output_type": "display_data"
    },
    {
     "name": "stdout",
     "output_type": "stream",
     "text": [
      "\n",
      "============================================================\n",
      "📊 DETAILED CLASSIFICATION REPORT\n",
      "============================================================\n",
      "                        precision    recall  f1-score   support\n",
      "\n",
      "             Dysarthia     1.0000    1.0000    1.0000        13\n",
      "            Laryngitis     0.6923    0.6923    0.6923        13\n",
      "           Laryngozele     0.7000    0.7778    0.7368         9\n",
      "           Vox senilis     0.8462    0.8462    0.8462        13\n",
      "             parkinson     1.0000    1.0000    1.0000        13\n",
      "spasmodische_dysphonie     0.7500    0.6923    0.7200        13\n",
      "\n",
      "              accuracy                         0.8378        74\n",
      "             macro avg     0.8314    0.8348    0.8326        74\n",
      "          weighted avg     0.8385    0.8378    0.8377        74\n",
      "\n",
      "\n",
      "============================================================\n",
      "🔍 CONFUSION MATRIX ANALYSIS\n",
      "============================================================\n",
      "\n",
      "Top Misclassifications:\n",
      "  spasmodische_dysphonie → Laryngitis: 3 samples\n",
      "  Laryngitis → Laryngozele: 2 samples\n",
      "  Laryngitis → spasmodische_dysphonie: 2 samples\n",
      "  Laryngozele → Vox senilis: 1 samples\n",
      "  Laryngozele → spasmodische_dysphonie: 1 samples\n",
      "  Vox senilis → Laryngitis: 1 samples\n",
      "  Vox senilis → Laryngozele: 1 samples\n",
      "  spasmodische_dysphonie → Vox senilis: 1 samples\n",
      "\n",
      "Per-class Accuracy:\n",
      "  Dysarthia: 1.0000 (13/13)\n",
      "  Laryngitis: 0.6923 (9/13)\n",
      "  Laryngozele: 0.7778 (7/9)\n",
      "  Vox senilis: 0.8462 (11/13)\n",
      "  parkinson: 1.0000 (13/13)\n",
      "  spasmodische_dysphonie: 0.6923 (9/13)\n",
      "\n",
      "✅ Evaluation complete!\n",
      "💾 Confusion matrix saved as: confusion_matrix_finetuned_final.png\n"
     ]
    }
   ],
   "source": [
    "# %%\n",
    "import torch\n",
    "import numpy as np\n",
    "import matplotlib.pyplot as plt\n",
    "import seaborn as sns\n",
    "from sklearn.metrics import confusion_matrix, classification_report, accuracy_score\n",
    "from torch.utils.data import DataLoader\n",
    "\n",
    "def plot_confusion_matrix(model, test_loader, device, class_names, save_path='confusion_matrix_finetuned.png'):\n",
    "    model.eval()\n",
    "    all_predictions = []\n",
    "    all_targets = []\n",
    "    \n",
    "    print(\"🔍 Generating predictions on test data...\")\n",
    "    \n",
    "    with torch.no_grad():\n",
    "        for inputs, targets in tqdm(test_loader, desc=\"Processing test batches\"):\n",
    "            inputs = inputs.to(device)\n",
    "            targets = targets.to(device)\n",
    "            \n",
    "            outputs = model(inputs)\n",
    "            _, predictions = torch.max(outputs, 1)\n",
    "            \n",
    "            all_predictions.extend(predictions.cpu().numpy())\n",
    "            all_targets.extend(targets.cpu().numpy())\n",
    "    \n",
    "    all_predictions = np.array(all_predictions)\n",
    "    all_targets = np.array(all_targets)\n",
    "    \n",
    "    test_accuracy = accuracy_score(all_targets, all_predictions)\n",
    "    print(f\"✅ Test Accuracy: {test_accuracy:.4f} ({test_accuracy*100:.2f}%)\")\n",
    "    \n",
    "    cm = confusion_matrix(all_targets, all_predictions)\n",
    "    \n",
    "    plt.figure(figsize=(12, 10))\n",
    "    cm_normalized = cm.astype('float') / cm.sum(axis=1)[:, np.newaxis]\n",
    "    \n",
    "    sns.heatmap(cm_normalized, \n",
    "                annot=True, \n",
    "                fmt='.2f', \n",
    "                cmap='Blues',\n",
    "                xticklabels=class_names,\n",
    "                yticklabels=class_names,\n",
    "                cbar_kws={'label': 'Normalized Accuracy'})\n",
    "    \n",
    "    plt.title(f'Confusion Matrix - Fine-tuned Model\\nTest Accuracy: {test_accuracy:.4f}', fontsize=16, pad=20)\n",
    "    plt.xlabel('Predicted Labels', fontsize=12)\n",
    "    plt.ylabel('True Labels', fontsize=12)\n",
    "    plt.xticks(rotation=45, ha='right')\n",
    "    plt.yticks(rotation=0)\n",
    "    \n",
    "    plt.tight_layout()\n",
    "    plt.savefig(save_path, dpi=300, bbox_inches='tight')\n",
    "    plt.show()\n",
    "    \n",
    "    return cm, all_predictions, all_targets, test_accuracy\n",
    "\n",
    "def print_detailed_classification_report(all_targets, all_predictions, class_names):\n",
    "    print(\"\\n\" + \"=\"*60)\n",
    "    print(\"📊 DETAILED CLASSIFICATION REPORT\")\n",
    "    print(\"=\"*60)\n",
    "    \n",
    "    report = classification_report(all_targets, all_predictions, \n",
    "                                  target_names=class_names, digits=4)\n",
    "    print(report)\n",
    "\n",
    "def analyze_confusion_matrix(cm, class_names):\n",
    "    print(\"\\n\" + \"=\"*60)\n",
    "    print(\"🔍 CONFUSION MATRIX ANALYSIS\")\n",
    "    print(\"=\"*60)\n",
    "    \n",
    "    confusion_pairs = []\n",
    "    for i in range(len(class_names)):\n",
    "        for j in range(len(class_names)):\n",
    "            if i != j and cm[i, j] > 0:\n",
    "                confusion_pairs.append((class_names[i], class_names[j], cm[i, j]))\n",
    "    \n",
    "    confusion_pairs.sort(key=lambda x: x[2], reverse=True)\n",
    "    \n",
    "    print(\"\\nTop Misclassifications:\")\n",
    "    for true_label, pred_label, count in confusion_pairs[:10]:\n",
    "        print(f\"  {true_label} → {pred_label}: {count} samples\")\n",
    "    \n",
    "    print(\"\\nPer-class Accuracy:\")\n",
    "    for i, class_name in enumerate(class_names):\n",
    "        correct = cm[i, i]\n",
    "        total = cm[i].sum()\n",
    "        accuracy = correct / total if total > 0 else 0\n",
    "        print(f\"  {class_name}: {accuracy:.4f} ({correct}/{total})\")\n",
    "\n",
    "# --- MAIN EXECUTION ---\n",
    "if __name__ == \"__main__\":\n",
    "    FINETUNED_MODEL_PATH = 'best_finetuned_model.pth'\n",
    "    device = torch.device('cuda' if torch.cuda.is_available() else 'cpu')\n",
    "    \n",
    "    print(\"🧪 EVALUATING FINE-TUNED MODEL ON TEST DATA\")\n",
    "    print(\"=\"*50)\n",
    "    \n",
    "    _, test_transform = get_enhanced_transforms(config['img_size'])\n",
    "    test_dataset = MelSpectrogramDataset(config['base_dir'], 'test', test_transform)\n",
    "    test_loader = DataLoader(\n",
    "        test_dataset, \n",
    "        batch_size=config['batch_size'], \n",
    "        shuffle=False,\n",
    "        num_workers=config.get('num_workers', 2),\n",
    "        pin_memory=config.get('pin_memory', True)\n",
    "    )\n",
    "    \n",
    "    class_names = test_dataset.classes\n",
    "    num_classes = len(class_names)\n",
    "    \n",
    "    print(f\"📊 Test dataset: {len(test_dataset)} samples\")\n",
    "    print(f\"🎯 Number of classes: {num_classes}\")\n",
    "    print(f\"📝 Classes: {class_names}\")\n",
    "    \n",
    "    # CHANGED: Use TimmClassifier for final evaluation\n",
    "    model = TimmClassifier(\n",
    "        config['model_name'], num_classes, config['drop_rate']\n",
    "    ).to(device)\n",
    "    \n",
    "    model.load_state_dict(torch.load(FINETUNED_MODEL_PATH, map_location=device))\n",
    "    print(f\"✅ Loaded fine-tuned model from: {FINETUNED_MODEL_PATH}\")\n",
    "    \n",
    "    cm, predictions, targets, test_accuracy = plot_confusion_matrix(\n",
    "        model, test_loader, device, class_names,\n",
    "        save_path='confusion_matrix_finetuned_final.png'\n",
    "    )\n",
    "    \n",
    "    print_detailed_classification_report(targets, predictions, class_names)\n",
    "    analyze_confusion_matrix(cm, class_names)\n",
    "    \n",
    "    print(f\"\\n✅ Evaluation complete!\")\n",
    "    print(f\"💾 Confusion matrix saved as: confusion_matrix_finetuned_final.png\")"
   ]
  }
 ],
 "metadata": {
  "kernelspec": {
   "display_name": "Python 3",
   "language": "python",
   "name": "python3"
  },
  "language_info": {
   "codemirror_mode": {
    "name": "ipython",
    "version": 3
   },
   "file_extension": ".py",
   "mimetype": "text/x-python",
   "name": "python",
   "nbconvert_exporter": "python",
   "pygments_lexer": "ipython3",
   "version": "3.12.10"
  }
 },
 "nbformat": 4,
 "nbformat_minor": 5
}

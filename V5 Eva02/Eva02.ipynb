{
 "cells": [
  {
   "cell_type": "code",
   "execution_count": 1,
   "metadata": {
    "executionInfo": {
     "elapsed": 25,
     "status": "ok",
     "timestamp": 1759168685155,
     "user": {
      "displayName": "Abhinav R",
      "userId": "00585637111691785719"
     },
     "user_tz": -330
    },
    "id": "0QRasxNCnkZv"
   },
   "outputs": [],
   "source": [
    "import torch\n",
    "import torch.nn as nn\n",
    "import torch.optim as optim\n",
    "from torch.optim.lr_scheduler import CosineAnnealingLR\n",
    "from torchvision import datasets, transforms\n",
    "from torch.utils.data import DataLoader\n",
    "import timm\n",
    "from sklearn.metrics import classification_report, confusion_matrix, accuracy_score\n",
    "import seaborn as sns\n",
    "import matplotlib.pyplot as plt\n",
    "import numpy as np\n",
    "from tqdm import tqdm\n",
    "import os\n",
    "import copy\n",
    "\n",
    "# --- CONFIGURATION ---\n",
    "config = {\n",
    "    'data_path': r'A:\\Speech Journal\\melspectrograms_dataset',\n",
    "    'model_name': 'eva02_tiny_patch14_224.mim_in22k',\n",
    "    'batch_size': 16,\n",
    "    'img_size': 224,\n",
    "    'weight_decay': 0.01,\n",
    "    'epochs': 80,\n",
    "    'num_workers': 2,\n",
    "    'pin_memory': True,\n",
    "    'patience': 12,\n",
    "    'drop_rate': 0.4,\n",
    "    'drop_path_rate': 0.2,\n",
    "    'head_lr': 1e-3,\n",
    "    'head_epochs': 10,\n",
    "    'full_train_lr': 5e-5,\n",
    "    'lr_warmup_epochs': 5,\n",
    "    'label_smoothing': 0.1,\n",
    "}"
   ]
  },
  {
   "cell_type": "code",
   "execution_count": 2,
   "metadata": {
    "colab": {
     "base_uri": "https://localhost:8080/"
    },
    "executionInfo": {
     "elapsed": 53,
     "status": "ok",
     "timestamp": 1759168688809,
     "user": {
      "displayName": "Abhinav R",
      "userId": "00585637111691785719"
     },
     "user_tz": -330
    },
    "id": "ydQJSy0Snvvj",
    "outputId": "5e05149a-a890-416b-b6a1-be06976f1aa1"
   },
   "outputs": [
    {
     "name": "stdout",
     "output_type": "stream",
     "text": [
      "✅ Helper functions are defined.\n"
     ]
    }
   ],
   "source": [
    "# --- DATA PREPARATION, TRAINING, AND VALIDATION FUNCTIONS ---\n",
    "\n",
    "def get_data_loaders(data_path, img_size, batch_size, num_workers, pin_memory):\n",
    "    train_transform = transforms.Compose([\n",
    "        transforms.RandomResizedCrop(img_size, scale=(0.8, 1.0)),\n",
    "        transforms.RandomHorizontalFlip(),\n",
    "        transforms.TrivialAugmentWide(),\n",
    "        transforms.ToTensor(),\n",
    "        transforms.Normalize(mean=[0.485, 0.456, 0.406], std=[0.229, 0.224, 0.225]),\n",
    "    ])\n",
    "    val_test_transform = transforms.Compose([\n",
    "        transforms.Resize((img_size, img_size)),\n",
    "        transforms.ToTensor(),\n",
    "        transforms.Normalize(mean=[0.485, 0.456, 0.406], std=[0.229, 0.224, 0.225]),\n",
    "    ])\n",
    "    train_dataset = datasets.ImageFolder(root=os.path.join(data_path, 'train'), transform=train_transform)\n",
    "    val_dataset = datasets.ImageFolder(root=os.path.join(data_path, 'validation'), transform=val_test_transform)\n",
    "    test_dataset = datasets.ImageFolder(root=os.path.join(data_path, 'test'), transform=val_test_transform)\n",
    "    train_loader = DataLoader(train_dataset, batch_size=batch_size, shuffle=True, num_workers=num_workers, pin_memory=pin_memory)\n",
    "    val_loader = DataLoader(val_dataset, batch_size=batch_size, shuffle=False, num_workers=num_workers, pin_memory=pin_memory)\n",
    "    test_loader = DataLoader(test_dataset, batch_size=batch_size, shuffle=False, num_workers=num_workers, pin_memory=pin_memory)\n",
    "    class_names = train_dataset.classes\n",
    "    print(f\"Found classes: {class_names}\")\n",
    "    return train_loader, val_loader, test_loader, class_names\n",
    "\n",
    "def train_one_epoch(model, dataloader, criterion, optimizer, device):\n",
    "    model.train()\n",
    "    running_loss = 0.0\n",
    "    for inputs, labels in tqdm(dataloader, desc=\"Training\"):\n",
    "        inputs, labels = inputs.to(device), labels.to(device)\n",
    "        optimizer.zero_grad()\n",
    "        outputs = model(inputs)\n",
    "        loss = criterion(outputs, labels)\n",
    "        loss.backward()\n",
    "        optimizer.step()\n",
    "        running_loss += loss.item() * inputs.size(0)\n",
    "    return running_loss / len(dataloader.dataset)\n",
    "\n",
    "def validate_one_epoch(model, dataloader, criterion, device):\n",
    "    model.eval()\n",
    "    running_loss = 0.0\n",
    "    correct_predictions = 0\n",
    "    with torch.no_grad():\n",
    "        for inputs, labels in tqdm(dataloader, desc=\"Validating\"):\n",
    "            inputs, labels = inputs.to(device), labels.to(device)\n",
    "            outputs = model(inputs)\n",
    "            loss = criterion(outputs, labels)\n",
    "            running_loss += loss.item() * inputs.size(0)\n",
    "            _, preds = torch.max(outputs, 1)\n",
    "            correct_predictions += torch.sum(preds == labels.data)\n",
    "    acc = correct_predictions.double() / len(dataloader.dataset)\n",
    "    return running_loss / len(dataloader.dataset), acc.item()\n",
    "\n",
    "print(\"✅ Helper functions are defined.\")"
   ]
  },
  {
   "cell_type": "code",
   "execution_count": 3,
   "metadata": {
    "colab": {
     "base_uri": "https://localhost:8080/"
    },
    "executionInfo": {
     "elapsed": 257,
     "status": "ok",
     "timestamp": 1759168692788,
     "user": {
      "displayName": "Abhinav R",
      "userId": "00585637111691785719"
     },
     "user_tz": -330
    },
    "id": "Y-MtcJYdnx5b",
    "outputId": "78ed181b-ecd0-47d3-db5d-76e7735aa9c5"
   },
   "outputs": [
    {
     "name": "stdout",
     "output_type": "stream",
     "text": [
      "Using device: cuda\n",
      "Found classes: ['Dysarthia', 'Laryngitis', 'Laryngozele', 'Vox senilis', 'parkinson', 'spasmodische_dysphonie']\n",
      "\n",
      "✅ Model and data are ready for training!\n"
     ]
    }
   ],
   "source": [
    "# Set device\n",
    "device = torch.device(\"cuda\" if torch.cuda.is_available() else \"cpu\")\n",
    "print(f\"Using device: {device}\")\n",
    "\n",
    "# Load data\n",
    "train_loader, val_loader, test_loader, class_names = get_data_loaders(\n",
    "    config['data_path'], config['img_size'], config['batch_size'], config['num_workers'], config['pin_memory']\n",
    ")\n",
    "num_classes = len(class_names)\n",
    "\n",
    "# Load model\n",
    "model = timm.create_model(\n",
    "    config['model_name'], pretrained=True, num_classes=num_classes,\n",
    "    drop_rate=config['drop_rate'], drop_path_rate=config['drop_path_rate']\n",
    ")\n",
    "model.to(device)\n",
    "\n",
    "# Loss function\n",
    "criterion = nn.CrossEntropyLoss(label_smoothing=config['label_smoothing'])\n",
    "\n",
    "print(\"\\n✅ Model and data are ready for training!\")"
   ]
  },
  {
   "cell_type": "code",
   "execution_count": 4,
   "metadata": {
    "colab": {
     "base_uri": "https://localhost:8080/"
    },
    "executionInfo": {
     "elapsed": 2609157,
     "status": "ok",
     "timestamp": 1759171305238,
     "user": {
      "displayName": "Abhinav R",
      "userId": "00585637111691785719"
     },
     "user_tz": -330
    },
    "id": "jyTqN3Hfn079",
    "outputId": "13e6eb0c-5692-417e-b942-159a2daf0d80"
   },
   "outputs": [
    {
     "name": "stdout",
     "output_type": "stream",
     "text": [
      "\n",
      "--- Starting Phase 1: Head Training ---\n",
      "\n",
      "Epoch 1/10\n"
     ]
    },
    {
     "name": "stderr",
     "output_type": "stream",
     "text": [
      "Training: 100%|██████████| 252/252 [00:32<00:00,  7.73it/s]\n",
      "Validating: 100%|██████████| 5/5 [00:02<00:00,  1.70it/s]\n"
     ]
    },
    {
     "name": "stdout",
     "output_type": "stream",
     "text": [
      "Train Loss: 1.7793 | Val Loss: 1.5886 | Val Acc: 0.3014\n",
      "✅ New best model saved!\n",
      "\n",
      "Epoch 2/10\n"
     ]
    },
    {
     "name": "stderr",
     "output_type": "stream",
     "text": [
      "Training: 100%|██████████| 252/252 [00:17<00:00, 14.51it/s]\n",
      "Validating: 100%|██████████| 5/5 [00:02<00:00,  1.81it/s]\n"
     ]
    },
    {
     "name": "stdout",
     "output_type": "stream",
     "text": [
      "Train Loss: 1.7793 | Val Loss: 1.5003 | Val Acc: 0.4384\n",
      "✅ New best model saved!\n",
      "\n",
      "Epoch 3/10\n"
     ]
    },
    {
     "name": "stderr",
     "output_type": "stream",
     "text": [
      "Training: 100%|██████████| 252/252 [00:17<00:00, 14.61it/s]\n",
      "Validating: 100%|██████████| 5/5 [00:02<00:00,  1.82it/s]\n"
     ]
    },
    {
     "name": "stdout",
     "output_type": "stream",
     "text": [
      "Train Loss: 1.7682 | Val Loss: 1.4627 | Val Acc: 0.5205\n",
      "✅ New best model saved!\n",
      "\n",
      "Epoch 4/10\n"
     ]
    },
    {
     "name": "stderr",
     "output_type": "stream",
     "text": [
      "Training: 100%|██████████| 252/252 [00:17<00:00, 14.46it/s]\n",
      "Validating: 100%|██████████| 5/5 [00:02<00:00,  1.78it/s]\n"
     ]
    },
    {
     "name": "stdout",
     "output_type": "stream",
     "text": [
      "Train Loss: 1.7657 | Val Loss: 1.4828 | Val Acc: 0.4932\n",
      "\n",
      "Epoch 5/10\n"
     ]
    },
    {
     "name": "stderr",
     "output_type": "stream",
     "text": [
      "Training: 100%|██████████| 252/252 [00:17<00:00, 14.43it/s]\n",
      "Validating: 100%|██████████| 5/5 [00:02<00:00,  1.77it/s]\n"
     ]
    },
    {
     "name": "stdout",
     "output_type": "stream",
     "text": [
      "Train Loss: 1.7563 | Val Loss: 1.4886 | Val Acc: 0.5342\n",
      "✅ New best model saved!\n",
      "\n",
      "Epoch 6/10\n"
     ]
    },
    {
     "name": "stderr",
     "output_type": "stream",
     "text": [
      "Training: 100%|██████████| 252/252 [00:17<00:00, 14.62it/s]\n",
      "Validating: 100%|██████████| 5/5 [00:02<00:00,  1.85it/s]\n"
     ]
    },
    {
     "name": "stdout",
     "output_type": "stream",
     "text": [
      "Train Loss: 1.7542 | Val Loss: 1.4703 | Val Acc: 0.4932\n",
      "\n",
      "Epoch 7/10\n"
     ]
    },
    {
     "name": "stderr",
     "output_type": "stream",
     "text": [
      "Training: 100%|██████████| 252/252 [00:17<00:00, 14.61it/s]\n",
      "Validating: 100%|██████████| 5/5 [00:02<00:00,  1.82it/s]\n"
     ]
    },
    {
     "name": "stdout",
     "output_type": "stream",
     "text": [
      "Train Loss: 1.7376 | Val Loss: 1.5026 | Val Acc: 0.5068\n",
      "\n",
      "Epoch 8/10\n"
     ]
    },
    {
     "name": "stderr",
     "output_type": "stream",
     "text": [
      "Training: 100%|██████████| 252/252 [00:17<00:00, 14.65it/s]\n",
      "Validating: 100%|██████████| 5/5 [00:02<00:00,  1.81it/s]\n"
     ]
    },
    {
     "name": "stdout",
     "output_type": "stream",
     "text": [
      "Train Loss: 1.7404 | Val Loss: 1.4923 | Val Acc: 0.5068\n",
      "\n",
      "Epoch 9/10\n"
     ]
    },
    {
     "name": "stderr",
     "output_type": "stream",
     "text": [
      "Training: 100%|██████████| 252/252 [00:17<00:00, 14.52it/s]\n",
      "Validating: 100%|██████████| 5/5 [00:02<00:00,  1.80it/s]\n"
     ]
    },
    {
     "name": "stdout",
     "output_type": "stream",
     "text": [
      "Train Loss: 1.7292 | Val Loss: 1.4880 | Val Acc: 0.5205\n",
      "\n",
      "Epoch 10/10\n"
     ]
    },
    {
     "name": "stderr",
     "output_type": "stream",
     "text": [
      "Training: 100%|██████████| 252/252 [00:17<00:00, 14.50it/s]\n",
      "Validating: 100%|██████████| 5/5 [00:02<00:00,  1.76it/s]"
     ]
    },
    {
     "name": "stdout",
     "output_type": "stream",
     "text": [
      "Train Loss: 1.7284 | Val Loss: 1.4872 | Val Acc: 0.5068\n"
     ]
    },
    {
     "name": "stderr",
     "output_type": "stream",
     "text": [
      "\n"
     ]
    }
   ],
   "source": [
    "# --- PHASE 1: HEAD TRAINING ---\n",
    "print(\"\\n--- Starting Phase 1: Head Training ---\")\n",
    "for param in model.parameters(): param.requires_grad = False\n",
    "for param in model.head.parameters(): param.requires_grad = True\n",
    "optimizer = optim.AdamW(filter(lambda p: p.requires_grad, model.parameters()), lr=config['head_lr'], weight_decay=config['weight_decay'])\n",
    "scheduler = CosineAnnealingLR(optimizer, T_max=config['head_epochs'], eta_min=1e-6)\n",
    "best_val_acc = 0.0\n",
    "best_model_wts = copy.deepcopy(model.state_dict())\n",
    "\n",
    "for epoch in range(config['head_epochs']):\n",
    "    print(f\"\\nEpoch {epoch+1}/{config['head_epochs']}\")\n",
    "    train_loss = train_one_epoch(model, train_loader, criterion, optimizer, device)\n",
    "    val_loss, val_acc = validate_one_epoch(model, val_loader, criterion, device)\n",
    "    scheduler.step()\n",
    "    print(f\"Train Loss: {train_loss:.4f} | Val Loss: {val_loss:.4f} | Val Acc: {val_acc:.4f}\")\n",
    "    if val_acc > best_val_acc:\n",
    "        best_val_acc = val_acc\n",
    "        best_model_wts = copy.deepcopy(model.state_dict())\n",
    "        torch.save(model.state_dict(), 'best_model.pth')\n",
    "        print(\"✅ New best model saved!\")\n",
    "\n"
   ]
  },
  {
   "cell_type": "code",
   "execution_count": 5,
   "metadata": {},
   "outputs": [
    {
     "name": "stdout",
     "output_type": "stream",
     "text": [
      "\n",
      "--- Starting Phase 2: Full Fine-Tuning ---\n",
      "\n",
      "Epoch 1/80\n"
     ]
    },
    {
     "name": "stderr",
     "output_type": "stream",
     "text": [
      "Training: 100%|██████████| 252/252 [00:22<00:00, 11.42it/s]\n",
      "Validating: 100%|██████████| 5/5 [00:02<00:00,  1.83it/s]\n"
     ]
    },
    {
     "name": "stdout",
     "output_type": "stream",
     "text": [
      "Train Loss: 1.6048 | Val Loss: 1.2237 | Val Acc: 0.5068\n",
      "\n",
      "Epoch 2/80\n"
     ]
    },
    {
     "name": "stderr",
     "output_type": "stream",
     "text": [
      "Training: 100%|██████████| 252/252 [00:21<00:00, 11.49it/s]\n",
      "Validating: 100%|██████████| 5/5 [00:02<00:00,  1.79it/s]\n"
     ]
    },
    {
     "name": "stdout",
     "output_type": "stream",
     "text": [
      "Train Loss: 1.4304 | Val Loss: 1.1722 | Val Acc: 0.6027\n",
      "✅ New best model saved!\n",
      "\n",
      "Epoch 3/80\n"
     ]
    },
    {
     "name": "stderr",
     "output_type": "stream",
     "text": [
      "Training: 100%|██████████| 252/252 [00:22<00:00, 11.33it/s]\n",
      "Validating: 100%|██████████| 5/5 [00:02<00:00,  1.81it/s]\n"
     ]
    },
    {
     "name": "stdout",
     "output_type": "stream",
     "text": [
      "Train Loss: 1.3263 | Val Loss: 1.1272 | Val Acc: 0.5205\n",
      "\n",
      "Epoch 4/80\n"
     ]
    },
    {
     "name": "stderr",
     "output_type": "stream",
     "text": [
      "Training: 100%|██████████| 252/252 [00:22<00:00, 11.38it/s]\n",
      "Validating: 100%|██████████| 5/5 [00:02<00:00,  1.77it/s]\n"
     ]
    },
    {
     "name": "stdout",
     "output_type": "stream",
     "text": [
      "Train Loss: 1.2632 | Val Loss: 1.0508 | Val Acc: 0.6986\n",
      "✅ New best model saved!\n",
      "\n",
      "Epoch 5/80\n"
     ]
    },
    {
     "name": "stderr",
     "output_type": "stream",
     "text": [
      "Training: 100%|██████████| 252/252 [00:22<00:00, 11.36it/s]\n",
      "Validating: 100%|██████████| 5/5 [00:02<00:00,  1.79it/s]\n"
     ]
    },
    {
     "name": "stdout",
     "output_type": "stream",
     "text": [
      "Train Loss: 1.2077 | Val Loss: 1.0123 | Val Acc: 0.6438\n",
      "\n",
      "Epoch 6/80\n"
     ]
    },
    {
     "name": "stderr",
     "output_type": "stream",
     "text": [
      "Training: 100%|██████████| 252/252 [00:22<00:00, 11.31it/s]\n",
      "Validating: 100%|██████████| 5/5 [00:02<00:00,  1.73it/s]\n"
     ]
    },
    {
     "name": "stdout",
     "output_type": "stream",
     "text": [
      "Train Loss: 1.1519 | Val Loss: 1.0182 | Val Acc: 0.6712\n",
      "\n",
      "Epoch 7/80\n"
     ]
    },
    {
     "name": "stderr",
     "output_type": "stream",
     "text": [
      "Training: 100%|██████████| 252/252 [00:22<00:00, 11.13it/s]\n",
      "Validating: 100%|██████████| 5/5 [00:03<00:00,  1.32it/s]\n"
     ]
    },
    {
     "name": "stdout",
     "output_type": "stream",
     "text": [
      "Train Loss: 1.1067 | Val Loss: 0.9321 | Val Acc: 0.7397\n",
      "✅ New best model saved!\n",
      "\n",
      "Epoch 8/80\n"
     ]
    },
    {
     "name": "stderr",
     "output_type": "stream",
     "text": [
      "Training: 100%|██████████| 252/252 [00:35<00:00,  7.19it/s]\n",
      "Validating: 100%|██████████| 5/5 [00:03<00:00,  1.47it/s]\n"
     ]
    },
    {
     "name": "stdout",
     "output_type": "stream",
     "text": [
      "Train Loss: 1.0899 | Val Loss: 1.0474 | Val Acc: 0.6027\n",
      "\n",
      "Epoch 9/80\n"
     ]
    },
    {
     "name": "stderr",
     "output_type": "stream",
     "text": [
      "Training: 100%|██████████| 252/252 [00:22<00:00, 11.21it/s]\n",
      "Validating: 100%|██████████| 5/5 [00:02<00:00,  1.68it/s]\n"
     ]
    },
    {
     "name": "stdout",
     "output_type": "stream",
     "text": [
      "Train Loss: 1.0445 | Val Loss: 0.9540 | Val Acc: 0.6575\n",
      "\n",
      "Epoch 10/80\n"
     ]
    },
    {
     "name": "stderr",
     "output_type": "stream",
     "text": [
      "Training: 100%|██████████| 252/252 [00:22<00:00, 11.23it/s]\n",
      "Validating: 100%|██████████| 5/5 [00:02<00:00,  1.70it/s]\n"
     ]
    },
    {
     "name": "stdout",
     "output_type": "stream",
     "text": [
      "Train Loss: 1.0222 | Val Loss: 0.8933 | Val Acc: 0.6986\n",
      "\n",
      "Epoch 11/80\n"
     ]
    },
    {
     "name": "stderr",
     "output_type": "stream",
     "text": [
      "Training: 100%|██████████| 252/252 [00:22<00:00, 11.08it/s]\n",
      "Validating: 100%|██████████| 5/5 [00:02<00:00,  1.72it/s]\n"
     ]
    },
    {
     "name": "stdout",
     "output_type": "stream",
     "text": [
      "Train Loss: 1.0067 | Val Loss: 0.8744 | Val Acc: 0.7945\n",
      "✅ New best model saved!\n",
      "\n",
      "Epoch 12/80\n"
     ]
    },
    {
     "name": "stderr",
     "output_type": "stream",
     "text": [
      "Training: 100%|██████████| 252/252 [00:27<00:00,  9.25it/s]\n",
      "Validating: 100%|██████████| 5/5 [00:06<00:00,  1.33s/it]\n"
     ]
    },
    {
     "name": "stdout",
     "output_type": "stream",
     "text": [
      "Train Loss: 0.9681 | Val Loss: 0.8384 | Val Acc: 0.8082\n",
      "✅ New best model saved!\n",
      "\n",
      "Epoch 13/80\n"
     ]
    },
    {
     "name": "stderr",
     "output_type": "stream",
     "text": [
      "Training: 100%|██████████| 252/252 [00:26<00:00,  9.41it/s]\n",
      "Validating: 100%|██████████| 5/5 [00:05<00:00,  1.04s/it]\n"
     ]
    },
    {
     "name": "stdout",
     "output_type": "stream",
     "text": [
      "Train Loss: 0.9735 | Val Loss: 0.8153 | Val Acc: 0.8082\n",
      "\n",
      "Epoch 14/80\n"
     ]
    },
    {
     "name": "stderr",
     "output_type": "stream",
     "text": [
      "Training: 100%|██████████| 252/252 [00:26<00:00,  9.52it/s]\n",
      "Validating: 100%|██████████| 5/5 [00:02<00:00,  1.75it/s]\n"
     ]
    },
    {
     "name": "stdout",
     "output_type": "stream",
     "text": [
      "Train Loss: 0.9494 | Val Loss: 0.8294 | Val Acc: 0.7808\n",
      "\n",
      "Epoch 15/80\n"
     ]
    },
    {
     "name": "stderr",
     "output_type": "stream",
     "text": [
      "Training: 100%|██████████| 252/252 [00:24<00:00, 10.13it/s]\n",
      "Validating: 100%|██████████| 5/5 [00:04<00:00,  1.05it/s]\n"
     ]
    },
    {
     "name": "stdout",
     "output_type": "stream",
     "text": [
      "Train Loss: 0.9134 | Val Loss: 0.8642 | Val Acc: 0.7397\n",
      "\n",
      "Epoch 16/80\n"
     ]
    },
    {
     "name": "stderr",
     "output_type": "stream",
     "text": [
      "Training: 100%|██████████| 252/252 [00:27<00:00,  9.25it/s]\n",
      "Validating: 100%|██████████| 5/5 [00:02<00:00,  1.73it/s]\n"
     ]
    },
    {
     "name": "stdout",
     "output_type": "stream",
     "text": [
      "Train Loss: 0.9139 | Val Loss: 0.8417 | Val Acc: 0.7534\n",
      "\n",
      "Epoch 17/80\n"
     ]
    },
    {
     "name": "stderr",
     "output_type": "stream",
     "text": [
      "Training: 100%|██████████| 252/252 [00:22<00:00, 11.17it/s]\n",
      "Validating: 100%|██████████| 5/5 [00:02<00:00,  1.77it/s]\n"
     ]
    },
    {
     "name": "stdout",
     "output_type": "stream",
     "text": [
      "Train Loss: 0.8747 | Val Loss: 0.8471 | Val Acc: 0.7671\n",
      "\n",
      "Epoch 18/80\n"
     ]
    },
    {
     "name": "stderr",
     "output_type": "stream",
     "text": [
      "Training: 100%|██████████| 252/252 [00:26<00:00,  9.66it/s]\n",
      "Validating: 100%|██████████| 5/5 [00:06<00:00,  1.24s/it]\n"
     ]
    },
    {
     "name": "stdout",
     "output_type": "stream",
     "text": [
      "Train Loss: 0.8579 | Val Loss: 0.8586 | Val Acc: 0.8082\n",
      "\n",
      "Epoch 19/80\n"
     ]
    },
    {
     "name": "stderr",
     "output_type": "stream",
     "text": [
      "Training: 100%|██████████| 252/252 [00:29<00:00,  8.59it/s]\n",
      "Validating: 100%|██████████| 5/5 [00:03<00:00,  1.58it/s]\n"
     ]
    },
    {
     "name": "stdout",
     "output_type": "stream",
     "text": [
      "Train Loss: 0.8643 | Val Loss: 0.7944 | Val Acc: 0.8219\n",
      "✅ New best model saved!\n",
      "\n",
      "Epoch 20/80\n"
     ]
    },
    {
     "name": "stderr",
     "output_type": "stream",
     "text": [
      "Training: 100%|██████████| 252/252 [00:22<00:00, 11.25it/s]\n",
      "Validating: 100%|██████████| 5/5 [00:02<00:00,  1.79it/s]\n"
     ]
    },
    {
     "name": "stdout",
     "output_type": "stream",
     "text": [
      "Train Loss: 0.8337 | Val Loss: 0.8065 | Val Acc: 0.7945\n",
      "\n",
      "Epoch 21/80\n"
     ]
    },
    {
     "name": "stderr",
     "output_type": "stream",
     "text": [
      "Training: 100%|██████████| 252/252 [00:22<00:00, 11.28it/s]\n",
      "Validating: 100%|██████████| 5/5 [00:02<00:00,  1.84it/s]\n"
     ]
    },
    {
     "name": "stdout",
     "output_type": "stream",
     "text": [
      "Train Loss: 0.8236 | Val Loss: 0.7765 | Val Acc: 0.8219\n",
      "\n",
      "Epoch 22/80\n"
     ]
    },
    {
     "name": "stderr",
     "output_type": "stream",
     "text": [
      "Training: 100%|██████████| 252/252 [00:22<00:00, 11.33it/s]\n",
      "Validating: 100%|██████████| 5/5 [00:02<00:00,  1.73it/s]\n"
     ]
    },
    {
     "name": "stdout",
     "output_type": "stream",
     "text": [
      "Train Loss: 0.8083 | Val Loss: 0.7621 | Val Acc: 0.8493\n",
      "✅ New best model saved!\n",
      "\n",
      "Epoch 23/80\n"
     ]
    },
    {
     "name": "stderr",
     "output_type": "stream",
     "text": [
      "Training: 100%|██████████| 252/252 [00:22<00:00, 11.29it/s]\n",
      "Validating: 100%|██████████| 5/5 [00:03<00:00,  1.45it/s]\n"
     ]
    },
    {
     "name": "stdout",
     "output_type": "stream",
     "text": [
      "Train Loss: 0.8008 | Val Loss: 0.7626 | Val Acc: 0.8082\n",
      "\n",
      "Epoch 24/80\n"
     ]
    },
    {
     "name": "stderr",
     "output_type": "stream",
     "text": [
      "Training: 100%|██████████| 252/252 [00:23<00:00, 10.62it/s]\n",
      "Validating: 100%|██████████| 5/5 [00:06<00:00,  1.25s/it]\n"
     ]
    },
    {
     "name": "stdout",
     "output_type": "stream",
     "text": [
      "Train Loss: 0.7807 | Val Loss: 0.9386 | Val Acc: 0.7260\n",
      "\n",
      "Epoch 25/80\n"
     ]
    },
    {
     "name": "stderr",
     "output_type": "stream",
     "text": [
      "Training: 100%|██████████| 252/252 [00:27<00:00,  9.08it/s]\n",
      "Validating: 100%|██████████| 5/5 [00:02<00:00,  1.78it/s]\n"
     ]
    },
    {
     "name": "stdout",
     "output_type": "stream",
     "text": [
      "Train Loss: 0.7721 | Val Loss: 0.8611 | Val Acc: 0.7534\n",
      "\n",
      "Epoch 26/80\n"
     ]
    },
    {
     "name": "stderr",
     "output_type": "stream",
     "text": [
      "Training: 100%|██████████| 252/252 [00:22<00:00, 11.43it/s]\n",
      "Validating: 100%|██████████| 5/5 [00:02<00:00,  1.80it/s]\n"
     ]
    },
    {
     "name": "stdout",
     "output_type": "stream",
     "text": [
      "Train Loss: 0.7441 | Val Loss: 0.9141 | Val Acc: 0.7808\n",
      "\n",
      "Epoch 27/80\n"
     ]
    },
    {
     "name": "stderr",
     "output_type": "stream",
     "text": [
      "Training: 100%|██████████| 252/252 [00:25<00:00,  9.75it/s]\n",
      "Validating: 100%|██████████| 5/5 [00:06<00:00,  1.27s/it]\n"
     ]
    },
    {
     "name": "stdout",
     "output_type": "stream",
     "text": [
      "Train Loss: 0.7357 | Val Loss: 0.8928 | Val Acc: 0.7945\n",
      "\n",
      "Epoch 28/80\n"
     ]
    },
    {
     "name": "stderr",
     "output_type": "stream",
     "text": [
      "Training: 100%|██████████| 252/252 [00:28<00:00,  8.74it/s]\n",
      "Validating: 100%|██████████| 5/5 [00:03<00:00,  1.42it/s]\n"
     ]
    },
    {
     "name": "stdout",
     "output_type": "stream",
     "text": [
      "Train Loss: 0.7264 | Val Loss: 0.8925 | Val Acc: 0.7945\n",
      "\n",
      "Epoch 29/80\n"
     ]
    },
    {
     "name": "stderr",
     "output_type": "stream",
     "text": [
      "Training: 100%|██████████| 252/252 [00:26<00:00,  9.53it/s]\n",
      "Validating: 100%|██████████| 5/5 [00:06<00:00,  1.24s/it]\n"
     ]
    },
    {
     "name": "stdout",
     "output_type": "stream",
     "text": [
      "Train Loss: 0.7151 | Val Loss: 1.0402 | Val Acc: 0.6986\n",
      "\n",
      "Epoch 30/80\n"
     ]
    },
    {
     "name": "stderr",
     "output_type": "stream",
     "text": [
      "Training: 100%|██████████| 252/252 [00:24<00:00, 10.22it/s]\n",
      "Validating: 100%|██████████| 5/5 [00:02<00:00,  1.75it/s]\n"
     ]
    },
    {
     "name": "stdout",
     "output_type": "stream",
     "text": [
      "Train Loss: 0.7090 | Val Loss: 0.9122 | Val Acc: 0.7671\n",
      "\n",
      "Epoch 31/80\n"
     ]
    },
    {
     "name": "stderr",
     "output_type": "stream",
     "text": [
      "Training:  77%|███████▋  | 193/252 [00:18<00:05, 10.49it/s]\n"
     ]
    },
    {
     "ename": "KeyboardInterrupt",
     "evalue": "",
     "output_type": "error",
     "traceback": [
      "\u001b[1;31m---------------------------------------------------------------------------\u001b[0m",
      "\u001b[1;31mKeyboardInterrupt\u001b[0m                         Traceback (most recent call last)",
      "Cell \u001b[1;32mIn[5], line 12\u001b[0m\n\u001b[0;32m     10\u001b[0m \u001b[38;5;28;01mfor\u001b[39;00m epoch \u001b[38;5;129;01min\u001b[39;00m \u001b[38;5;28mrange\u001b[39m(config[\u001b[38;5;124m'\u001b[39m\u001b[38;5;124mepochs\u001b[39m\u001b[38;5;124m'\u001b[39m]):\n\u001b[0;32m     11\u001b[0m     \u001b[38;5;28mprint\u001b[39m(\u001b[38;5;124mf\u001b[39m\u001b[38;5;124m\"\u001b[39m\u001b[38;5;130;01m\\n\u001b[39;00m\u001b[38;5;124mEpoch \u001b[39m\u001b[38;5;132;01m{\u001b[39;00mepoch\u001b[38;5;241m+\u001b[39m\u001b[38;5;241m1\u001b[39m\u001b[38;5;132;01m}\u001b[39;00m\u001b[38;5;124m/\u001b[39m\u001b[38;5;132;01m{\u001b[39;00mconfig[\u001b[38;5;124m'\u001b[39m\u001b[38;5;124mepochs\u001b[39m\u001b[38;5;124m'\u001b[39m]\u001b[38;5;132;01m}\u001b[39;00m\u001b[38;5;124m\"\u001b[39m)\n\u001b[1;32m---> 12\u001b[0m     train_loss \u001b[38;5;241m=\u001b[39m \u001b[43mtrain_one_epoch\u001b[49m\u001b[43m(\u001b[49m\u001b[43mmodel\u001b[49m\u001b[43m,\u001b[49m\u001b[43m \u001b[49m\u001b[43mtrain_loader\u001b[49m\u001b[43m,\u001b[49m\u001b[43m \u001b[49m\u001b[43mcriterion\u001b[49m\u001b[43m,\u001b[49m\u001b[43m \u001b[49m\u001b[43moptimizer\u001b[49m\u001b[43m,\u001b[49m\u001b[43m \u001b[49m\u001b[43mdevice\u001b[49m\u001b[43m)\u001b[49m\n\u001b[0;32m     13\u001b[0m     val_loss, val_acc \u001b[38;5;241m=\u001b[39m validate_one_epoch(model, val_loader, criterion, device)\n\u001b[0;32m     14\u001b[0m     \u001b[38;5;28;01mif\u001b[39;00m epoch \u001b[38;5;241m<\u001b[39m config[\u001b[38;5;124m'\u001b[39m\u001b[38;5;124mlr_warmup_epochs\u001b[39m\u001b[38;5;124m'\u001b[39m]: warmup_scheduler\u001b[38;5;241m.\u001b[39mstep()\n",
      "Cell \u001b[1;32mIn[2], line 34\u001b[0m, in \u001b[0;36mtrain_one_epoch\u001b[1;34m(model, dataloader, criterion, optimizer, device)\u001b[0m\n\u001b[0;32m     32\u001b[0m outputs \u001b[38;5;241m=\u001b[39m model(inputs)\n\u001b[0;32m     33\u001b[0m loss \u001b[38;5;241m=\u001b[39m criterion(outputs, labels)\n\u001b[1;32m---> 34\u001b[0m \u001b[43mloss\u001b[49m\u001b[38;5;241;43m.\u001b[39;49m\u001b[43mbackward\u001b[49m\u001b[43m(\u001b[49m\u001b[43m)\u001b[49m\n\u001b[0;32m     35\u001b[0m optimizer\u001b[38;5;241m.\u001b[39mstep()\n\u001b[0;32m     36\u001b[0m running_loss \u001b[38;5;241m+\u001b[39m\u001b[38;5;241m=\u001b[39m loss\u001b[38;5;241m.\u001b[39mitem() \u001b[38;5;241m*\u001b[39m inputs\u001b[38;5;241m.\u001b[39msize(\u001b[38;5;241m0\u001b[39m)\n",
      "File \u001b[1;32mc:\\Users\\sreeh\\AppData\\Local\\Programs\\Python\\Python312\\Lib\\site-packages\\torch\\_tensor.py:624\u001b[0m, in \u001b[0;36mTensor.backward\u001b[1;34m(self, gradient, retain_graph, create_graph, inputs)\u001b[0m\n\u001b[0;32m    614\u001b[0m \u001b[38;5;28;01mif\u001b[39;00m has_torch_function_unary(\u001b[38;5;28mself\u001b[39m):\n\u001b[0;32m    615\u001b[0m     \u001b[38;5;28;01mreturn\u001b[39;00m handle_torch_function(\n\u001b[0;32m    616\u001b[0m         Tensor\u001b[38;5;241m.\u001b[39mbackward,\n\u001b[0;32m    617\u001b[0m         (\u001b[38;5;28mself\u001b[39m,),\n\u001b[1;32m   (...)\u001b[0m\n\u001b[0;32m    622\u001b[0m         inputs\u001b[38;5;241m=\u001b[39minputs,\n\u001b[0;32m    623\u001b[0m     )\n\u001b[1;32m--> 624\u001b[0m \u001b[43mtorch\u001b[49m\u001b[38;5;241;43m.\u001b[39;49m\u001b[43mautograd\u001b[49m\u001b[38;5;241;43m.\u001b[39;49m\u001b[43mbackward\u001b[49m\u001b[43m(\u001b[49m\n\u001b[0;32m    625\u001b[0m \u001b[43m    \u001b[49m\u001b[38;5;28;43mself\u001b[39;49m\u001b[43m,\u001b[49m\u001b[43m \u001b[49m\u001b[43mgradient\u001b[49m\u001b[43m,\u001b[49m\u001b[43m \u001b[49m\u001b[43mretain_graph\u001b[49m\u001b[43m,\u001b[49m\u001b[43m \u001b[49m\u001b[43mcreate_graph\u001b[49m\u001b[43m,\u001b[49m\u001b[43m \u001b[49m\u001b[43minputs\u001b[49m\u001b[38;5;241;43m=\u001b[39;49m\u001b[43minputs\u001b[49m\n\u001b[0;32m    626\u001b[0m \u001b[43m\u001b[49m\u001b[43m)\u001b[49m\n",
      "File \u001b[1;32mc:\\Users\\sreeh\\AppData\\Local\\Programs\\Python\\Python312\\Lib\\site-packages\\torch\\autograd\\__init__.py:347\u001b[0m, in \u001b[0;36mbackward\u001b[1;34m(tensors, grad_tensors, retain_graph, create_graph, grad_variables, inputs)\u001b[0m\n\u001b[0;32m    342\u001b[0m     retain_graph \u001b[38;5;241m=\u001b[39m create_graph\n\u001b[0;32m    344\u001b[0m \u001b[38;5;66;03m# The reason we repeat the same comment below is that\u001b[39;00m\n\u001b[0;32m    345\u001b[0m \u001b[38;5;66;03m# some Python versions print out the first line of a multi-line function\u001b[39;00m\n\u001b[0;32m    346\u001b[0m \u001b[38;5;66;03m# calls in the traceback and some print out the last line\u001b[39;00m\n\u001b[1;32m--> 347\u001b[0m \u001b[43m_engine_run_backward\u001b[49m\u001b[43m(\u001b[49m\n\u001b[0;32m    348\u001b[0m \u001b[43m    \u001b[49m\u001b[43mtensors\u001b[49m\u001b[43m,\u001b[49m\n\u001b[0;32m    349\u001b[0m \u001b[43m    \u001b[49m\u001b[43mgrad_tensors_\u001b[49m\u001b[43m,\u001b[49m\n\u001b[0;32m    350\u001b[0m \u001b[43m    \u001b[49m\u001b[43mretain_graph\u001b[49m\u001b[43m,\u001b[49m\n\u001b[0;32m    351\u001b[0m \u001b[43m    \u001b[49m\u001b[43mcreate_graph\u001b[49m\u001b[43m,\u001b[49m\n\u001b[0;32m    352\u001b[0m \u001b[43m    \u001b[49m\u001b[43minputs\u001b[49m\u001b[43m,\u001b[49m\n\u001b[0;32m    353\u001b[0m \u001b[43m    \u001b[49m\u001b[43mallow_unreachable\u001b[49m\u001b[38;5;241;43m=\u001b[39;49m\u001b[38;5;28;43;01mTrue\u001b[39;49;00m\u001b[43m,\u001b[49m\n\u001b[0;32m    354\u001b[0m \u001b[43m    \u001b[49m\u001b[43maccumulate_grad\u001b[49m\u001b[38;5;241;43m=\u001b[39;49m\u001b[38;5;28;43;01mTrue\u001b[39;49;00m\u001b[43m,\u001b[49m\n\u001b[0;32m    355\u001b[0m \u001b[43m\u001b[49m\u001b[43m)\u001b[49m\n",
      "File \u001b[1;32mc:\\Users\\sreeh\\AppData\\Local\\Programs\\Python\\Python312\\Lib\\site-packages\\torch\\autograd\\graph.py:825\u001b[0m, in \u001b[0;36m_engine_run_backward\u001b[1;34m(t_outputs, *args, **kwargs)\u001b[0m\n\u001b[0;32m    823\u001b[0m     unregister_hooks \u001b[38;5;241m=\u001b[39m _register_logging_hooks_on_whole_graph(t_outputs)\n\u001b[0;32m    824\u001b[0m \u001b[38;5;28;01mtry\u001b[39;00m:\n\u001b[1;32m--> 825\u001b[0m     \u001b[38;5;28;01mreturn\u001b[39;00m \u001b[43mVariable\u001b[49m\u001b[38;5;241;43m.\u001b[39;49m\u001b[43m_execution_engine\u001b[49m\u001b[38;5;241;43m.\u001b[39;49m\u001b[43mrun_backward\u001b[49m\u001b[43m(\u001b[49m\u001b[43m  \u001b[49m\u001b[38;5;66;43;03m# Calls into the C++ engine to run the backward pass\u001b[39;49;00m\n\u001b[0;32m    826\u001b[0m \u001b[43m        \u001b[49m\u001b[43mt_outputs\u001b[49m\u001b[43m,\u001b[49m\u001b[43m \u001b[49m\u001b[38;5;241;43m*\u001b[39;49m\u001b[43margs\u001b[49m\u001b[43m,\u001b[49m\u001b[43m \u001b[49m\u001b[38;5;241;43m*\u001b[39;49m\u001b[38;5;241;43m*\u001b[39;49m\u001b[43mkwargs\u001b[49m\n\u001b[0;32m    827\u001b[0m \u001b[43m    \u001b[49m\u001b[43m)\u001b[49m  \u001b[38;5;66;03m# Calls into the C++ engine to run the backward pass\u001b[39;00m\n\u001b[0;32m    828\u001b[0m \u001b[38;5;28;01mfinally\u001b[39;00m:\n\u001b[0;32m    829\u001b[0m     \u001b[38;5;28;01mif\u001b[39;00m attach_logging_hooks:\n",
      "\u001b[1;31mKeyboardInterrupt\u001b[0m: "
     ]
    }
   ],
   "source": [
    "# --- PHASE 2: FULL NETWORK FINE-TUNING ---\n",
    "print(\"\\n--- Starting Phase 2: Full Fine-Tuning ---\")\n",
    "for param in model.parameters(): param.requires_grad = True\n",
    "model.load_state_dict(best_model_wts)\n",
    "optimizer = optim.AdamW(model.parameters(), lr=config['full_train_lr'], weight_decay=config['weight_decay'])\n",
    "scheduler = CosineAnnealingLR(optimizer, T_max=config['epochs'] - config['lr_warmup_epochs'], eta_min=1e-6)\n",
    "warmup_scheduler = torch.optim.lr_scheduler.LambdaLR(optimizer, lambda e: (e+1)/config['lr_warmup_epochs'] if e < config['lr_warmup_epochs'] else 1)\n",
    "patience_counter = 0\n",
    "\n",
    "for epoch in range(config['epochs']):\n",
    "    print(f\"\\nEpoch {epoch+1}/{config['epochs']}\")\n",
    "    train_loss = train_one_epoch(model, train_loader, criterion, optimizer, device)\n",
    "    val_loss, val_acc = validate_one_epoch(model, val_loader, criterion, device)\n",
    "    if epoch < config['lr_warmup_epochs']: warmup_scheduler.step()\n",
    "    else: scheduler.step()\n",
    "    print(f\"Train Loss: {train_loss:.4f} | Val Loss: {val_loss:.4f} | Val Acc: {val_acc:.4f}\")\n",
    "    if val_acc > best_val_acc:\n",
    "        best_val_acc = val_acc\n",
    "        torch.save(model.state_dict(), 'best_model.pth')\n",
    "        print(\"✅ New best model saved!\")\n",
    "        patience_counter = 0\n",
    "    else:\n",
    "        patience_counter += 1\n",
    "    if patience_counter >= config['patience']:\n",
    "        print(\"Early stopping triggered.\")\n",
    "        break\n",
    "\n",
    "print(\"\\n🎉 Training finished!\")"
   ]
  },
  {
   "cell_type": "code",
   "execution_count": 6,
   "metadata": {
    "colab": {
     "base_uri": "https://localhost:8080/",
     "height": 1000
    },
    "executionInfo": {
     "elapsed": 1770,
     "status": "ok",
     "timestamp": 1759171325713,
     "user": {
      "displayName": "Abhinav R",
      "userId": "00585637111691785719"
     },
     "user_tz": -330
    },
    "id": "DStlL4l5n39j",
    "outputId": "badde70c-2d4b-4677-b497-8afeec63c5bb"
   },
   "outputs": [
    {
     "name": "stdout",
     "output_type": "stream",
     "text": [
      "\n",
      "--- Evaluating on Test Set ---\n"
     ]
    },
    {
     "name": "stderr",
     "output_type": "stream",
     "text": [
      "Testing: 100%|██████████| 5/5 [00:03<00:00,  1.50it/s]\n"
     ]
    },
    {
     "name": "stdout",
     "output_type": "stream",
     "text": [
      "\n",
      "Final Test Accuracy: 77.03%\n",
      "\n",
      "Classification Report:\n",
      "                        precision    recall  f1-score   support\n",
      "\n",
      "             Dysarthia       1.00      1.00      1.00        13\n",
      "            Laryngitis       0.50      0.46      0.48        13\n",
      "           Laryngozele       0.67      0.89      0.76         9\n",
      "           Vox senilis       0.69      0.85      0.76        13\n",
      "             parkinson       1.00      0.92      0.96        13\n",
      "spasmodische_dysphonie       0.78      0.54      0.64        13\n",
      "\n",
      "              accuracy                           0.77        74\n",
      "             macro avg       0.77      0.78      0.77        74\n",
      "          weighted avg       0.78      0.77      0.77        74\n",
      "\n",
      "\n",
      "Confusion matrix saved to confusion_matrix.png\n"
     ]
    },
    {
     "data": {
      "image/png": "[encoded data removed]",
      "text/plain": [
       "<Figure size 1000x800 with 2 Axes>"
      ]
     },
     "metadata": {},
     "output_type": "display_data"
    }
   ],
   "source": [
    "# --- FINAL EVALUATION ON TEST SET ---\n",
    "print(\"\\n--- Evaluating on Test Set ---\")\n",
    "\n",
    "# Create a new instance of the model architecture\n",
    "evaluation_model = timm.create_model(\n",
    "    config['model_name'], pretrained=False, num_classes=num_classes\n",
    ")\n",
    "# Load the best weights saved during training\n",
    "evaluation_model.load_state_dict(torch.load('best_model.pth'))\n",
    "evaluation_model.to(device)\n",
    "evaluation_model.eval()\n",
    "\n",
    "all_preds, all_labels = [], []\n",
    "with torch.no_grad():\n",
    "    for inputs, labels in tqdm(test_loader, desc=\"Testing\"):\n",
    "        inputs = inputs.to(device)\n",
    "        # Note: labels are not moved to device as they are used for CPU-side list extension\n",
    "        outputs = evaluation_model(inputs)\n",
    "        _, preds = torch.max(outputs, 1)\n",
    "        all_preds.extend(preds.cpu().numpy())\n",
    "        all_labels.extend(labels.numpy())\n",
    "\n",
    "print(f\"\\nFinal Test Accuracy: {accuracy_score(all_labels, all_preds) * 100:.2f}%\")\n",
    "print(\"\\nClassification Report:\")\n",
    "print(classification_report(all_labels, all_preds, target_names=class_names, zero_division=0))\n",
    "\n",
    "# Plot confusion matrix\n",
    "cm = confusion_matrix(all_labels, all_preds)\n",
    "plt.figure(figsize=(10, 8))\n",
    "sns.heatmap(cm, annot=True, fmt='d', cmap='Blues', xticklabels=class_names, yticklabels=class_names)\n",
    "plt.xlabel('Predicted'); plt.ylabel('True'); plt.title('Confusion Matrix')\n",
    "plt.savefig('confusion_matrix.png') # Save the plot\n",
    "print(\"\\nConfusion matrix saved to confusion_matrix.png\")\n",
    "plt.show()"
   ]
  },
  {
   "cell_type": "code",
   "execution_count": 12,
   "metadata": {},
   "outputs": [
    {
     "name": "stdout",
     "output_type": "stream",
     "text": [
      "\n",
      "🚀 STARTING ENHANCED FINAL FINE-TUNING PHASE 🚀\n",
      "\n",
      "--- Preparing enhanced data and model for fine-tuning ---\n",
      "📊 Training samples: 4021\n",
      "📊 Validation samples: 73\n",
      "📊 Classes: ['Dysarthia', 'Laryngitis', 'Laryngozele', 'Vox senilis', 'parkinson', 'spasmodische_dysphonie']\n",
      "   Dysarthia: 705 samples\n",
      "   Laryngitis: 714 samples\n",
      "   Laryngozele: 459 samples\n",
      "   Vox senilis: 711 samples\n",
      "   parkinson: 714 samples\n",
      "   spasmodische_dysphonie: 718 samples\n",
      "✅ Successfully loaded weights from 'best_model.pth'\n",
      "\n",
      "🔧 Setting up discriminative learning rates...\n",
      "   📉 Low LR (2.50e-07): cls_token\n",
      "   📉 Low LR (2.50e-07): pos_embed\n",
      "   📉 Low LR (2.50e-07): patch_embed.proj.weight\n",
      "   📉 Low LR (2.50e-07): patch_embed.proj.bias\n",
      "   📉 Low LR (2.50e-07): blocks.0.norm1.weight\n",
      "   📉 Low LR (2.50e-07): blocks.0.norm1.bias\n",
      "   📉 Low LR (2.50e-07): blocks.0.attn.q_bias\n",
      "   📉 Low LR (2.50e-07): blocks.0.attn.v_bias\n",
      "   📉 Low LR (2.50e-07): blocks.0.attn.qkv.weight\n",
      "   📉 Low LR (2.50e-07): blocks.0.attn.proj.weight\n",
      "   📉 Low LR (2.50e-07): blocks.0.attn.proj.bias\n",
      "   📉 Low LR (2.50e-07): blocks.0.norm2.weight\n",
      "   📉 Low LR (2.50e-07): blocks.0.norm2.bias\n",
      "   📈 High LR (5.00e-06): blocks.0.mlp.fc1.weight\n",
      "   📈 High LR (5.00e-06): blocks.0.mlp.fc1.bias\n",
      "   📈 High LR (5.00e-06): blocks.0.mlp.fc2.weight\n",
      "   📈 High LR (5.00e-06): blocks.0.mlp.fc2.bias\n",
      "   📉 Low LR (2.50e-07): blocks.1.norm1.weight\n",
      "   📉 Low LR (2.50e-07): blocks.1.norm1.bias\n",
      "   📉 Low LR (2.50e-07): blocks.1.attn.q_bias\n",
      "   📉 Low LR (2.50e-07): blocks.1.attn.v_bias\n",
      "   📉 Low LR (2.50e-07): blocks.1.attn.qkv.weight\n",
      "   📉 Low LR (2.50e-07): blocks.1.attn.proj.weight\n",
      "   📉 Low LR (2.50e-07): blocks.1.attn.proj.bias\n",
      "   📉 Low LR (2.50e-07): blocks.1.norm2.weight\n",
      "   📉 Low LR (2.50e-07): blocks.1.norm2.bias\n",
      "   📈 High LR (5.00e-06): blocks.1.mlp.fc1.weight\n",
      "   📈 High LR (5.00e-06): blocks.1.mlp.fc1.bias\n",
      "   📈 High LR (5.00e-06): blocks.1.mlp.fc2.weight\n",
      "   📈 High LR (5.00e-06): blocks.1.mlp.fc2.bias\n",
      "   📉 Low LR (2.50e-07): blocks.2.norm1.weight\n",
      "   📉 Low LR (2.50e-07): blocks.2.norm1.bias\n",
      "   📉 Low LR (2.50e-07): blocks.2.attn.q_bias\n",
      "   📉 Low LR (2.50e-07): blocks.2.attn.v_bias\n",
      "   📉 Low LR (2.50e-07): blocks.2.attn.qkv.weight\n",
      "   📉 Low LR (2.50e-07): blocks.2.attn.proj.weight\n",
      "   📉 Low LR (2.50e-07): blocks.2.attn.proj.bias\n",
      "   📉 Low LR (2.50e-07): blocks.2.norm2.weight\n",
      "   📉 Low LR (2.50e-07): blocks.2.norm2.bias\n",
      "   📈 High LR (5.00e-06): blocks.2.mlp.fc1.weight\n",
      "   📈 High LR (5.00e-06): blocks.2.mlp.fc1.bias\n",
      "   📈 High LR (5.00e-06): blocks.2.mlp.fc2.weight\n",
      "   📈 High LR (5.00e-06): blocks.2.mlp.fc2.bias\n",
      "   📉 Low LR (2.50e-07): blocks.3.norm1.weight\n",
      "   📉 Low LR (2.50e-07): blocks.3.norm1.bias\n",
      "   📉 Low LR (2.50e-07): blocks.3.attn.q_bias\n",
      "   📉 Low LR (2.50e-07): blocks.3.attn.v_bias\n",
      "   📉 Low LR (2.50e-07): blocks.3.attn.qkv.weight\n",
      "   📉 Low LR (2.50e-07): blocks.3.attn.proj.weight\n",
      "   📉 Low LR (2.50e-07): blocks.3.attn.proj.bias\n",
      "   📉 Low LR (2.50e-07): blocks.3.norm2.weight\n",
      "   📉 Low LR (2.50e-07): blocks.3.norm2.bias\n",
      "   📈 High LR (5.00e-06): blocks.3.mlp.fc1.weight\n",
      "   📈 High LR (5.00e-06): blocks.3.mlp.fc1.bias\n",
      "   📈 High LR (5.00e-06): blocks.3.mlp.fc2.weight\n",
      "   📈 High LR (5.00e-06): blocks.3.mlp.fc2.bias\n",
      "   📉 Low LR (2.50e-07): blocks.4.norm1.weight\n",
      "   📉 Low LR (2.50e-07): blocks.4.norm1.bias\n",
      "   📉 Low LR (2.50e-07): blocks.4.attn.q_bias\n",
      "   📉 Low LR (2.50e-07): blocks.4.attn.v_bias\n",
      "   📉 Low LR (2.50e-07): blocks.4.attn.qkv.weight\n",
      "   📉 Low LR (2.50e-07): blocks.4.attn.proj.weight\n",
      "   📉 Low LR (2.50e-07): blocks.4.attn.proj.bias\n",
      "   📉 Low LR (2.50e-07): blocks.4.norm2.weight\n",
      "   📉 Low LR (2.50e-07): blocks.4.norm2.bias\n",
      "   📈 High LR (5.00e-06): blocks.4.mlp.fc1.weight\n",
      "   📈 High LR (5.00e-06): blocks.4.mlp.fc1.bias\n",
      "   📈 High LR (5.00e-06): blocks.4.mlp.fc2.weight\n",
      "   📈 High LR (5.00e-06): blocks.4.mlp.fc2.bias\n",
      "   📉 Low LR (2.50e-07): blocks.5.norm1.weight\n",
      "   📉 Low LR (2.50e-07): blocks.5.norm1.bias\n",
      "   📉 Low LR (2.50e-07): blocks.5.attn.q_bias\n",
      "   📉 Low LR (2.50e-07): blocks.5.attn.v_bias\n",
      "   📉 Low LR (2.50e-07): blocks.5.attn.qkv.weight\n",
      "   📉 Low LR (2.50e-07): blocks.5.attn.proj.weight\n",
      "   📉 Low LR (2.50e-07): blocks.5.attn.proj.bias\n",
      "   📉 Low LR (2.50e-07): blocks.5.norm2.weight\n",
      "   📉 Low LR (2.50e-07): blocks.5.norm2.bias\n",
      "   📈 High LR (5.00e-06): blocks.5.mlp.fc1.weight\n",
      "   📈 High LR (5.00e-06): blocks.5.mlp.fc1.bias\n",
      "   📈 High LR (5.00e-06): blocks.5.mlp.fc2.weight\n",
      "   📈 High LR (5.00e-06): blocks.5.mlp.fc2.bias\n",
      "   📉 Low LR (2.50e-07): blocks.6.norm1.weight\n",
      "   📉 Low LR (2.50e-07): blocks.6.norm1.bias\n",
      "   📉 Low LR (2.50e-07): blocks.6.attn.q_bias\n",
      "   📉 Low LR (2.50e-07): blocks.6.attn.v_bias\n",
      "   📉 Low LR (2.50e-07): blocks.6.attn.qkv.weight\n",
      "   📉 Low LR (2.50e-07): blocks.6.attn.proj.weight\n",
      "   📉 Low LR (2.50e-07): blocks.6.attn.proj.bias\n",
      "   📉 Low LR (2.50e-07): blocks.6.norm2.weight\n",
      "   📉 Low LR (2.50e-07): blocks.6.norm2.bias\n",
      "   📈 High LR (5.00e-06): blocks.6.mlp.fc1.weight\n",
      "   📈 High LR (5.00e-06): blocks.6.mlp.fc1.bias\n",
      "   📈 High LR (5.00e-06): blocks.6.mlp.fc2.weight\n",
      "   📈 High LR (5.00e-06): blocks.6.mlp.fc2.bias\n",
      "   📉 Low LR (2.50e-07): blocks.7.norm1.weight\n",
      "   📉 Low LR (2.50e-07): blocks.7.norm1.bias\n",
      "   📉 Low LR (2.50e-07): blocks.7.attn.q_bias\n",
      "   📉 Low LR (2.50e-07): blocks.7.attn.v_bias\n",
      "   📉 Low LR (2.50e-07): blocks.7.attn.qkv.weight\n",
      "   📉 Low LR (2.50e-07): blocks.7.attn.proj.weight\n",
      "   📉 Low LR (2.50e-07): blocks.7.attn.proj.bias\n",
      "   📉 Low LR (2.50e-07): blocks.7.norm2.weight\n",
      "   📉 Low LR (2.50e-07): blocks.7.norm2.bias\n",
      "   📈 High LR (5.00e-06): blocks.7.mlp.fc1.weight\n",
      "   📈 High LR (5.00e-06): blocks.7.mlp.fc1.bias\n",
      "   📈 High LR (5.00e-06): blocks.7.mlp.fc2.weight\n",
      "   📈 High LR (5.00e-06): blocks.7.mlp.fc2.bias\n",
      "   📉 Low LR (2.50e-07): blocks.8.norm1.weight\n",
      "   📉 Low LR (2.50e-07): blocks.8.norm1.bias\n",
      "   📉 Low LR (2.50e-07): blocks.8.attn.q_bias\n",
      "   📉 Low LR (2.50e-07): blocks.8.attn.v_bias\n",
      "   📉 Low LR (2.50e-07): blocks.8.attn.qkv.weight\n",
      "   📉 Low LR (2.50e-07): blocks.8.attn.proj.weight\n",
      "   📉 Low LR (2.50e-07): blocks.8.attn.proj.bias\n",
      "   📉 Low LR (2.50e-07): blocks.8.norm2.weight\n",
      "   📉 Low LR (2.50e-07): blocks.8.norm2.bias\n",
      "   📈 High LR (5.00e-06): blocks.8.mlp.fc1.weight\n",
      "   📈 High LR (5.00e-06): blocks.8.mlp.fc1.bias\n",
      "   📈 High LR (5.00e-06): blocks.8.mlp.fc2.weight\n",
      "   📈 High LR (5.00e-06): blocks.8.mlp.fc2.bias\n",
      "   📉 Low LR (2.50e-07): blocks.9.norm1.weight\n",
      "   📉 Low LR (2.50e-07): blocks.9.norm1.bias\n",
      "   📉 Low LR (2.50e-07): blocks.9.attn.q_bias\n",
      "   📉 Low LR (2.50e-07): blocks.9.attn.v_bias\n",
      "   📉 Low LR (2.50e-07): blocks.9.attn.qkv.weight\n",
      "   📉 Low LR (2.50e-07): blocks.9.attn.proj.weight\n",
      "   📉 Low LR (2.50e-07): blocks.9.attn.proj.bias\n",
      "   📉 Low LR (2.50e-07): blocks.9.norm2.weight\n",
      "   📉 Low LR (2.50e-07): blocks.9.norm2.bias\n",
      "   📈 High LR (5.00e-06): blocks.9.mlp.fc1.weight\n",
      "   📈 High LR (5.00e-06): blocks.9.mlp.fc1.bias\n",
      "   📈 High LR (5.00e-06): blocks.9.mlp.fc2.weight\n",
      "   📈 High LR (5.00e-06): blocks.9.mlp.fc2.bias\n",
      "   📉 Low LR (2.50e-07): blocks.10.norm1.weight\n",
      "   📉 Low LR (2.50e-07): blocks.10.norm1.bias\n",
      "   📉 Low LR (2.50e-07): blocks.10.attn.q_bias\n",
      "   📉 Low LR (2.50e-07): blocks.10.attn.v_bias\n",
      "   📉 Low LR (2.50e-07): blocks.10.attn.qkv.weight\n",
      "   📉 Low LR (2.50e-07): blocks.10.attn.proj.weight\n",
      "   📉 Low LR (2.50e-07): blocks.10.attn.proj.bias\n",
      "   📉 Low LR (2.50e-07): blocks.10.norm2.weight\n",
      "   📉 Low LR (2.50e-07): blocks.10.norm2.bias\n",
      "   📈 High LR (5.00e-06): blocks.10.mlp.fc1.weight\n",
      "   📈 High LR (5.00e-06): blocks.10.mlp.fc1.bias\n",
      "   📈 High LR (5.00e-06): blocks.10.mlp.fc2.weight\n",
      "   📈 High LR (5.00e-06): blocks.10.mlp.fc2.bias\n",
      "   📉 Low LR (2.50e-07): blocks.11.norm1.weight\n",
      "   📉 Low LR (2.50e-07): blocks.11.norm1.bias\n",
      "   📉 Low LR (2.50e-07): blocks.11.attn.q_bias\n",
      "   📉 Low LR (2.50e-07): blocks.11.attn.v_bias\n",
      "   📉 Low LR (2.50e-07): blocks.11.attn.qkv.weight\n",
      "   📉 Low LR (2.50e-07): blocks.11.attn.proj.weight\n",
      "   📉 Low LR (2.50e-07): blocks.11.attn.proj.bias\n",
      "   📉 Low LR (2.50e-07): blocks.11.norm2.weight\n",
      "   📉 Low LR (2.50e-07): blocks.11.norm2.bias\n",
      "   📈 High LR (5.00e-06): blocks.11.mlp.fc1.weight\n",
      "   📈 High LR (5.00e-06): blocks.11.mlp.fc1.bias\n",
      "   📈 High LR (5.00e-06): blocks.11.mlp.fc2.weight\n",
      "   📈 High LR (5.00e-06): blocks.11.mlp.fc2.bias\n",
      "   📈 High LR (5.00e-06): fc_norm.weight\n",
      "   📈 High LR (5.00e-06): fc_norm.bias\n",
      "   📉 Low LR (2.50e-07): head.weight\n",
      "   📉 Low LR (2.50e-07): head.bias\n",
      "\n",
      "🎯 Starting enhanced fine-tuning...\n",
      "\n",
      "============================================================\n",
      "🎯 Enhanced Fine-Tuning Epoch 1/25\n",
      "============================================================\n",
      "📊 Learning Rates: ['2.50e-07', '2.50e-07', '2.50e-07', '2.50e-07', '2.50e-07', '2.50e-07', '2.50e-07', '2.50e-07', '2.50e-07', '2.50e-07', '2.50e-07', '2.50e-07', '2.50e-07', '5.00e-06', '5.00e-06', '5.00e-06', '5.00e-06', '2.50e-07', '2.50e-07', '2.50e-07', '2.50e-07', '2.50e-07', '2.50e-07', '2.50e-07', '2.50e-07', '2.50e-07', '5.00e-06', '5.00e-06', '5.00e-06', '5.00e-06', '2.50e-07', '2.50e-07', '2.50e-07', '2.50e-07', '2.50e-07', '2.50e-07', '2.50e-07', '2.50e-07', '2.50e-07', '5.00e-06', '5.00e-06', '5.00e-06', '5.00e-06', '2.50e-07', '2.50e-07', '2.50e-07', '2.50e-07', '2.50e-07', '2.50e-07', '2.50e-07', '2.50e-07', '2.50e-07', '5.00e-06', '5.00e-06', '5.00e-06', '5.00e-06', '2.50e-07', '2.50e-07', '2.50e-07', '2.50e-07', '2.50e-07', '2.50e-07', '2.50e-07', '2.50e-07', '2.50e-07', '5.00e-06', '5.00e-06', '5.00e-06', '5.00e-06', '2.50e-07', '2.50e-07', '2.50e-07', '2.50e-07', '2.50e-07', '2.50e-07', '2.50e-07', '2.50e-07', '2.50e-07', '5.00e-06', '5.00e-06', '5.00e-06', '5.00e-06', '2.50e-07', '2.50e-07', '2.50e-07', '2.50e-07', '2.50e-07', '2.50e-07', '2.50e-07', '2.50e-07', '2.50e-07', '5.00e-06', '5.00e-06', '5.00e-06', '5.00e-06', '2.50e-07', '2.50e-07', '2.50e-07', '2.50e-07', '2.50e-07', '2.50e-07', '2.50e-07', '2.50e-07', '2.50e-07', '5.00e-06', '5.00e-06', '5.00e-06', '5.00e-06', '2.50e-07', '2.50e-07', '2.50e-07', '2.50e-07', '2.50e-07', '2.50e-07', '2.50e-07', '2.50e-07', '2.50e-07', '5.00e-06', '5.00e-06', '5.00e-06', '5.00e-06', '2.50e-07', '2.50e-07', '2.50e-07', '2.50e-07', '2.50e-07', '2.50e-07', '2.50e-07', '2.50e-07', '2.50e-07', '5.00e-06', '5.00e-06', '5.00e-06', '5.00e-06', '2.50e-07', '2.50e-07', '2.50e-07', '2.50e-07', '2.50e-07', '2.50e-07', '2.50e-07', '2.50e-07', '2.50e-07', '5.00e-06', '5.00e-06', '5.00e-06', '5.00e-06', '2.50e-07', '2.50e-07', '2.50e-07', '2.50e-07', '2.50e-07', '2.50e-07', '2.50e-07', '2.50e-07', '2.50e-07', '5.00e-06', '5.00e-06', '5.00e-06', '5.00e-06', '5.00e-06', '5.00e-06', '2.50e-07', '2.50e-07']\n",
      "   Batch 0/252 - Loss: 0.5287\n",
      "   Batch 10/252 - Loss: 0.6022\n",
      "   Batch 20/252 - Loss: 0.5020\n",
      "   Batch 30/252 - Loss: 0.6767\n",
      "   Batch 40/252 - Loss: 0.8071\n",
      "   Batch 50/252 - Loss: 0.4659\n",
      "   Batch 60/252 - Loss: 0.5849\n",
      "   Batch 70/252 - Loss: 0.5330\n",
      "   Batch 80/252 - Loss: 0.6086\n",
      "   Batch 90/252 - Loss: 0.5787\n",
      "   Batch 100/252 - Loss: 0.7129\n",
      "   Batch 110/252 - Loss: 0.6731\n",
      "   Batch 120/252 - Loss: 0.8280\n",
      "   Batch 130/252 - Loss: 0.5712\n",
      "   Batch 140/252 - Loss: 0.5739\n",
      "   Batch 150/252 - Loss: 0.3104\n",
      "   Batch 160/252 - Loss: 0.4460\n",
      "   Batch 170/252 - Loss: 0.5606\n",
      "   Batch 180/252 - Loss: 0.4896\n",
      "   Batch 190/252 - Loss: 0.6767\n",
      "   Batch 200/252 - Loss: 0.4527\n",
      "   Batch 210/252 - Loss: 0.4241\n",
      "   Batch 220/252 - Loss: 0.9824\n",
      "   Batch 230/252 - Loss: 0.4635\n",
      "   Batch 240/252 - Loss: 0.5928\n",
      "   Batch 250/252 - Loss: 0.5946\n"
     ]
    },
    {
     "name": "stderr",
     "output_type": "stream",
     "text": [
      "Validating: 100%|██████████| 5/5 [00:02<00:00,  1.83it/s]\n"
     ]
    },
    {
     "name": "stdout",
     "output_type": "stream",
     "text": [
      "\n",
      "📈 Epoch 1 Summary:\n",
      "   Train Loss: 0.5718 | Train Acc: 0.8513\n",
      "   Val Loss: 0.6490 | Val Acc: 0.8082 | F1-Score: 0.7911\n",
      "   💾 New best accuracy! Accuracy: 0.8082\n",
      "\n",
      "============================================================\n",
      "🎯 Enhanced Fine-Tuning Epoch 2/25\n",
      "============================================================\n",
      "📊 Learning Rates: ['2.50e-07', '2.50e-07', '2.50e-07', '2.50e-07', '2.50e-07', '2.50e-07', '2.50e-07', '2.50e-07', '2.50e-07', '2.50e-07', '2.50e-07', '2.50e-07', '2.50e-07', '5.00e-06', '5.00e-06', '5.00e-06', '5.00e-06', '2.50e-07', '2.50e-07', '2.50e-07', '2.50e-07', '2.50e-07', '2.50e-07', '2.50e-07', '2.50e-07', '2.50e-07', '5.00e-06', '5.00e-06', '5.00e-06', '5.00e-06', '2.50e-07', '2.50e-07', '2.50e-07', '2.50e-07', '2.50e-07', '2.50e-07', '2.50e-07', '2.50e-07', '2.50e-07', '5.00e-06', '5.00e-06', '5.00e-06', '5.00e-06', '2.50e-07', '2.50e-07', '2.50e-07', '2.50e-07', '2.50e-07', '2.50e-07', '2.50e-07', '2.50e-07', '2.50e-07', '5.00e-06', '5.00e-06', '5.00e-06', '5.00e-06', '2.50e-07', '2.50e-07', '2.50e-07', '2.50e-07', '2.50e-07', '2.50e-07', '2.50e-07', '2.50e-07', '2.50e-07', '5.00e-06', '5.00e-06', '5.00e-06', '5.00e-06', '2.50e-07', '2.50e-07', '2.50e-07', '2.50e-07', '2.50e-07', '2.50e-07', '2.50e-07', '2.50e-07', '2.50e-07', '5.00e-06', '5.00e-06', '5.00e-06', '5.00e-06', '2.50e-07', '2.50e-07', '2.50e-07', '2.50e-07', '2.50e-07', '2.50e-07', '2.50e-07', '2.50e-07', '2.50e-07', '5.00e-06', '5.00e-06', '5.00e-06', '5.00e-06', '2.50e-07', '2.50e-07', '2.50e-07', '2.50e-07', '2.50e-07', '2.50e-07', '2.50e-07', '2.50e-07', '2.50e-07', '5.00e-06', '5.00e-06', '5.00e-06', '5.00e-06', '2.50e-07', '2.50e-07', '2.50e-07', '2.50e-07', '2.50e-07', '2.50e-07', '2.50e-07', '2.50e-07', '2.50e-07', '5.00e-06', '5.00e-06', '5.00e-06', '5.00e-06', '2.50e-07', '2.50e-07', '2.50e-07', '2.50e-07', '2.50e-07', '2.50e-07', '2.50e-07', '2.50e-07', '2.50e-07', '5.00e-06', '5.00e-06', '5.00e-06', '5.00e-06', '2.50e-07', '2.50e-07', '2.50e-07', '2.50e-07', '2.50e-07', '2.50e-07', '2.50e-07', '2.50e-07', '2.50e-07', '5.00e-06', '5.00e-06', '5.00e-06', '5.00e-06', '2.50e-07', '2.50e-07', '2.50e-07', '2.50e-07', '2.50e-07', '2.50e-07', '2.50e-07', '2.50e-07', '2.50e-07', '5.00e-06', '5.00e-06', '5.00e-06', '5.00e-06', '5.00e-06', '5.00e-06', '2.50e-07', '2.50e-07']\n",
      "   Batch 0/252 - Loss: 0.3939\n",
      "   Batch 10/252 - Loss: 0.6721\n",
      "   Batch 20/252 - Loss: 0.3644\n",
      "   Batch 30/252 - Loss: 0.6617\n",
      "   Batch 40/252 - Loss: 0.4114\n",
      "   Batch 50/252 - Loss: 0.7897\n",
      "   Batch 60/252 - Loss: 0.5283\n",
      "   Batch 70/252 - Loss: 0.3984\n",
      "   Batch 80/252 - Loss: 0.4027\n",
      "   Batch 90/252 - Loss: 0.5052\n",
      "   Batch 100/252 - Loss: 0.5285\n",
      "   Batch 110/252 - Loss: 0.4437\n",
      "   Batch 120/252 - Loss: 0.5546\n",
      "   Batch 130/252 - Loss: 0.7003\n",
      "   Batch 140/252 - Loss: 0.6638\n",
      "   Batch 150/252 - Loss: 0.4404\n",
      "   Batch 160/252 - Loss: 0.3553\n",
      "   Batch 170/252 - Loss: 0.3772\n",
      "   Batch 180/252 - Loss: 0.6260\n",
      "   Batch 190/252 - Loss: 0.5063\n",
      "   Batch 200/252 - Loss: 0.5703\n",
      "   Batch 210/252 - Loss: 0.4520\n",
      "   Batch 220/252 - Loss: 0.6576\n",
      "   Batch 230/252 - Loss: 0.9813\n",
      "   Batch 240/252 - Loss: 0.4414\n",
      "   Batch 250/252 - Loss: 0.6506\n"
     ]
    },
    {
     "name": "stderr",
     "output_type": "stream",
     "text": [
      "Validating: 100%|██████████| 5/5 [00:02<00:00,  1.79it/s]\n"
     ]
    },
    {
     "name": "stdout",
     "output_type": "stream",
     "text": [
      "\n",
      "📈 Epoch 2 Summary:\n",
      "   Train Loss: 0.5307 | Train Acc: 0.8719\n",
      "   Val Loss: 0.6620 | Val Acc: 0.8219 | F1-Score: 0.8027\n",
      "   💾 New best accuracy! Accuracy: 0.8219\n",
      "\n",
      "============================================================\n",
      "🎯 Enhanced Fine-Tuning Epoch 3/25\n",
      "============================================================\n",
      "📊 Learning Rates: ['2.50e-07', '2.50e-07', '2.50e-07', '2.50e-07', '2.50e-07', '2.50e-07', '2.50e-07', '2.50e-07', '2.50e-07', '2.50e-07', '2.50e-07', '2.50e-07', '2.50e-07', '5.00e-06', '5.00e-06', '5.00e-06', '5.00e-06', '2.50e-07', '2.50e-07', '2.50e-07', '2.50e-07', '2.50e-07', '2.50e-07', '2.50e-07', '2.50e-07', '2.50e-07', '5.00e-06', '5.00e-06', '5.00e-06', '5.00e-06', '2.50e-07', '2.50e-07', '2.50e-07', '2.50e-07', '2.50e-07', '2.50e-07', '2.50e-07', '2.50e-07', '2.50e-07', '5.00e-06', '5.00e-06', '5.00e-06', '5.00e-06', '2.50e-07', '2.50e-07', '2.50e-07', '2.50e-07', '2.50e-07', '2.50e-07', '2.50e-07', '2.50e-07', '2.50e-07', '5.00e-06', '5.00e-06', '5.00e-06', '5.00e-06', '2.50e-07', '2.50e-07', '2.50e-07', '2.50e-07', '2.50e-07', '2.50e-07', '2.50e-07', '2.50e-07', '2.50e-07', '5.00e-06', '5.00e-06', '5.00e-06', '5.00e-06', '2.50e-07', '2.50e-07', '2.50e-07', '2.50e-07', '2.50e-07', '2.50e-07', '2.50e-07', '2.50e-07', '2.50e-07', '5.00e-06', '5.00e-06', '5.00e-06', '5.00e-06', '2.50e-07', '2.50e-07', '2.50e-07', '2.50e-07', '2.50e-07', '2.50e-07', '2.50e-07', '2.50e-07', '2.50e-07', '5.00e-06', '5.00e-06', '5.00e-06', '5.00e-06', '2.50e-07', '2.50e-07', '2.50e-07', '2.50e-07', '2.50e-07', '2.50e-07', '2.50e-07', '2.50e-07', '2.50e-07', '5.00e-06', '5.00e-06', '5.00e-06', '5.00e-06', '2.50e-07', '2.50e-07', '2.50e-07', '2.50e-07', '2.50e-07', '2.50e-07', '2.50e-07', '2.50e-07', '2.50e-07', '5.00e-06', '5.00e-06', '5.00e-06', '5.00e-06', '2.50e-07', '2.50e-07', '2.50e-07', '2.50e-07', '2.50e-07', '2.50e-07', '2.50e-07', '2.50e-07', '2.50e-07', '5.00e-06', '5.00e-06', '5.00e-06', '5.00e-06', '2.50e-07', '2.50e-07', '2.50e-07', '2.50e-07', '2.50e-07', '2.50e-07', '2.50e-07', '2.50e-07', '2.50e-07', '5.00e-06', '5.00e-06', '5.00e-06', '5.00e-06', '2.50e-07', '2.50e-07', '2.50e-07', '2.50e-07', '2.50e-07', '2.50e-07', '2.50e-07', '2.50e-07', '2.50e-07', '5.00e-06', '5.00e-06', '5.00e-06', '5.00e-06', '5.00e-06', '5.00e-06', '2.50e-07', '2.50e-07']\n",
      "   Batch 0/252 - Loss: 0.5947\n",
      "   Batch 10/252 - Loss: 0.4357\n",
      "   Batch 20/252 - Loss: 0.9388\n",
      "   Batch 30/252 - Loss: 0.5194\n",
      "   Batch 40/252 - Loss: 0.5750\n",
      "   Batch 50/252 - Loss: 0.4052\n",
      "   Batch 60/252 - Loss: 0.3203\n",
      "   Batch 70/252 - Loss: 0.3375\n",
      "   Batch 80/252 - Loss: 0.4494\n",
      "   Batch 90/252 - Loss: 0.4478\n",
      "   Batch 100/252 - Loss: 0.3880\n",
      "   Batch 110/252 - Loss: 0.4193\n",
      "   Batch 120/252 - Loss: 0.6146\n",
      "   Batch 130/252 - Loss: 0.4577\n",
      "   Batch 140/252 - Loss: 0.6134\n",
      "   Batch 150/252 - Loss: 0.6680\n",
      "   Batch 160/252 - Loss: 0.3191\n",
      "   Batch 170/252 - Loss: 0.8176\n",
      "   Batch 180/252 - Loss: 0.3867\n",
      "   Batch 190/252 - Loss: 1.0041\n",
      "   Batch 200/252 - Loss: 0.3278\n",
      "   Batch 210/252 - Loss: 0.5214\n",
      "   Batch 220/252 - Loss: 0.6644\n",
      "   Batch 230/252 - Loss: 0.5451\n",
      "   Batch 240/252 - Loss: 0.4479\n",
      "   Batch 250/252 - Loss: 0.4622\n"
     ]
    },
    {
     "name": "stderr",
     "output_type": "stream",
     "text": [
      "Validating: 100%|██████████| 5/5 [00:02<00:00,  1.81it/s]\n"
     ]
    },
    {
     "name": "stdout",
     "output_type": "stream",
     "text": [
      "\n",
      "📈 Epoch 3 Summary:\n",
      "   Train Loss: 0.5249 | Train Acc: 0.8757\n",
      "   Val Loss: 0.6762 | Val Acc: 0.8356 | F1-Score: 0.8141\n",
      "   💾 New best accuracy! Accuracy: 0.8356\n",
      "\n",
      "============================================================\n",
      "🎯 Enhanced Fine-Tuning Epoch 4/25\n",
      "============================================================\n",
      "📊 Learning Rates: ['2.50e-07', '2.50e-07', '2.50e-07', '2.50e-07', '2.50e-07', '2.50e-07', '2.50e-07', '2.50e-07', '2.50e-07', '2.50e-07', '2.50e-07', '2.50e-07', '2.50e-07', '5.00e-06', '5.00e-06', '5.00e-06', '5.00e-06', '2.50e-07', '2.50e-07', '2.50e-07', '2.50e-07', '2.50e-07', '2.50e-07', '2.50e-07', '2.50e-07', '2.50e-07', '5.00e-06', '5.00e-06', '5.00e-06', '5.00e-06', '2.50e-07', '2.50e-07', '2.50e-07', '2.50e-07', '2.50e-07', '2.50e-07', '2.50e-07', '2.50e-07', '2.50e-07', '5.00e-06', '5.00e-06', '5.00e-06', '5.00e-06', '2.50e-07', '2.50e-07', '2.50e-07', '2.50e-07', '2.50e-07', '2.50e-07', '2.50e-07', '2.50e-07', '2.50e-07', '5.00e-06', '5.00e-06', '5.00e-06', '5.00e-06', '2.50e-07', '2.50e-07', '2.50e-07', '2.50e-07', '2.50e-07', '2.50e-07', '2.50e-07', '2.50e-07', '2.50e-07', '5.00e-06', '5.00e-06', '5.00e-06', '5.00e-06', '2.50e-07', '2.50e-07', '2.50e-07', '2.50e-07', '2.50e-07', '2.50e-07', '2.50e-07', '2.50e-07', '2.50e-07', '5.00e-06', '5.00e-06', '5.00e-06', '5.00e-06', '2.50e-07', '2.50e-07', '2.50e-07', '2.50e-07', '2.50e-07', '2.50e-07', '2.50e-07', '2.50e-07', '2.50e-07', '5.00e-06', '5.00e-06', '5.00e-06', '5.00e-06', '2.50e-07', '2.50e-07', '2.50e-07', '2.50e-07', '2.50e-07', '2.50e-07', '2.50e-07', '2.50e-07', '2.50e-07', '5.00e-06', '5.00e-06', '5.00e-06', '5.00e-06', '2.50e-07', '2.50e-07', '2.50e-07', '2.50e-07', '2.50e-07', '2.50e-07', '2.50e-07', '2.50e-07', '2.50e-07', '5.00e-06', '5.00e-06', '5.00e-06', '5.00e-06', '2.50e-07', '2.50e-07', '2.50e-07', '2.50e-07', '2.50e-07', '2.50e-07', '2.50e-07', '2.50e-07', '2.50e-07', '5.00e-06', '5.00e-06', '5.00e-06', '5.00e-06', '2.50e-07', '2.50e-07', '2.50e-07', '2.50e-07', '2.50e-07', '2.50e-07', '2.50e-07', '2.50e-07', '2.50e-07', '5.00e-06', '5.00e-06', '5.00e-06', '5.00e-06', '2.50e-07', '2.50e-07', '2.50e-07', '2.50e-07', '2.50e-07', '2.50e-07', '2.50e-07', '2.50e-07', '2.50e-07', '5.00e-06', '5.00e-06', '5.00e-06', '5.00e-06', '5.00e-06', '5.00e-06', '2.50e-07', '2.50e-07']\n",
      "   Batch 0/252 - Loss: 0.5384\n",
      "   Batch 10/252 - Loss: 0.7294\n",
      "   Batch 20/252 - Loss: 0.5588\n",
      "   Batch 30/252 - Loss: 0.3575\n",
      "   Batch 40/252 - Loss: 0.4824\n",
      "   Batch 50/252 - Loss: 0.6012\n",
      "   Batch 60/252 - Loss: 0.4557\n",
      "   Batch 70/252 - Loss: 0.5051\n",
      "   Batch 80/252 - Loss: 0.3931\n",
      "   Batch 90/252 - Loss: 0.4174\n",
      "   Batch 100/252 - Loss: 0.6524\n",
      "   Batch 110/252 - Loss: 0.3631\n",
      "   Batch 120/252 - Loss: 0.4169\n",
      "   Batch 130/252 - Loss: 0.3774\n",
      "   Batch 140/252 - Loss: 0.3727\n",
      "   Batch 150/252 - Loss: 0.9447\n",
      "   Batch 160/252 - Loss: 0.7830\n",
      "   Batch 170/252 - Loss: 0.5717\n",
      "   Batch 180/252 - Loss: 0.4282\n",
      "   Batch 190/252 - Loss: 0.6813\n",
      "   Batch 200/252 - Loss: 0.6572\n",
      "   Batch 210/252 - Loss: 0.7064\n",
      "   Batch 220/252 - Loss: 0.5828\n",
      "   Batch 230/252 - Loss: 0.6971\n",
      "   Batch 240/252 - Loss: 0.6537\n",
      "   Batch 250/252 - Loss: 0.4360\n"
     ]
    },
    {
     "name": "stderr",
     "output_type": "stream",
     "text": [
      "Validating: 100%|██████████| 5/5 [00:02<00:00,  1.84it/s]\n"
     ]
    },
    {
     "name": "stdout",
     "output_type": "stream",
     "text": [
      "\n",
      "📈 Epoch 4 Summary:\n",
      "   Train Loss: 0.4986 | Train Acc: 0.8898\n",
      "   Val Loss: 0.6923 | Val Acc: 0.8356 | F1-Score: 0.8160\n",
      "   ⏳ No improvement (1/7)\n",
      "\n",
      "============================================================\n",
      "🎯 Enhanced Fine-Tuning Epoch 5/25\n",
      "============================================================\n",
      "📊 Learning Rates: ['2.50e-07', '2.50e-07', '2.50e-07', '2.50e-07', '2.50e-07', '2.50e-07', '2.50e-07', '2.50e-07', '2.50e-07', '2.50e-07', '2.50e-07', '2.50e-07', '2.50e-07', '5.00e-06', '5.00e-06', '5.00e-06', '5.00e-06', '2.50e-07', '2.50e-07', '2.50e-07', '2.50e-07', '2.50e-07', '2.50e-07', '2.50e-07', '2.50e-07', '2.50e-07', '5.00e-06', '5.00e-06', '5.00e-06', '5.00e-06', '2.50e-07', '2.50e-07', '2.50e-07', '2.50e-07', '2.50e-07', '2.50e-07', '2.50e-07', '2.50e-07', '2.50e-07', '5.00e-06', '5.00e-06', '5.00e-06', '5.00e-06', '2.50e-07', '2.50e-07', '2.50e-07', '2.50e-07', '2.50e-07', '2.50e-07', '2.50e-07', '2.50e-07', '2.50e-07', '5.00e-06', '5.00e-06', '5.00e-06', '5.00e-06', '2.50e-07', '2.50e-07', '2.50e-07', '2.50e-07', '2.50e-07', '2.50e-07', '2.50e-07', '2.50e-07', '2.50e-07', '5.00e-06', '5.00e-06', '5.00e-06', '5.00e-06', '2.50e-07', '2.50e-07', '2.50e-07', '2.50e-07', '2.50e-07', '2.50e-07', '2.50e-07', '2.50e-07', '2.50e-07', '5.00e-06', '5.00e-06', '5.00e-06', '5.00e-06', '2.50e-07', '2.50e-07', '2.50e-07', '2.50e-07', '2.50e-07', '2.50e-07', '2.50e-07', '2.50e-07', '2.50e-07', '5.00e-06', '5.00e-06', '5.00e-06', '5.00e-06', '2.50e-07', '2.50e-07', '2.50e-07', '2.50e-07', '2.50e-07', '2.50e-07', '2.50e-07', '2.50e-07', '2.50e-07', '5.00e-06', '5.00e-06', '5.00e-06', '5.00e-06', '2.50e-07', '2.50e-07', '2.50e-07', '2.50e-07', '2.50e-07', '2.50e-07', '2.50e-07', '2.50e-07', '2.50e-07', '5.00e-06', '5.00e-06', '5.00e-06', '5.00e-06', '2.50e-07', '2.50e-07', '2.50e-07', '2.50e-07', '2.50e-07', '2.50e-07', '2.50e-07', '2.50e-07', '2.50e-07', '5.00e-06', '5.00e-06', '5.00e-06', '5.00e-06', '2.50e-07', '2.50e-07', '2.50e-07', '2.50e-07', '2.50e-07', '2.50e-07', '2.50e-07', '2.50e-07', '2.50e-07', '5.00e-06', '5.00e-06', '5.00e-06', '5.00e-06', '2.50e-07', '2.50e-07', '2.50e-07', '2.50e-07', '2.50e-07', '2.50e-07', '2.50e-07', '2.50e-07', '2.50e-07', '5.00e-06', '5.00e-06', '5.00e-06', '5.00e-06', '5.00e-06', '5.00e-06', '2.50e-07', '2.50e-07']\n",
      "   Batch 0/252 - Loss: 0.7435\n",
      "   Batch 10/252 - Loss: 0.3128\n",
      "   Batch 20/252 - Loss: 0.8307\n",
      "   Batch 30/252 - Loss: 0.3848\n",
      "   Batch 40/252 - Loss: 0.4298\n",
      "   Batch 50/252 - Loss: 0.5535\n",
      "   Batch 60/252 - Loss: 0.4196\n",
      "   Batch 70/252 - Loss: 0.4951\n",
      "   Batch 80/252 - Loss: 0.4031\n",
      "   Batch 90/252 - Loss: 0.5722\n",
      "   Batch 100/252 - Loss: 0.3008\n",
      "   Batch 110/252 - Loss: 0.8098\n",
      "   Batch 120/252 - Loss: 0.4628\n",
      "   Batch 130/252 - Loss: 0.4044\n",
      "   Batch 140/252 - Loss: 0.3759\n",
      "   Batch 150/252 - Loss: 0.4888\n",
      "   Batch 160/252 - Loss: 0.5737\n",
      "   Batch 170/252 - Loss: 0.3812\n",
      "   Batch 180/252 - Loss: 0.4543\n",
      "   Batch 190/252 - Loss: 0.2819\n",
      "   Batch 200/252 - Loss: 0.2907\n",
      "   Batch 210/252 - Loss: 0.4900\n",
      "   Batch 220/252 - Loss: 0.3826\n",
      "   Batch 230/252 - Loss: 0.8973\n",
      "   Batch 240/252 - Loss: 0.6252\n",
      "   Batch 250/252 - Loss: 0.5583\n"
     ]
    },
    {
     "name": "stderr",
     "output_type": "stream",
     "text": [
      "Validating: 100%|██████████| 5/5 [00:02<00:00,  1.81it/s]\n"
     ]
    },
    {
     "name": "stdout",
     "output_type": "stream",
     "text": [
      "\n",
      "📈 Epoch 5 Summary:\n",
      "   Train Loss: 0.5060 | Train Acc: 0.8841\n",
      "   Val Loss: 0.7262 | Val Acc: 0.8356 | F1-Score: 0.8141\n",
      "   ⏳ No improvement (2/7)\n",
      "\n",
      "============================================================\n",
      "🎯 Enhanced Fine-Tuning Epoch 6/25\n",
      "============================================================\n",
      "📊 Learning Rates: ['2.50e-07', '2.50e-07', '2.50e-07', '2.50e-07', '2.50e-07', '2.50e-07', '2.50e-07', '2.50e-07', '2.50e-07', '2.50e-07', '2.50e-07', '2.50e-07', '2.50e-07', '5.00e-06', '5.00e-06', '5.00e-06', '5.00e-06', '2.50e-07', '2.50e-07', '2.50e-07', '2.50e-07', '2.50e-07', '2.50e-07', '2.50e-07', '2.50e-07', '2.50e-07', '5.00e-06', '5.00e-06', '5.00e-06', '5.00e-06', '2.50e-07', '2.50e-07', '2.50e-07', '2.50e-07', '2.50e-07', '2.50e-07', '2.50e-07', '2.50e-07', '2.50e-07', '5.00e-06', '5.00e-06', '5.00e-06', '5.00e-06', '2.50e-07', '2.50e-07', '2.50e-07', '2.50e-07', '2.50e-07', '2.50e-07', '2.50e-07', '2.50e-07', '2.50e-07', '5.00e-06', '5.00e-06', '5.00e-06', '5.00e-06', '2.50e-07', '2.50e-07', '2.50e-07', '2.50e-07', '2.50e-07', '2.50e-07', '2.50e-07', '2.50e-07', '2.50e-07', '5.00e-06', '5.00e-06', '5.00e-06', '5.00e-06', '2.50e-07', '2.50e-07', '2.50e-07', '2.50e-07', '2.50e-07', '2.50e-07', '2.50e-07', '2.50e-07', '2.50e-07', '5.00e-06', '5.00e-06', '5.00e-06', '5.00e-06', '2.50e-07', '2.50e-07', '2.50e-07', '2.50e-07', '2.50e-07', '2.50e-07', '2.50e-07', '2.50e-07', '2.50e-07', '5.00e-06', '5.00e-06', '5.00e-06', '5.00e-06', '2.50e-07', '2.50e-07', '2.50e-07', '2.50e-07', '2.50e-07', '2.50e-07', '2.50e-07', '2.50e-07', '2.50e-07', '5.00e-06', '5.00e-06', '5.00e-06', '5.00e-06', '2.50e-07', '2.50e-07', '2.50e-07', '2.50e-07', '2.50e-07', '2.50e-07', '2.50e-07', '2.50e-07', '2.50e-07', '5.00e-06', '5.00e-06', '5.00e-06', '5.00e-06', '2.50e-07', '2.50e-07', '2.50e-07', '2.50e-07', '2.50e-07', '2.50e-07', '2.50e-07', '2.50e-07', '2.50e-07', '5.00e-06', '5.00e-06', '5.00e-06', '5.00e-06', '2.50e-07', '2.50e-07', '2.50e-07', '2.50e-07', '2.50e-07', '2.50e-07', '2.50e-07', '2.50e-07', '2.50e-07', '5.00e-06', '5.00e-06', '5.00e-06', '5.00e-06', '2.50e-07', '2.50e-07', '2.50e-07', '2.50e-07', '2.50e-07', '2.50e-07', '2.50e-07', '2.50e-07', '2.50e-07', '5.00e-06', '5.00e-06', '5.00e-06', '5.00e-06', '5.00e-06', '5.00e-06', '2.50e-07', '2.50e-07']\n",
      "   Batch 0/252 - Loss: 0.4395\n",
      "   Batch 10/252 - Loss: 0.6130\n",
      "   Batch 20/252 - Loss: 0.3862\n",
      "   Batch 30/252 - Loss: 0.3569\n",
      "   Batch 40/252 - Loss: 0.5090\n",
      "   Batch 50/252 - Loss: 0.7446\n",
      "   Batch 60/252 - Loss: 0.5467\n",
      "   Batch 70/252 - Loss: 0.7452\n",
      "   Batch 80/252 - Loss: 0.3943\n",
      "   Batch 90/252 - Loss: 0.6077\n",
      "   Batch 100/252 - Loss: 0.8242\n",
      "   Batch 110/252 - Loss: 0.6794\n",
      "   Batch 120/252 - Loss: 0.3093\n",
      "   Batch 130/252 - Loss: 0.8011\n",
      "   Batch 140/252 - Loss: 0.5063\n",
      "   Batch 150/252 - Loss: 0.6302\n",
      "   Batch 160/252 - Loss: 0.2974\n",
      "   Batch 170/252 - Loss: 0.3833\n",
      "   Batch 180/252 - Loss: 0.4569\n",
      "   Batch 190/252 - Loss: 0.4854\n",
      "   Batch 200/252 - Loss: 0.4470\n",
      "   Batch 210/252 - Loss: 0.5434\n",
      "   Batch 220/252 - Loss: 0.4969\n",
      "   Batch 230/252 - Loss: 0.4273\n",
      "   Batch 240/252 - Loss: 0.3635\n",
      "   Batch 250/252 - Loss: 0.5352\n"
     ]
    },
    {
     "name": "stderr",
     "output_type": "stream",
     "text": [
      "Validating: 100%|██████████| 5/5 [00:02<00:00,  1.80it/s]\n"
     ]
    },
    {
     "name": "stdout",
     "output_type": "stream",
     "text": [
      "\n",
      "📈 Epoch 6 Summary:\n",
      "   Train Loss: 0.4773 | Train Acc: 0.8951\n",
      "   Val Loss: 0.7267 | Val Acc: 0.8356 | F1-Score: 0.8141\n",
      "   ⏳ No improvement (3/7)\n",
      "\n",
      "============================================================\n",
      "🎯 Enhanced Fine-Tuning Epoch 7/25\n",
      "============================================================\n",
      "📊 Learning Rates: ['2.50e-07', '2.50e-07', '2.50e-07', '2.50e-07', '2.50e-07', '2.50e-07', '2.50e-07', '2.50e-07', '2.50e-07', '2.50e-07', '2.50e-07', '2.50e-07', '2.50e-07', '5.00e-06', '5.00e-06', '5.00e-06', '5.00e-06', '2.50e-07', '2.50e-07', '2.50e-07', '2.50e-07', '2.50e-07', '2.50e-07', '2.50e-07', '2.50e-07', '2.50e-07', '5.00e-06', '5.00e-06', '5.00e-06', '5.00e-06', '2.50e-07', '2.50e-07', '2.50e-07', '2.50e-07', '2.50e-07', '2.50e-07', '2.50e-07', '2.50e-07', '2.50e-07', '5.00e-06', '5.00e-06', '5.00e-06', '5.00e-06', '2.50e-07', '2.50e-07', '2.50e-07', '2.50e-07', '2.50e-07', '2.50e-07', '2.50e-07', '2.50e-07', '2.50e-07', '5.00e-06', '5.00e-06', '5.00e-06', '5.00e-06', '2.50e-07', '2.50e-07', '2.50e-07', '2.50e-07', '2.50e-07', '2.50e-07', '2.50e-07', '2.50e-07', '2.50e-07', '5.00e-06', '5.00e-06', '5.00e-06', '5.00e-06', '2.50e-07', '2.50e-07', '2.50e-07', '2.50e-07', '2.50e-07', '2.50e-07', '2.50e-07', '2.50e-07', '2.50e-07', '5.00e-06', '5.00e-06', '5.00e-06', '5.00e-06', '2.50e-07', '2.50e-07', '2.50e-07', '2.50e-07', '2.50e-07', '2.50e-07', '2.50e-07', '2.50e-07', '2.50e-07', '5.00e-06', '5.00e-06', '5.00e-06', '5.00e-06', '2.50e-07', '2.50e-07', '2.50e-07', '2.50e-07', '2.50e-07', '2.50e-07', '2.50e-07', '2.50e-07', '2.50e-07', '5.00e-06', '5.00e-06', '5.00e-06', '5.00e-06', '2.50e-07', '2.50e-07', '2.50e-07', '2.50e-07', '2.50e-07', '2.50e-07', '2.50e-07', '2.50e-07', '2.50e-07', '5.00e-06', '5.00e-06', '5.00e-06', '5.00e-06', '2.50e-07', '2.50e-07', '2.50e-07', '2.50e-07', '2.50e-07', '2.50e-07', '2.50e-07', '2.50e-07', '2.50e-07', '5.00e-06', '5.00e-06', '5.00e-06', '5.00e-06', '2.50e-07', '2.50e-07', '2.50e-07', '2.50e-07', '2.50e-07', '2.50e-07', '2.50e-07', '2.50e-07', '2.50e-07', '5.00e-06', '5.00e-06', '5.00e-06', '5.00e-06', '2.50e-07', '2.50e-07', '2.50e-07', '2.50e-07', '2.50e-07', '2.50e-07', '2.50e-07', '2.50e-07', '2.50e-07', '5.00e-06', '5.00e-06', '5.00e-06', '5.00e-06', '5.00e-06', '5.00e-06', '2.50e-07', '2.50e-07']\n",
      "   Batch 0/252 - Loss: 0.3516\n",
      "   Batch 10/252 - Loss: 0.3764\n",
      "   Batch 20/252 - Loss: 0.5805\n",
      "   Batch 30/252 - Loss: 0.4316\n",
      "   Batch 40/252 - Loss: 0.3647\n",
      "   Batch 50/252 - Loss: 0.6293\n",
      "   Batch 60/252 - Loss: 0.6962\n",
      "   Batch 70/252 - Loss: 0.5592\n",
      "   Batch 80/252 - Loss: 0.5678\n",
      "   Batch 90/252 - Loss: 0.4619\n",
      "   Batch 100/252 - Loss: 0.3029\n",
      "   Batch 110/252 - Loss: 0.3242\n",
      "   Batch 120/252 - Loss: 0.2864\n",
      "   Batch 130/252 - Loss: 0.2674\n",
      "   Batch 140/252 - Loss: 0.3144\n",
      "   Batch 150/252 - Loss: 0.4338\n",
      "   Batch 160/252 - Loss: 0.4509\n",
      "   Batch 170/252 - Loss: 0.4000\n",
      "   Batch 180/252 - Loss: 0.4097\n",
      "   Batch 190/252 - Loss: 0.4445\n",
      "   Batch 200/252 - Loss: 0.6088\n",
      "   Batch 210/252 - Loss: 0.5045\n",
      "   Batch 220/252 - Loss: 0.2620\n",
      "   Batch 230/252 - Loss: 0.3787\n",
      "   Batch 240/252 - Loss: 0.4139\n",
      "   Batch 250/252 - Loss: 0.2978\n"
     ]
    },
    {
     "name": "stderr",
     "output_type": "stream",
     "text": [
      "Validating: 100%|██████████| 5/5 [00:02<00:00,  1.72it/s]\n"
     ]
    },
    {
     "name": "stdout",
     "output_type": "stream",
     "text": [
      "\n",
      "📈 Epoch 7 Summary:\n",
      "   Train Loss: 0.4682 | Train Acc: 0.9033\n",
      "   Val Loss: 0.7296 | Val Acc: 0.8493 | F1-Score: 0.8284\n",
      "   💾 New best accuracy! Accuracy: 0.8493\n",
      "\n",
      "============================================================\n",
      "🎯 Enhanced Fine-Tuning Epoch 8/25\n",
      "============================================================\n",
      "📊 Learning Rates: ['2.50e-07', '2.50e-07', '2.50e-07', '2.50e-07', '2.50e-07', '2.50e-07', '2.50e-07', '2.50e-07', '2.50e-07', '2.50e-07', '2.50e-07', '2.50e-07', '2.50e-07', '5.00e-06', '5.00e-06', '5.00e-06', '5.00e-06', '2.50e-07', '2.50e-07', '2.50e-07', '2.50e-07', '2.50e-07', '2.50e-07', '2.50e-07', '2.50e-07', '2.50e-07', '5.00e-06', '5.00e-06', '5.00e-06', '5.00e-06', '2.50e-07', '2.50e-07', '2.50e-07', '2.50e-07', '2.50e-07', '2.50e-07', '2.50e-07', '2.50e-07', '2.50e-07', '5.00e-06', '5.00e-06', '5.00e-06', '5.00e-06', '2.50e-07', '2.50e-07', '2.50e-07', '2.50e-07', '2.50e-07', '2.50e-07', '2.50e-07', '2.50e-07', '2.50e-07', '5.00e-06', '5.00e-06', '5.00e-06', '5.00e-06', '2.50e-07', '2.50e-07', '2.50e-07', '2.50e-07', '2.50e-07', '2.50e-07', '2.50e-07', '2.50e-07', '2.50e-07', '5.00e-06', '5.00e-06', '5.00e-06', '5.00e-06', '2.50e-07', '2.50e-07', '2.50e-07', '2.50e-07', '2.50e-07', '2.50e-07', '2.50e-07', '2.50e-07', '2.50e-07', '5.00e-06', '5.00e-06', '5.00e-06', '5.00e-06', '2.50e-07', '2.50e-07', '2.50e-07', '2.50e-07', '2.50e-07', '2.50e-07', '2.50e-07', '2.50e-07', '2.50e-07', '5.00e-06', '5.00e-06', '5.00e-06', '5.00e-06', '2.50e-07', '2.50e-07', '2.50e-07', '2.50e-07', '2.50e-07', '2.50e-07', '2.50e-07', '2.50e-07', '2.50e-07', '5.00e-06', '5.00e-06', '5.00e-06', '5.00e-06', '2.50e-07', '2.50e-07', '2.50e-07', '2.50e-07', '2.50e-07', '2.50e-07', '2.50e-07', '2.50e-07', '2.50e-07', '5.00e-06', '5.00e-06', '5.00e-06', '5.00e-06', '2.50e-07', '2.50e-07', '2.50e-07', '2.50e-07', '2.50e-07', '2.50e-07', '2.50e-07', '2.50e-07', '2.50e-07', '5.00e-06', '5.00e-06', '5.00e-06', '5.00e-06', '2.50e-07', '2.50e-07', '2.50e-07', '2.50e-07', '2.50e-07', '2.50e-07', '2.50e-07', '2.50e-07', '2.50e-07', '5.00e-06', '5.00e-06', '5.00e-06', '5.00e-06', '2.50e-07', '2.50e-07', '2.50e-07', '2.50e-07', '2.50e-07', '2.50e-07', '2.50e-07', '2.50e-07', '2.50e-07', '5.00e-06', '5.00e-06', '5.00e-06', '5.00e-06', '5.00e-06', '5.00e-06', '2.50e-07', '2.50e-07']\n",
      "   Batch 0/252 - Loss: 0.4510\n",
      "   Batch 10/252 - Loss: 0.5292\n",
      "   Batch 20/252 - Loss: 0.6803\n",
      "   Batch 30/252 - Loss: 0.5750\n",
      "   Batch 40/252 - Loss: 0.5290\n",
      "   Batch 50/252 - Loss: 0.4426\n",
      "   Batch 60/252 - Loss: 0.4261\n",
      "   Batch 70/252 - Loss: 0.4024\n",
      "   Batch 80/252 - Loss: 0.3859\n",
      "   Batch 90/252 - Loss: 0.2945\n",
      "   Batch 100/252 - Loss: 0.3412\n",
      "   Batch 110/252 - Loss: 0.4500\n",
      "   Batch 120/252 - Loss: 0.5876\n",
      "   Batch 130/252 - Loss: 0.7017\n",
      "   Batch 140/252 - Loss: 0.5783\n",
      "   Batch 150/252 - Loss: 0.7288\n",
      "   Batch 160/252 - Loss: 0.3370\n",
      "   Batch 170/252 - Loss: 0.5820\n",
      "   Batch 180/252 - Loss: 0.3705\n",
      "   Batch 190/252 - Loss: 0.4803\n",
      "   Batch 200/252 - Loss: 0.3332\n",
      "   Batch 210/252 - Loss: 0.4710\n",
      "   Batch 220/252 - Loss: 0.3555\n",
      "   Batch 230/252 - Loss: 0.4759\n",
      "   Batch 240/252 - Loss: 0.3445\n",
      "   Batch 250/252 - Loss: 0.4581\n"
     ]
    },
    {
     "name": "stderr",
     "output_type": "stream",
     "text": [
      "Validating: 100%|██████████| 5/5 [00:02<00:00,  1.77it/s]\n"
     ]
    },
    {
     "name": "stdout",
     "output_type": "stream",
     "text": [
      "\n",
      "📈 Epoch 8 Summary:\n",
      "   Train Loss: 0.4731 | Train Acc: 0.8993\n",
      "   Val Loss: 0.7523 | Val Acc: 0.8356 | F1-Score: 0.8058\n",
      "   ⏳ No improvement (1/7)\n",
      "\n",
      "============================================================\n",
      "🎯 Enhanced Fine-Tuning Epoch 9/25\n",
      "============================================================\n",
      "📊 Learning Rates: ['2.50e-07', '2.50e-07', '2.50e-07', '2.50e-07', '2.50e-07', '2.50e-07', '2.50e-07', '2.50e-07', '2.50e-07', '2.50e-07', '2.50e-07', '2.50e-07', '2.50e-07', '5.00e-06', '5.00e-06', '5.00e-06', '5.00e-06', '2.50e-07', '2.50e-07', '2.50e-07', '2.50e-07', '2.50e-07', '2.50e-07', '2.50e-07', '2.50e-07', '2.50e-07', '5.00e-06', '5.00e-06', '5.00e-06', '5.00e-06', '2.50e-07', '2.50e-07', '2.50e-07', '2.50e-07', '2.50e-07', '2.50e-07', '2.50e-07', '2.50e-07', '2.50e-07', '5.00e-06', '5.00e-06', '5.00e-06', '5.00e-06', '2.50e-07', '2.50e-07', '2.50e-07', '2.50e-07', '2.50e-07', '2.50e-07', '2.50e-07', '2.50e-07', '2.50e-07', '5.00e-06', '5.00e-06', '5.00e-06', '5.00e-06', '2.50e-07', '2.50e-07', '2.50e-07', '2.50e-07', '2.50e-07', '2.50e-07', '2.50e-07', '2.50e-07', '2.50e-07', '5.00e-06', '5.00e-06', '5.00e-06', '5.00e-06', '2.50e-07', '2.50e-07', '2.50e-07', '2.50e-07', '2.50e-07', '2.50e-07', '2.50e-07', '2.50e-07', '2.50e-07', '5.00e-06', '5.00e-06', '5.00e-06', '5.00e-06', '2.50e-07', '2.50e-07', '2.50e-07', '2.50e-07', '2.50e-07', '2.50e-07', '2.50e-07', '2.50e-07', '2.50e-07', '5.00e-06', '5.00e-06', '5.00e-06', '5.00e-06', '2.50e-07', '2.50e-07', '2.50e-07', '2.50e-07', '2.50e-07', '2.50e-07', '2.50e-07', '2.50e-07', '2.50e-07', '5.00e-06', '5.00e-06', '5.00e-06', '5.00e-06', '2.50e-07', '2.50e-07', '2.50e-07', '2.50e-07', '2.50e-07', '2.50e-07', '2.50e-07', '2.50e-07', '2.50e-07', '5.00e-06', '5.00e-06', '5.00e-06', '5.00e-06', '2.50e-07', '2.50e-07', '2.50e-07', '2.50e-07', '2.50e-07', '2.50e-07', '2.50e-07', '2.50e-07', '2.50e-07', '5.00e-06', '5.00e-06', '5.00e-06', '5.00e-06', '2.50e-07', '2.50e-07', '2.50e-07', '2.50e-07', '2.50e-07', '2.50e-07', '2.50e-07', '2.50e-07', '2.50e-07', '5.00e-06', '5.00e-06', '5.00e-06', '5.00e-06', '2.50e-07', '2.50e-07', '2.50e-07', '2.50e-07', '2.50e-07', '2.50e-07', '2.50e-07', '2.50e-07', '2.50e-07', '5.00e-06', '5.00e-06', '5.00e-06', '5.00e-06', '5.00e-06', '5.00e-06', '2.50e-07', '2.50e-07']\n",
      "   Batch 0/252 - Loss: 0.2968\n",
      "   Batch 10/252 - Loss: 0.3114\n",
      "   Batch 20/252 - Loss: 0.5080\n",
      "   Batch 30/252 - Loss: 0.5569\n",
      "   Batch 40/252 - Loss: 0.4662\n",
      "   Batch 50/252 - Loss: 0.3443\n",
      "   Batch 60/252 - Loss: 0.4264\n",
      "   Batch 70/252 - Loss: 0.4193\n",
      "   Batch 80/252 - Loss: 0.3833\n",
      "   Batch 90/252 - Loss: 0.4300\n",
      "   Batch 100/252 - Loss: 0.4018\n",
      "   Batch 110/252 - Loss: 0.4830\n",
      "   Batch 120/252 - Loss: 0.4696\n",
      "   Batch 130/252 - Loss: 0.5239\n",
      "   Batch 140/252 - Loss: 0.4316\n",
      "   Batch 150/252 - Loss: 0.7134\n",
      "   Batch 160/252 - Loss: 0.7769\n",
      "   Batch 170/252 - Loss: 0.2881\n",
      "   Batch 180/252 - Loss: 0.5259\n",
      "   Batch 190/252 - Loss: 0.5566\n",
      "   Batch 200/252 - Loss: 0.4124\n",
      "   Batch 210/252 - Loss: 0.4870\n",
      "   Batch 220/252 - Loss: 0.3538\n",
      "   Batch 230/252 - Loss: 0.5016\n",
      "   Batch 240/252 - Loss: 0.5853\n",
      "   Batch 250/252 - Loss: 0.3604\n"
     ]
    },
    {
     "name": "stderr",
     "output_type": "stream",
     "text": [
      "Validating: 100%|██████████| 5/5 [00:02<00:00,  1.78it/s]\n"
     ]
    },
    {
     "name": "stdout",
     "output_type": "stream",
     "text": [
      "\n",
      "📈 Epoch 9 Summary:\n",
      "   Train Loss: 0.4743 | Train Acc: 0.9025\n",
      "   Val Loss: 0.7544 | Val Acc: 0.8082 | F1-Score: 0.7777\n",
      "   ⏳ No improvement (2/7)\n",
      "\n",
      "============================================================\n",
      "🎯 Enhanced Fine-Tuning Epoch 10/25\n",
      "============================================================\n",
      "📊 Learning Rates: ['2.50e-07', '2.50e-07', '2.50e-07', '2.50e-07', '2.50e-07', '2.50e-07', '2.50e-07', '2.50e-07', '2.50e-07', '2.50e-07', '2.50e-07', '2.50e-07', '2.50e-07', '5.00e-06', '5.00e-06', '5.00e-06', '5.00e-06', '2.50e-07', '2.50e-07', '2.50e-07', '2.50e-07', '2.50e-07', '2.50e-07', '2.50e-07', '2.50e-07', '2.50e-07', '5.00e-06', '5.00e-06', '5.00e-06', '5.00e-06', '2.50e-07', '2.50e-07', '2.50e-07', '2.50e-07', '2.50e-07', '2.50e-07', '2.50e-07', '2.50e-07', '2.50e-07', '5.00e-06', '5.00e-06', '5.00e-06', '5.00e-06', '2.50e-07', '2.50e-07', '2.50e-07', '2.50e-07', '2.50e-07', '2.50e-07', '2.50e-07', '2.50e-07', '2.50e-07', '5.00e-06', '5.00e-06', '5.00e-06', '5.00e-06', '2.50e-07', '2.50e-07', '2.50e-07', '2.50e-07', '2.50e-07', '2.50e-07', '2.50e-07', '2.50e-07', '2.50e-07', '5.00e-06', '5.00e-06', '5.00e-06', '5.00e-06', '2.50e-07', '2.50e-07', '2.50e-07', '2.50e-07', '2.50e-07', '2.50e-07', '2.50e-07', '2.50e-07', '2.50e-07', '5.00e-06', '5.00e-06', '5.00e-06', '5.00e-06', '2.50e-07', '2.50e-07', '2.50e-07', '2.50e-07', '2.50e-07', '2.50e-07', '2.50e-07', '2.50e-07', '2.50e-07', '5.00e-06', '5.00e-06', '5.00e-06', '5.00e-06', '2.50e-07', '2.50e-07', '2.50e-07', '2.50e-07', '2.50e-07', '2.50e-07', '2.50e-07', '2.50e-07', '2.50e-07', '5.00e-06', '5.00e-06', '5.00e-06', '5.00e-06', '2.50e-07', '2.50e-07', '2.50e-07', '2.50e-07', '2.50e-07', '2.50e-07', '2.50e-07', '2.50e-07', '2.50e-07', '5.00e-06', '5.00e-06', '5.00e-06', '5.00e-06', '2.50e-07', '2.50e-07', '2.50e-07', '2.50e-07', '2.50e-07', '2.50e-07', '2.50e-07', '2.50e-07', '2.50e-07', '5.00e-06', '5.00e-06', '5.00e-06', '5.00e-06', '2.50e-07', '2.50e-07', '2.50e-07', '2.50e-07', '2.50e-07', '2.50e-07', '2.50e-07', '2.50e-07', '2.50e-07', '5.00e-06', '5.00e-06', '5.00e-06', '5.00e-06', '2.50e-07', '2.50e-07', '2.50e-07', '2.50e-07', '2.50e-07', '2.50e-07', '2.50e-07', '2.50e-07', '2.50e-07', '5.00e-06', '5.00e-06', '5.00e-06', '5.00e-06', '5.00e-06', '5.00e-06', '2.50e-07', '2.50e-07']\n",
      "   Batch 0/252 - Loss: 0.4939\n",
      "   Batch 10/252 - Loss: 0.6583\n",
      "   Batch 20/252 - Loss: 0.4968\n",
      "   Batch 30/252 - Loss: 0.7810\n",
      "   Batch 40/252 - Loss: 0.4354\n",
      "   Batch 50/252 - Loss: 0.2900\n",
      "   Batch 60/252 - Loss: 0.4337\n",
      "   Batch 70/252 - Loss: 0.3423\n",
      "   Batch 80/252 - Loss: 0.4301\n",
      "   Batch 90/252 - Loss: 0.4458\n",
      "   Batch 100/252 - Loss: 0.3014\n",
      "   Batch 110/252 - Loss: 0.5761\n",
      "   Batch 120/252 - Loss: 0.6616\n",
      "   Batch 130/252 - Loss: 0.3775\n",
      "   Batch 140/252 - Loss: 0.6116\n",
      "   Batch 150/252 - Loss: 0.4782\n",
      "   Batch 160/252 - Loss: 0.5039\n",
      "   Batch 170/252 - Loss: 0.5207\n",
      "   Batch 180/252 - Loss: 0.3054\n",
      "   Batch 190/252 - Loss: 0.3216\n",
      "   Batch 200/252 - Loss: 0.4226\n",
      "   Batch 210/252 - Loss: 0.3567\n",
      "   Batch 220/252 - Loss: 0.2772\n",
      "   Batch 230/252 - Loss: 0.3984\n",
      "   Batch 240/252 - Loss: 0.4116\n",
      "   Batch 250/252 - Loss: 0.3525\n"
     ]
    },
    {
     "name": "stderr",
     "output_type": "stream",
     "text": [
      "Validating: 100%|██████████| 5/5 [00:02<00:00,  1.79it/s]\n"
     ]
    },
    {
     "name": "stdout",
     "output_type": "stream",
     "text": [
      "\n",
      "📈 Epoch 10 Summary:\n",
      "   Train Loss: 0.4632 | Train Acc: 0.9065\n",
      "   Val Loss: 0.7432 | Val Acc: 0.8356 | F1-Score: 0.8043\n",
      "   ⏳ No improvement (3/7)\n",
      "\n",
      "============================================================\n",
      "🎯 Enhanced Fine-Tuning Epoch 11/25\n",
      "============================================================\n",
      "📊 Learning Rates: ['2.50e-07', '2.50e-07', '2.50e-07', '2.50e-07', '2.50e-07', '2.50e-07', '2.50e-07', '2.50e-07', '2.50e-07', '2.50e-07', '2.50e-07', '2.50e-07', '2.50e-07', '5.00e-06', '5.00e-06', '5.00e-06', '5.00e-06', '2.50e-07', '2.50e-07', '2.50e-07', '2.50e-07', '2.50e-07', '2.50e-07', '2.50e-07', '2.50e-07', '2.50e-07', '5.00e-06', '5.00e-06', '5.00e-06', '5.00e-06', '2.50e-07', '2.50e-07', '2.50e-07', '2.50e-07', '2.50e-07', '2.50e-07', '2.50e-07', '2.50e-07', '2.50e-07', '5.00e-06', '5.00e-06', '5.00e-06', '5.00e-06', '2.50e-07', '2.50e-07', '2.50e-07', '2.50e-07', '2.50e-07', '2.50e-07', '2.50e-07', '2.50e-07', '2.50e-07', '5.00e-06', '5.00e-06', '5.00e-06', '5.00e-06', '2.50e-07', '2.50e-07', '2.50e-07', '2.50e-07', '2.50e-07', '2.50e-07', '2.50e-07', '2.50e-07', '2.50e-07', '5.00e-06', '5.00e-06', '5.00e-06', '5.00e-06', '2.50e-07', '2.50e-07', '2.50e-07', '2.50e-07', '2.50e-07', '2.50e-07', '2.50e-07', '2.50e-07', '2.50e-07', '5.00e-06', '5.00e-06', '5.00e-06', '5.00e-06', '2.50e-07', '2.50e-07', '2.50e-07', '2.50e-07', '2.50e-07', '2.50e-07', '2.50e-07', '2.50e-07', '2.50e-07', '5.00e-06', '5.00e-06', '5.00e-06', '5.00e-06', '2.50e-07', '2.50e-07', '2.50e-07', '2.50e-07', '2.50e-07', '2.50e-07', '2.50e-07', '2.50e-07', '2.50e-07', '5.00e-06', '5.00e-06', '5.00e-06', '5.00e-06', '2.50e-07', '2.50e-07', '2.50e-07', '2.50e-07', '2.50e-07', '2.50e-07', '2.50e-07', '2.50e-07', '2.50e-07', '5.00e-06', '5.00e-06', '5.00e-06', '5.00e-06', '2.50e-07', '2.50e-07', '2.50e-07', '2.50e-07', '2.50e-07', '2.50e-07', '2.50e-07', '2.50e-07', '2.50e-07', '5.00e-06', '5.00e-06', '5.00e-06', '5.00e-06', '2.50e-07', '2.50e-07', '2.50e-07', '2.50e-07', '2.50e-07', '2.50e-07', '2.50e-07', '2.50e-07', '2.50e-07', '5.00e-06', '5.00e-06', '5.00e-06', '5.00e-06', '2.50e-07', '2.50e-07', '2.50e-07', '2.50e-07', '2.50e-07', '2.50e-07', '2.50e-07', '2.50e-07', '2.50e-07', '5.00e-06', '5.00e-06', '5.00e-06', '5.00e-06', '5.00e-06', '5.00e-06', '2.50e-07', '2.50e-07']\n",
      "   Batch 0/252 - Loss: 0.4660\n",
      "   Batch 10/252 - Loss: 0.4186\n",
      "   Batch 20/252 - Loss: 0.5308\n",
      "   Batch 30/252 - Loss: 0.4903\n",
      "   Batch 40/252 - Loss: 0.3841\n",
      "   Batch 50/252 - Loss: 0.5064\n",
      "   Batch 60/252 - Loss: 0.2820\n",
      "   Batch 70/252 - Loss: 0.3187\n",
      "   Batch 80/252 - Loss: 0.4374\n",
      "   Batch 90/252 - Loss: 0.7007\n",
      "   Batch 100/252 - Loss: 0.7083\n",
      "   Batch 110/252 - Loss: 0.4828\n",
      "   Batch 120/252 - Loss: 0.6208\n",
      "   Batch 130/252 - Loss: 0.6290\n",
      "   Batch 140/252 - Loss: 0.4436\n",
      "   Batch 150/252 - Loss: 0.4381\n",
      "   Batch 160/252 - Loss: 0.5681\n",
      "   Batch 170/252 - Loss: 0.5248\n",
      "   Batch 180/252 - Loss: 0.2941\n",
      "   Batch 190/252 - Loss: 0.3799\n",
      "   Batch 200/252 - Loss: 0.3640\n",
      "   Batch 210/252 - Loss: 0.3997\n",
      "   Batch 220/252 - Loss: 0.3289\n",
      "   Batch 230/252 - Loss: 0.6370\n",
      "   Batch 240/252 - Loss: 0.4237\n",
      "   Batch 250/252 - Loss: 0.3801\n"
     ]
    },
    {
     "name": "stderr",
     "output_type": "stream",
     "text": [
      "Validating: 100%|██████████| 5/5 [00:02<00:00,  1.81it/s]\n"
     ]
    },
    {
     "name": "stdout",
     "output_type": "stream",
     "text": [
      "\n",
      "📈 Epoch 11 Summary:\n",
      "   Train Loss: 0.4602 | Train Acc: 0.9065\n",
      "   Val Loss: 0.7041 | Val Acc: 0.8082 | F1-Score: 0.7875\n",
      "   ⏳ No improvement (4/7)\n",
      "\n",
      "============================================================\n",
      "🎯 Enhanced Fine-Tuning Epoch 12/25\n",
      "============================================================\n",
      "📊 Learning Rates: ['1.25e-07', '1.25e-07', '1.25e-07', '1.25e-07', '1.25e-07', '1.25e-07', '1.25e-07', '1.25e-07', '1.25e-07', '1.25e-07', '1.25e-07', '1.25e-07', '1.25e-07', '2.50e-06', '2.50e-06', '2.50e-06', '2.50e-06', '1.25e-07', '1.25e-07', '1.25e-07', '1.25e-07', '1.25e-07', '1.25e-07', '1.25e-07', '1.25e-07', '1.25e-07', '2.50e-06', '2.50e-06', '2.50e-06', '2.50e-06', '1.25e-07', '1.25e-07', '1.25e-07', '1.25e-07', '1.25e-07', '1.25e-07', '1.25e-07', '1.25e-07', '1.25e-07', '2.50e-06', '2.50e-06', '2.50e-06', '2.50e-06', '1.25e-07', '1.25e-07', '1.25e-07', '1.25e-07', '1.25e-07', '1.25e-07', '1.25e-07', '1.25e-07', '1.25e-07', '2.50e-06', '2.50e-06', '2.50e-06', '2.50e-06', '1.25e-07', '1.25e-07', '1.25e-07', '1.25e-07', '1.25e-07', '1.25e-07', '1.25e-07', '1.25e-07', '1.25e-07', '2.50e-06', '2.50e-06', '2.50e-06', '2.50e-06', '1.25e-07', '1.25e-07', '1.25e-07', '1.25e-07', '1.25e-07', '1.25e-07', '1.25e-07', '1.25e-07', '1.25e-07', '2.50e-06', '2.50e-06', '2.50e-06', '2.50e-06', '1.25e-07', '1.25e-07', '1.25e-07', '1.25e-07', '1.25e-07', '1.25e-07', '1.25e-07', '1.25e-07', '1.25e-07', '2.50e-06', '2.50e-06', '2.50e-06', '2.50e-06', '1.25e-07', '1.25e-07', '1.25e-07', '1.25e-07', '1.25e-07', '1.25e-07', '1.25e-07', '1.25e-07', '1.25e-07', '2.50e-06', '2.50e-06', '2.50e-06', '2.50e-06', '1.25e-07', '1.25e-07', '1.25e-07', '1.25e-07', '1.25e-07', '1.25e-07', '1.25e-07', '1.25e-07', '1.25e-07', '2.50e-06', '2.50e-06', '2.50e-06', '2.50e-06', '1.25e-07', '1.25e-07', '1.25e-07', '1.25e-07', '1.25e-07', '1.25e-07', '1.25e-07', '1.25e-07', '1.25e-07', '2.50e-06', '2.50e-06', '2.50e-06', '2.50e-06', '1.25e-07', '1.25e-07', '1.25e-07', '1.25e-07', '1.25e-07', '1.25e-07', '1.25e-07', '1.25e-07', '1.25e-07', '2.50e-06', '2.50e-06', '2.50e-06', '2.50e-06', '1.25e-07', '1.25e-07', '1.25e-07', '1.25e-07', '1.25e-07', '1.25e-07', '1.25e-07', '1.25e-07', '1.25e-07', '2.50e-06', '2.50e-06', '2.50e-06', '2.50e-06', '2.50e-06', '2.50e-06', '1.25e-07', '1.25e-07']\n",
      "   Batch 0/252 - Loss: 0.4997\n",
      "   Batch 10/252 - Loss: 0.4710\n",
      "   Batch 20/252 - Loss: 0.4813\n",
      "   Batch 30/252 - Loss: 0.6410\n",
      "   Batch 40/252 - Loss: 0.3438\n",
      "   Batch 50/252 - Loss: 0.4431\n",
      "   Batch 60/252 - Loss: 0.3969\n",
      "   Batch 70/252 - Loss: 0.5980\n",
      "   Batch 80/252 - Loss: 0.2840\n",
      "   Batch 90/252 - Loss: 0.3562\n",
      "   Batch 100/252 - Loss: 0.2873\n",
      "   Batch 110/252 - Loss: 0.3453\n",
      "   Batch 120/252 - Loss: 0.3749\n",
      "   Batch 130/252 - Loss: 0.3376\n",
      "   Batch 140/252 - Loss: 0.5283\n",
      "   Batch 150/252 - Loss: 0.3093\n",
      "   Batch 160/252 - Loss: 0.4672\n",
      "   Batch 170/252 - Loss: 0.4622\n",
      "   Batch 180/252 - Loss: 0.3850\n",
      "   Batch 190/252 - Loss: 0.7449\n",
      "   Batch 200/252 - Loss: 0.5831\n",
      "   Batch 210/252 - Loss: 0.5080\n",
      "   Batch 220/252 - Loss: 0.5467\n",
      "   Batch 230/252 - Loss: 0.6432\n",
      "   Batch 240/252 - Loss: 0.5238\n",
      "   Batch 250/252 - Loss: 0.6455\n"
     ]
    },
    {
     "name": "stderr",
     "output_type": "stream",
     "text": [
      "Validating: 100%|██████████| 5/5 [00:02<00:00,  1.85it/s]\n"
     ]
    },
    {
     "name": "stdout",
     "output_type": "stream",
     "text": [
      "\n",
      "📈 Epoch 12 Summary:\n",
      "   Train Loss: 0.4609 | Train Acc: 0.9092\n",
      "   Val Loss: 0.7178 | Val Acc: 0.8356 | F1-Score: 0.8141\n",
      "   ⏳ No improvement (5/7)\n",
      "\n",
      "============================================================\n",
      "🎯 Enhanced Fine-Tuning Epoch 13/25\n",
      "============================================================\n",
      "📊 Learning Rates: ['1.25e-07', '1.25e-07', '1.25e-07', '1.25e-07', '1.25e-07', '1.25e-07', '1.25e-07', '1.25e-07', '1.25e-07', '1.25e-07', '1.25e-07', '1.25e-07', '1.25e-07', '2.50e-06', '2.50e-06', '2.50e-06', '2.50e-06', '1.25e-07', '1.25e-07', '1.25e-07', '1.25e-07', '1.25e-07', '1.25e-07', '1.25e-07', '1.25e-07', '1.25e-07', '2.50e-06', '2.50e-06', '2.50e-06', '2.50e-06', '1.25e-07', '1.25e-07', '1.25e-07', '1.25e-07', '1.25e-07', '1.25e-07', '1.25e-07', '1.25e-07', '1.25e-07', '2.50e-06', '2.50e-06', '2.50e-06', '2.50e-06', '1.25e-07', '1.25e-07', '1.25e-07', '1.25e-07', '1.25e-07', '1.25e-07', '1.25e-07', '1.25e-07', '1.25e-07', '2.50e-06', '2.50e-06', '2.50e-06', '2.50e-06', '1.25e-07', '1.25e-07', '1.25e-07', '1.25e-07', '1.25e-07', '1.25e-07', '1.25e-07', '1.25e-07', '1.25e-07', '2.50e-06', '2.50e-06', '2.50e-06', '2.50e-06', '1.25e-07', '1.25e-07', '1.25e-07', '1.25e-07', '1.25e-07', '1.25e-07', '1.25e-07', '1.25e-07', '1.25e-07', '2.50e-06', '2.50e-06', '2.50e-06', '2.50e-06', '1.25e-07', '1.25e-07', '1.25e-07', '1.25e-07', '1.25e-07', '1.25e-07', '1.25e-07', '1.25e-07', '1.25e-07', '2.50e-06', '2.50e-06', '2.50e-06', '2.50e-06', '1.25e-07', '1.25e-07', '1.25e-07', '1.25e-07', '1.25e-07', '1.25e-07', '1.25e-07', '1.25e-07', '1.25e-07', '2.50e-06', '2.50e-06', '2.50e-06', '2.50e-06', '1.25e-07', '1.25e-07', '1.25e-07', '1.25e-07', '1.25e-07', '1.25e-07', '1.25e-07', '1.25e-07', '1.25e-07', '2.50e-06', '2.50e-06', '2.50e-06', '2.50e-06', '1.25e-07', '1.25e-07', '1.25e-07', '1.25e-07', '1.25e-07', '1.25e-07', '1.25e-07', '1.25e-07', '1.25e-07', '2.50e-06', '2.50e-06', '2.50e-06', '2.50e-06', '1.25e-07', '1.25e-07', '1.25e-07', '1.25e-07', '1.25e-07', '1.25e-07', '1.25e-07', '1.25e-07', '1.25e-07', '2.50e-06', '2.50e-06', '2.50e-06', '2.50e-06', '1.25e-07', '1.25e-07', '1.25e-07', '1.25e-07', '1.25e-07', '1.25e-07', '1.25e-07', '1.25e-07', '1.25e-07', '2.50e-06', '2.50e-06', '2.50e-06', '2.50e-06', '2.50e-06', '2.50e-06', '1.25e-07', '1.25e-07']\n",
      "   Batch 0/252 - Loss: 0.4981\n",
      "   Batch 10/252 - Loss: 0.4977\n",
      "   Batch 20/252 - Loss: 0.4160\n",
      "   Batch 30/252 - Loss: 0.6360\n",
      "   Batch 40/252 - Loss: 0.3519\n",
      "   Batch 50/252 - Loss: 1.0103\n",
      "   Batch 60/252 - Loss: 0.4630\n",
      "   Batch 70/252 - Loss: 0.3361\n",
      "   Batch 80/252 - Loss: 0.3966\n",
      "   Batch 90/252 - Loss: 0.4529\n",
      "   Batch 100/252 - Loss: 0.6060\n",
      "   Batch 110/252 - Loss: 0.4957\n",
      "   Batch 120/252 - Loss: 0.3091\n",
      "   Batch 130/252 - Loss: 0.4195\n",
      "   Batch 140/252 - Loss: 0.3976\n",
      "   Batch 150/252 - Loss: 0.8728\n",
      "   Batch 160/252 - Loss: 0.5499\n",
      "   Batch 170/252 - Loss: 0.5540\n",
      "   Batch 180/252 - Loss: 0.4435\n",
      "   Batch 190/252 - Loss: 0.6672\n",
      "   Batch 200/252 - Loss: 0.3588\n",
      "   Batch 210/252 - Loss: 0.7107\n",
      "   Batch 220/252 - Loss: 0.5525\n",
      "   Batch 230/252 - Loss: 0.3385\n",
      "   Batch 240/252 - Loss: 0.6002\n",
      "   Batch 250/252 - Loss: 0.4402\n"
     ]
    },
    {
     "name": "stderr",
     "output_type": "stream",
     "text": [
      "Validating: 100%|██████████| 5/5 [00:02<00:00,  1.77it/s]\n"
     ]
    },
    {
     "name": "stdout",
     "output_type": "stream",
     "text": [
      "\n",
      "📈 Epoch 13 Summary:\n",
      "   Train Loss: 0.4476 | Train Acc: 0.9164\n",
      "   Val Loss: 0.7470 | Val Acc: 0.8219 | F1-Score: 0.7944\n",
      "   ⏳ No improvement (6/7)\n",
      "\n",
      "============================================================\n",
      "🎯 Enhanced Fine-Tuning Epoch 14/25\n",
      "============================================================\n",
      "📊 Learning Rates: ['1.25e-07', '1.25e-07', '1.25e-07', '1.25e-07', '1.25e-07', '1.25e-07', '1.25e-07', '1.25e-07', '1.25e-07', '1.25e-07', '1.25e-07', '1.25e-07', '1.25e-07', '2.50e-06', '2.50e-06', '2.50e-06', '2.50e-06', '1.25e-07', '1.25e-07', '1.25e-07', '1.25e-07', '1.25e-07', '1.25e-07', '1.25e-07', '1.25e-07', '1.25e-07', '2.50e-06', '2.50e-06', '2.50e-06', '2.50e-06', '1.25e-07', '1.25e-07', '1.25e-07', '1.25e-07', '1.25e-07', '1.25e-07', '1.25e-07', '1.25e-07', '1.25e-07', '2.50e-06', '2.50e-06', '2.50e-06', '2.50e-06', '1.25e-07', '1.25e-07', '1.25e-07', '1.25e-07', '1.25e-07', '1.25e-07', '1.25e-07', '1.25e-07', '1.25e-07', '2.50e-06', '2.50e-06', '2.50e-06', '2.50e-06', '1.25e-07', '1.25e-07', '1.25e-07', '1.25e-07', '1.25e-07', '1.25e-07', '1.25e-07', '1.25e-07', '1.25e-07', '2.50e-06', '2.50e-06', '2.50e-06', '2.50e-06', '1.25e-07', '1.25e-07', '1.25e-07', '1.25e-07', '1.25e-07', '1.25e-07', '1.25e-07', '1.25e-07', '1.25e-07', '2.50e-06', '2.50e-06', '2.50e-06', '2.50e-06', '1.25e-07', '1.25e-07', '1.25e-07', '1.25e-07', '1.25e-07', '1.25e-07', '1.25e-07', '1.25e-07', '1.25e-07', '2.50e-06', '2.50e-06', '2.50e-06', '2.50e-06', '1.25e-07', '1.25e-07', '1.25e-07', '1.25e-07', '1.25e-07', '1.25e-07', '1.25e-07', '1.25e-07', '1.25e-07', '2.50e-06', '2.50e-06', '2.50e-06', '2.50e-06', '1.25e-07', '1.25e-07', '1.25e-07', '1.25e-07', '1.25e-07', '1.25e-07', '1.25e-07', '1.25e-07', '1.25e-07', '2.50e-06', '2.50e-06', '2.50e-06', '2.50e-06', '1.25e-07', '1.25e-07', '1.25e-07', '1.25e-07', '1.25e-07', '1.25e-07', '1.25e-07', '1.25e-07', '1.25e-07', '2.50e-06', '2.50e-06', '2.50e-06', '2.50e-06', '1.25e-07', '1.25e-07', '1.25e-07', '1.25e-07', '1.25e-07', '1.25e-07', '1.25e-07', '1.25e-07', '1.25e-07', '2.50e-06', '2.50e-06', '2.50e-06', '2.50e-06', '1.25e-07', '1.25e-07', '1.25e-07', '1.25e-07', '1.25e-07', '1.25e-07', '1.25e-07', '1.25e-07', '1.25e-07', '2.50e-06', '2.50e-06', '2.50e-06', '2.50e-06', '2.50e-06', '2.50e-06', '1.25e-07', '1.25e-07']\n",
      "   Batch 0/252 - Loss: 0.5183\n",
      "   Batch 10/252 - Loss: 0.2739\n",
      "   Batch 20/252 - Loss: 0.5859\n",
      "   Batch 30/252 - Loss: 0.2719\n",
      "   Batch 40/252 - Loss: 0.3109\n",
      "   Batch 50/252 - Loss: 0.3685\n",
      "   Batch 60/252 - Loss: 0.5353\n",
      "   Batch 70/252 - Loss: 0.4610\n",
      "   Batch 80/252 - Loss: 0.5574\n",
      "   Batch 90/252 - Loss: 0.4060\n",
      "   Batch 100/252 - Loss: 0.4753\n",
      "   Batch 110/252 - Loss: 0.3552\n",
      "   Batch 120/252 - Loss: 0.4637\n",
      "   Batch 130/252 - Loss: 0.2920\n",
      "   Batch 140/252 - Loss: 0.3549\n",
      "   Batch 150/252 - Loss: 0.2994\n",
      "   Batch 160/252 - Loss: 0.4301\n",
      "   Batch 170/252 - Loss: 0.5986\n",
      "   Batch 180/252 - Loss: 0.7150\n",
      "   Batch 190/252 - Loss: 0.4281\n",
      "   Batch 200/252 - Loss: 0.3229\n",
      "   Batch 210/252 - Loss: 0.3833\n",
      "   Batch 220/252 - Loss: 0.3412\n",
      "   Batch 230/252 - Loss: 0.3957\n",
      "   Batch 240/252 - Loss: 0.2595\n",
      "   Batch 250/252 - Loss: 0.3451\n"
     ]
    },
    {
     "name": "stderr",
     "output_type": "stream",
     "text": [
      "Validating: 100%|██████████| 5/5 [00:02<00:00,  1.79it/s]\n"
     ]
    },
    {
     "name": "stdout",
     "output_type": "stream",
     "text": [
      "\n",
      "📈 Epoch 14 Summary:\n",
      "   Train Loss: 0.4442 | Train Acc: 0.9137\n",
      "   Val Loss: 0.7334 | Val Acc: 0.8356 | F1-Score: 0.8174\n",
      "   ⏳ No improvement (7/7)\n",
      "🛑 Early stopping triggered after 14 epochs\n",
      "\n",
      "============================================================\n",
      "✅ ENHANCED FINE-TUNING COMPLETE!\n",
      "============================================================\n",
      "🏆 Best accuracy achieved: 0.8493\n",
      "📊 Best loss achieved: 0.7296\n",
      "✅ Loaded best fine-tuned model for final evaluation\n",
      "\n",
      "🎯 FINAL VALIDATION ACCURACY: 0.8493\n",
      "\n",
      "📋 Classification Report:\n",
      "                        precision    recall  f1-score   support\n",
      "\n",
      "             Dysarthia       1.00      1.00      1.00        13\n",
      "            Laryngitis       0.77      0.77      0.77        13\n",
      "           Laryngozele       0.67      0.50      0.57         8\n",
      "           Vox senilis       0.71      0.77      0.74        13\n",
      "             parkinson       1.00      1.00      1.00        13\n",
      "spasmodische_dysphonie       0.86      0.92      0.89        13\n",
      "\n",
      "              accuracy                           0.85        73\n",
      "             macro avg       0.83      0.83      0.83        73\n",
      "          weighted avg       0.85      0.85      0.85        73\n",
      "\n",
      "\n",
      "📊 Confusion Matrix:\n",
      "[[13  0  0  0  0  0]\n",
      " [ 0 10  0  1  0  2]\n",
      " [ 0  2  4  2  0  0]\n",
      " [ 0  1  2 10  0  0]\n",
      " [ 0  0  0  0 13  0]\n",
      " [ 0  0  0  1  0 12]]\n"
     ]
    },
    {
     "data": {
      "image/png": "[encoded data removed]",
      "text/plain": [
       "<Figure size 1500x500 with 3 Axes>"
      ]
     },
     "metadata": {},
     "output_type": "display_data"
    },
    {
     "name": "stdout",
     "output_type": "stream",
     "text": [
      "\n",
      "💾 Best fine-tuned model saved to 'best_finetuned_model.pth'\n",
      "📈 Training history plot saved as 'fine_tuning_history.png'\n",
      "🎯 Training completed with best validation accuracy: 0.8493\n"
     ]
    }
   ],
   "source": [
    "# %%\n",
    "# =============================================================================\n",
    "# ENHANCED FINAL LOW-LEARNING-RATE FINE-TUNING (FIXED VERSION)\n",
    "# =============================================================================\n",
    "import torch\n",
    "import torch.nn as nn\n",
    "import torch.optim as optim\n",
    "from torch.optim.lr_scheduler import CosineAnnealingLR, ReduceLROnPlateau\n",
    "from torchvision import datasets, transforms\n",
    "from torch.utils.data import DataLoader\n",
    "import os\n",
    "import numpy as np\n",
    "from sklearn.metrics import classification_report, confusion_matrix\n",
    "import matplotlib.pyplot as plt\n",
    "import torch.nn.functional as F\n",
    "\n",
    "print(\"\\n🚀 STARTING ENHANCED FINAL FINE-TUNING PHASE 🚀\")\n",
    "\n",
    "# --- 1. Enhanced Configuration for Fine-Tuning ---\n",
    "FT_EPOCHS = 25  # Increased epochs for better convergence\n",
    "FT_LEARNING_RATE = 5e-7  # Slightly higher but still conservative\n",
    "BEST_MODEL_PATH = 'best_model.pth'\n",
    "FINETUNED_MODEL_PATH = 'best_finetuned_model.pth'\n",
    "\n",
    "# --- 2. Enhanced Data Preparation ---\n",
    "print(\"\\n--- Preparing enhanced data and model for fine-tuning ---\")\n",
    "device = torch.device(\"cuda\" if torch.cuda.is_available() else \"cpu\")\n",
    "\n",
    "# Enhanced transforms with mild augmentation to prevent overfitting\n",
    "ft_transform_train = transforms.Compose([\n",
    "    transforms.Resize((config['img_size'], config['img_size'])),\n",
    "    transforms.RandomHorizontalFlip(p=0.3),  # Mild augmentation\n",
    "    transforms.RandomRotation(5),  # Small rotation\n",
    "    transforms.ColorJitter(brightness=0.1, contrast=0.1, saturation=0.1, hue=0.1),\n",
    "    transforms.ToTensor(),\n",
    "    transforms.Normalize(mean=[0.485, 0.456, 0.406], std=[0.229, 0.224, 0.225]),\n",
    "    transforms.RandomErasing(p=0.1),  # Regularization\n",
    "])\n",
    "\n",
    "ft_transform_val = transforms.Compose([\n",
    "    transforms.Resize((config['img_size'], config['img_size'])),\n",
    "    transforms.ToTensor(),\n",
    "    transforms.Normalize(mean=[0.485, 0.456, 0.406], std=[0.229, 0.224, 0.225]),\n",
    "])\n",
    "\n",
    "# Create datasets\n",
    "train_dataset_ft = datasets.ImageFolder(root=os.path.join(config['data_path'], 'train'), transform=ft_transform_train)\n",
    "val_dataset_ft = datasets.ImageFolder(root=os.path.join(config['data_path'], 'validation'), transform=ft_transform_val)\n",
    "\n",
    "print(f\"📊 Training samples: {len(train_dataset_ft)}\")\n",
    "print(f\"📊 Validation samples: {len(val_dataset_ft)}\")\n",
    "print(f\"📊 Classes: {train_dataset_ft.classes}\")\n",
    "\n",
    "# Calculate class distribution for debugging\n",
    "class_counts = {}\n",
    "for class_name, class_idx in train_dataset_ft.class_to_idx.items():\n",
    "    count = sum([1 for _, label in train_dataset_ft.samples if label == class_idx])\n",
    "    class_counts[class_name] = count\n",
    "    print(f\"   {class_name}: {count} samples\")\n",
    "\n",
    "# FIXED: Use simple shuffling instead of WeightedRandomSampler to avoid the error\n",
    "train_loader_ft = DataLoader(\n",
    "    train_dataset_ft, \n",
    "    batch_size=config['batch_size'], \n",
    "    shuffle=True,  # Simple shuffling instead of weighted sampler\n",
    "    num_workers=config['num_workers'], \n",
    "    pin_memory=config['pin_memory']\n",
    ")\n",
    "val_loader_ft = DataLoader(\n",
    "    val_dataset_ft, \n",
    "    batch_size=config['batch_size'], \n",
    "    shuffle=False, \n",
    "    num_workers=config['num_workers'], \n",
    "    pin_memory=config['pin_memory']\n",
    ")\n",
    "\n",
    "# --- 3. Enhanced Model Loading and Setup ---\n",
    "model.load_state_dict(torch.load(BEST_MODEL_PATH))\n",
    "model.to(device)\n",
    "print(f\"✅ Successfully loaded weights from '{BEST_MODEL_PATH}'\")\n",
    "\n",
    "# Different learning rates for different layers (discriminative learning rates)\n",
    "print(\"\\n🔧 Setting up discriminative learning rates...\")\n",
    "params_group = []\n",
    "\n",
    "# Check model architecture to identify layer names\n",
    "for name, param in model.named_parameters():\n",
    "    if not param.requires_grad:\n",
    "        continue\n",
    "        \n",
    "    # Adjust these conditions based on your specific model architecture\n",
    "    if 'classifier' in name or 'fc' in name:  # Classifier layers\n",
    "        params_group.append({'params': param, 'lr': FT_LEARNING_RATE * 10})\n",
    "        print(f\"   📈 High LR ({FT_LEARNING_RATE * 10:.2e}): {name}\")\n",
    "    elif 'features.16' in name or 'layer4' in name or 'features.15' in name:  # Last feature layers\n",
    "        params_group.append({'params': param, 'lr': FT_LEARNING_RATE * 2})\n",
    "        print(f\"   📊 Medium LR ({FT_LEARNING_RATE * 2:.2e}): {name}\")\n",
    "    else:  # Earlier layers - very low LR\n",
    "        params_group.append({'params': param, 'lr': FT_LEARNING_RATE * 0.5})\n",
    "        print(f\"   📉 Low LR ({FT_LEARNING_RATE * 0.5:.2e}): {name}\")\n",
    "\n",
    "optimizer_ft = optim.AdamW(params_group, weight_decay=config['weight_decay'])\n",
    "\n",
    "# Enhanced scheduler with plateau detection\n",
    "scheduler_ft = ReduceLROnPlateau(optimizer_ft, mode='max', patience=3, factor=0.5, verbose=True)\n",
    "\n",
    "# Enhanced loss function with label smoothing\n",
    "class LabelSmoothingCrossEntropy(nn.Module):\n",
    "    def __init__(self, smoothing=0.1):\n",
    "        super(LabelSmoothingCrossEntropy, self).__init__()\n",
    "        self.smoothing = smoothing\n",
    "        \n",
    "    def forward(self, x, target):\n",
    "        confidence = 1. - self.smoothing\n",
    "        logprobs = F.log_softmax(x, dim=-1)\n",
    "        nll_loss = -logprobs.gather(dim=-1, index=target.unsqueeze(1))\n",
    "        nll_loss = nll_loss.squeeze(1)\n",
    "        smooth_loss = -logprobs.mean(dim=-1)\n",
    "        loss = confidence * nll_loss + self.smoothing * smooth_loss\n",
    "        return loss.mean()\n",
    "\n",
    "criterion_ft = LabelSmoothingCrossEntropy(smoothing=0.05)\n",
    "# Alternative: use standard CrossEntropyLoss if you prefer\n",
    "# criterion_ft = nn.CrossEntropyLoss()\n",
    "\n",
    "# --- 4. Enhanced Training Loop with Additional Metrics ---\n",
    "best_ft_acc = 0.0\n",
    "best_ft_loss = float('inf')\n",
    "patience_counter = 0\n",
    "early_stopping_patience = 7\n",
    "\n",
    "# Track metrics for analysis\n",
    "train_losses = []\n",
    "val_losses = []\n",
    "val_accuracies = []\n",
    "learning_rates = []\n",
    "\n",
    "def calculate_f1_score(model, dataloader, device):\n",
    "    \"\"\"Calculate F1 score for better evaluation\"\"\"\n",
    "    model.eval()\n",
    "    all_preds = []\n",
    "    all_targets = []\n",
    "    \n",
    "    with torch.no_grad():\n",
    "        for images, targets in dataloader:\n",
    "            images, targets = images.to(device), targets.to(device)\n",
    "            outputs = model(images)\n",
    "            _, preds = torch.max(outputs, 1)\n",
    "            all_preds.extend(preds.cpu().numpy())\n",
    "            all_targets.extend(targets.cpu().numpy())\n",
    "    \n",
    "    report = classification_report(all_targets, all_preds, output_dict=True, zero_division=0)\n",
    "    return report['macro avg']['f1-score']\n",
    "\n",
    "print(\"\\n🎯 Starting enhanced fine-tuning...\")\n",
    "for epoch in range(FT_EPOCHS):\n",
    "    print(f\"\\n{'='*60}\")\n",
    "    print(f\"🎯 Enhanced Fine-Tuning Epoch {epoch+1}/{FT_EPOCHS}\")\n",
    "    print(f\"{'='*60}\")\n",
    "    \n",
    "    # Print learning rates for different parameter groups\n",
    "    current_lrs = []\n",
    "    for i, param_group in enumerate(optimizer_ft.param_groups):\n",
    "        current_lrs.append(param_group['lr'])\n",
    "    print(f\"📊 Learning Rates: {[f'{lr:.2e}' for lr in current_lrs]}\")\n",
    "    learning_rates.append(current_lrs[0])  # Track first group's LR\n",
    "\n",
    "    # Training phase with gradient clipping\n",
    "    model.train()\n",
    "    epoch_train_loss = 0\n",
    "    correct_predictions = 0\n",
    "    total_samples = 0\n",
    "    \n",
    "    for batch_idx, (images, targets) in enumerate(train_loader_ft):\n",
    "        images, targets = images.to(device), targets.to(device)\n",
    "        \n",
    "        optimizer_ft.zero_grad()\n",
    "        outputs = model(images)\n",
    "        loss = criterion_ft(outputs, targets)\n",
    "        loss.backward()\n",
    "        \n",
    "        # Gradient clipping to prevent exploding gradients\n",
    "        torch.nn.utils.clip_grad_norm_(model.parameters(), max_norm=1.0)\n",
    "        optimizer_ft.step()\n",
    "        \n",
    "        epoch_train_loss += loss.item()\n",
    "        \n",
    "        # Calculate training accuracy\n",
    "        _, preds = torch.max(outputs, 1)\n",
    "        correct_predictions += (preds == targets).sum().item()\n",
    "        total_samples += targets.size(0)\n",
    "        \n",
    "        if batch_idx % 10 == 0:  # Print every 10 batches\n",
    "            print(f\"   Batch {batch_idx}/{len(train_loader_ft)} - Loss: {loss.item():.4f}\")\n",
    "    \n",
    "    train_loss = epoch_train_loss / len(train_loader_ft)\n",
    "    train_acc = correct_predictions / total_samples\n",
    "    \n",
    "    # Validation phase\n",
    "    val_loss, val_acc = validate_one_epoch(model, val_loader_ft, criterion_ft, device)\n",
    "    \n",
    "    # Calculate F1 score\n",
    "    f1_score = calculate_f1_score(model, val_loader_ft, device)\n",
    "    \n",
    "    # Update scheduler based on validation accuracy\n",
    "    scheduler_ft.step(val_acc)\n",
    "    \n",
    "    # Track metrics\n",
    "    train_losses.append(train_loss)\n",
    "    val_losses.append(val_loss)\n",
    "    val_accuracies.append(val_acc)\n",
    "    \n",
    "    print(f\"\\n📈 Epoch {epoch+1} Summary:\")\n",
    "    print(f\"   Train Loss: {train_loss:.4f} | Train Acc: {train_acc:.4f}\")\n",
    "    print(f\"   Val Loss: {val_loss:.4f} | Val Acc: {val_acc:.4f} | F1-Score: {f1_score:.4f}\")\n",
    "\n",
    "    # Enhanced model saving with multiple criteria\n",
    "    save_model = False\n",
    "    improvement_message = \"\"\n",
    "    \n",
    "    if val_acc > best_ft_acc + 0.0005:  # Significant improvement in accuracy\n",
    "        best_ft_acc = val_acc\n",
    "        best_ft_loss = val_loss\n",
    "        save_model = True\n",
    "        patience_counter = 0\n",
    "        improvement_message = f\"💾 New best accuracy! Accuracy: {val_acc:.4f}\"\n",
    "    elif val_acc >= best_ft_acc and val_loss < best_ft_loss - 0.01:  # Same accuracy but lower loss\n",
    "        best_ft_loss = val_loss\n",
    "        save_model = True\n",
    "        improvement_message = f\"💾 Lower loss model! Acc: {val_acc:.4f}, Loss: {val_loss:.4f}\"\n",
    "    else:\n",
    "        patience_counter += 1\n",
    "        improvement_message = f\"⏳ No improvement ({patience_counter}/{early_stopping_patience})\"\n",
    "    \n",
    "    if save_model:\n",
    "        torch.save({\n",
    "            'epoch': epoch,\n",
    "            'model_state_dict': model.state_dict(),\n",
    "            'optimizer_state_dict': optimizer_ft.state_dict(),\n",
    "            'val_acc': val_acc,\n",
    "            'val_loss': val_loss,\n",
    "            'f1_score': f1_score,\n",
    "            'train_loss': train_loss,\n",
    "            'train_acc': train_acc\n",
    "        }, FINETUNED_MODEL_PATH)\n",
    "        print(f\"   {improvement_message}\")\n",
    "    else:\n",
    "        print(f\"   {improvement_message}\")\n",
    "    \n",
    "    # Early stopping\n",
    "    if patience_counter >= early_stopping_patience:\n",
    "        print(f\"🛑 Early stopping triggered after {epoch+1} epochs\")\n",
    "        break\n",
    "\n",
    "# --- 5. Final Evaluation and Analysis ---\n",
    "print(f\"\\n{'='*60}\")\n",
    "print(\"✅ ENHANCED FINE-TUNING COMPLETE!\")\n",
    "print(f\"{'='*60}\")\n",
    "print(f\"🏆 Best accuracy achieved: {best_ft_acc:.4f}\")\n",
    "print(f\"📊 Best loss achieved: {best_ft_loss:.4f}\")\n",
    "\n",
    "# Load best model for final evaluation\n",
    "if os.path.exists(FINETUNED_MODEL_PATH):\n",
    "    checkpoint = torch.load(FINETUNED_MODEL_PATH)\n",
    "    model.load_state_dict(checkpoint['model_state_dict'])\n",
    "    print(\"✅ Loaded best fine-tuned model for final evaluation\")\n",
    "\n",
    "# Final comprehensive evaluation\n",
    "model.eval()\n",
    "all_preds = []\n",
    "all_targets = []\n",
    "all_probs = []\n",
    "\n",
    "with torch.no_grad():\n",
    "    for images, targets in val_loader_ft:\n",
    "        images, targets = images.to(device), targets.to(device)\n",
    "        outputs = model(images)\n",
    "        probs = torch.softmax(outputs, dim=1)\n",
    "        _, preds = torch.max(outputs, 1)\n",
    "        \n",
    "        all_preds.extend(preds.cpu().numpy())\n",
    "        all_targets.extend(targets.cpu().numpy())\n",
    "        all_probs.extend(probs.cpu().numpy())\n",
    "\n",
    "# Calculate final metrics\n",
    "from sklearn.metrics import accuracy_score, classification_report, confusion_matrix\n",
    "\n",
    "final_accuracy = accuracy_score(all_targets, all_preds)\n",
    "print(f\"\\n🎯 FINAL VALIDATION ACCURACY: {final_accuracy:.4f}\")\n",
    "\n",
    "# Classification report\n",
    "print(\"\\n📋 Classification Report:\")\n",
    "print(classification_report(all_targets, all_preds, target_names=val_dataset_ft.classes, zero_division=0))\n",
    "\n",
    "# Confusion matrix\n",
    "cm = confusion_matrix(all_targets, all_preds)\n",
    "print(\"\\n📊 Confusion Matrix:\")\n",
    "print(cm)\n",
    "\n",
    "# Plot training history\n",
    "plt.figure(figsize=(15, 5))\n",
    "\n",
    "plt.subplot(1, 3, 1)\n",
    "plt.plot(train_losses, label='Train Loss', marker='o')\n",
    "plt.plot(val_losses, label='Val Loss', marker='s')\n",
    "plt.title('Training History - Loss')\n",
    "plt.xlabel('Epoch')\n",
    "plt.ylabel('Loss')\n",
    "plt.legend()\n",
    "plt.grid(True, alpha=0.3)\n",
    "\n",
    "plt.subplot(1, 3, 2)\n",
    "plt.plot(val_accuracies, label='Val Accuracy', color='green', marker='^')\n",
    "plt.title('Training History - Accuracy')\n",
    "plt.xlabel('Epoch')\n",
    "plt.ylabel('Accuracy')\n",
    "plt.legend()\n",
    "plt.grid(True, alpha=0.3)\n",
    "\n",
    "plt.subplot(1, 3, 3)\n",
    "plt.plot(learning_rates, label='Learning Rate', color='red', marker='d')\n",
    "plt.title('Learning Rate Schedule')\n",
    "plt.xlabel('Epoch')\n",
    "plt.ylabel('Learning Rate')\n",
    "plt.yscale('log')\n",
    "plt.legend()\n",
    "plt.grid(True, alpha=0.3)\n",
    "\n",
    "plt.tight_layout()\n",
    "plt.savefig('fine_tuning_history.png', dpi=300, bbox_inches='tight')\n",
    "plt.show()\n",
    "\n",
    "print(f\"\\n💾 Best fine-tuned model saved to '{FINETUNED_MODEL_PATH}'\")\n",
    "print(\"📈 Training history plot saved as 'fine_tuning_history.png'\")\n",
    "print(f\"🎯 Training completed with best validation accuracy: {best_ft_acc:.4f}\")"
   ]
  },
  {
   "cell_type": "code",
   "execution_count": 15,
   "metadata": {},
   "outputs": [
    {
     "data": {
      "image/png": "[encoded data removed]",
      "text/plain": [
       "<Figure size 1000x800 with 2 Axes>"
      ]
     },
     "metadata": {},
     "output_type": "display_data"
    },
    {
     "data": {
      "image/png": "[encoded data removed]",
      "text/plain": [
       "<Figure size 1000x800 with 2 Axes>"
      ]
     },
     "metadata": {},
     "output_type": "display_data"
    },
    {
     "name": "stdout",
     "output_type": "stream",
     "text": [
      "\n",
      "📊 DETAILED PERFORMANCE ANALYSIS:\n",
      "==================================================\n",
      "Dysarthia      : 1.0000 (100.00%)\n",
      "Laryngitis     : 0.7692 (76.92%)\n",
      "Laryngozele    : 0.5000 (50.00%)\n",
      "Vox senilis    : 0.7692 (76.92%)\n",
      "parkinson      : 1.0000 (100.00%)\n",
      "spasmodische_dysphonie: 0.9231 (92.31%)\n",
      "\n",
      "🏆 Best performing class: Dysarthia (1.0000)\n",
      "🔧 Worst performing class: Laryngozele (0.5000)\n",
      "\n",
      "🔍 TOP MISCLASSIFICATION PATTERNS:\n",
      "   Laryngitis → spasmodische_dysphonie: 2 samples (15.4%)\n",
      "   Laryngozele → Laryngitis: 2 samples (25.0%)\n",
      "   Laryngozele → Vox senilis: 2 samples (25.0%)\n",
      "   Vox senilis → Laryngozele: 2 samples (15.4%)\n",
      "   Laryngitis → Vox senilis: 1 samples (7.7%)\n"
     ]
    }
   ],
   "source": [
    "import seaborn as sns\n",
    "import matplotlib.pyplot as plt\n",
    "import pandas as pd\n",
    "from sklearn.metrics import confusion_matrix\n",
    "\n",
    "# Create a beautiful confusion matrix heatmap\n",
    "plt.figure(figsize=(10, 8))\n",
    "\n",
    "# Convert confusion matrix to DataFrame for better labeling\n",
    "cm_df = pd.DataFrame(cm, \n",
    "                     index=val_dataset_ft.classes, \n",
    "                     columns=val_dataset_ft.classes)\n",
    "\n",
    "# Create the heatmap\n",
    "ax = sns.heatmap(cm_df, \n",
    "                 annot=True, \n",
    "                 fmt='d', \n",
    "                 cmap='Blues',\n",
    "                 cbar_kws={'label': 'Number of Samples'},\n",
    "                 annot_kws={'size': 12, 'weight': 'bold'})\n",
    "\n",
    "# Customize the plot\n",
    "plt.title('Confusion Matrix - Fine-tuned Model\\n', fontsize=16, fontweight='bold', pad=20)\n",
    "plt.xlabel('Predicted Labels', fontsize=12, fontweight='bold')\n",
    "plt.ylabel('True Labels', fontsize=12, fontweight='bold')\n",
    "\n",
    "# Rotate x-axis labels for better readability\n",
    "plt.xticks(rotation=45, ha='right')\n",
    "plt.yticks(rotation=0)\n",
    "\n",
    "# Adjust layout to prevent label cutoff\n",
    "plt.tight_layout()\n",
    "\n",
    "# Add accuracy text\n",
    "plt.figtext(0.5, 0.01, f'Overall Accuracy: {final_accuracy:.4f} ({final_accuracy*100:.2f}%)', \n",
    "            ha='center', fontsize=12, style='italic', \n",
    "            bbox={'facecolor': 'lightgray', 'alpha': 0.7, 'pad': 5})\n",
    "\n",
    "plt.savefig('confusion_matrix.png', dpi=300, bbox_inches='tight')\n",
    "plt.show()\n",
    "\n",
    "# Additional: Normalized confusion matrix\n",
    "plt.figure(figsize=(10, 8))\n",
    "\n",
    "# Normalize confusion matrix by row (true labels)\n",
    "cm_normalized = cm.astype('float') / cm.sum(axis=1)[:, np.newaxis]\n",
    "cm_normalized_df = pd.DataFrame(cm_normalized, \n",
    "                               index=val_dataset_ft.classes, \n",
    "                               columns=val_dataset_ft.classes)\n",
    "\n",
    "# Create normalized heatmap\n",
    "ax2 = sns.heatmap(cm_normalized_df, \n",
    "                  annot=True, \n",
    "                  fmt='.2f', \n",
    "                  cmap='viridis',\n",
    "                  cbar_kws={'label': 'Percentage'},\n",
    "                  annot_kws={'size': 10, 'weight': 'bold'})\n",
    "\n",
    "plt.title('Normalized Confusion Matrix (by True Labels)\\n', fontsize=16, fontweight='bold', pad=20)\n",
    "plt.xlabel('Predicted Labels', fontsize=12, fontweight='bold')\n",
    "plt.ylabel('True Labels', fontsize=12, fontweight='bold')\n",
    "plt.xticks(rotation=45, ha='right')\n",
    "plt.yticks(rotation=0)\n",
    "\n",
    "plt.tight_layout()\n",
    "plt.savefig('confusion_matrix_normalized.png', dpi=300, bbox_inches='tight')\n",
    "plt.show()\n",
    "\n",
    "# Print detailed performance metrics\n",
    "print(\"\\n📊 DETAILED PERFORMANCE ANALYSIS:\")\n",
    "print(\"=\"*50)\n",
    "\n",
    "# Calculate per-class metrics\n",
    "class_accuracy = cm.diagonal() / cm.sum(axis=1)\n",
    "for i, class_name in enumerate(val_dataset_ft.classes):\n",
    "    print(f\"{class_name:<15}: {class_accuracy[i]:.4f} ({class_accuracy[i]*100:.2f}%)\")\n",
    "\n",
    "# Identify best and worst performing classes\n",
    "best_class_idx = np.argmax(class_accuracy)\n",
    "worst_class_idx = np.argmin(class_accuracy)\n",
    "\n",
    "print(f\"\\n🏆 Best performing class: {val_dataset_ft.classes[best_class_idx]} ({class_accuracy[best_class_idx]:.4f})\")\n",
    "print(f\"🔧 Worst performing class: {val_dataset_ft.classes[worst_class_idx]} ({class_accuracy[worst_class_idx]:.4f})\")\n",
    "\n",
    "# Calculate misclassification patterns\n",
    "print(f\"\\n🔍 TOP MISCLASSIFICATION PATTERNS:\")\n",
    "misclassifications = []\n",
    "for i in range(len(val_dataset_ft.classes)):\n",
    "    for j in range(len(val_dataset_ft.classes)):\n",
    "        if i != j and cm[i, j] > 0:\n",
    "            misclassifications.append((val_dataset_ft.classes[i], val_dataset_ft.classes[j], cm[i, j]))\n",
    "\n",
    "# Sort by frequency and show top 5\n",
    "misclassifications.sort(key=lambda x: x[2], reverse=True)\n",
    "for true_label, pred_label, count in misclassifications[:5]:\n",
    "    percentage = count / cm.sum(axis=1)[val_dataset_ft.classes.index(true_label)] * 100\n",
    "    print(f\"   {true_label} → {pred_label}: {count} samples ({percentage:.1f}%)\")"
   ]
  }
 ],
 "metadata": {
  "accelerator": "GPU",
  "colab": {
   "authorship_tag": "ABX9TyMBdA7ZzhWHBAs+RjmlFA9N",
   "gpuType": "T4",
   "provenance": []
  },
  "kernelspec": {
   "display_name": "Python 3",
   "name": "python3"
  },
  "language_info": {
   "codemirror_mode": {
    "name": "ipython",
    "version": 3
   },
   "file_extension": ".py",
   "mimetype": "text/x-python",
   "name": "python",
   "nbconvert_exporter": "python",
   "pygments_lexer": "ipython3",
   "version": "3.12.10"
  }
 },
 "nbformat": 4,
 "nbformat_minor": 0
}
